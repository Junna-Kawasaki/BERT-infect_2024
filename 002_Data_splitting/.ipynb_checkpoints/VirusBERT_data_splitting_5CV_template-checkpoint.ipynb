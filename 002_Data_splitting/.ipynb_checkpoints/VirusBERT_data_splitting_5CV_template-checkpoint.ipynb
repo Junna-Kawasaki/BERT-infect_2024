{
 "cells": [
  {
   "cell_type": "markdown",
   "metadata": {
    "toc": true
   },
   "source": [
    "<h1>Table of Contents<span class=\"tocSkip\"></span></h1>\n",
    "<div class=\"toc\"><ul class=\"toc-item\"><li><span><a href=\"#Inputs\" data-toc-modified-id=\"Inputs-1\"><span class=\"toc-item-num\">1&nbsp;&nbsp;</span>Inputs</a></span></li><li><span><a href=\"#splitting-viral-genomic-sequences-into-250-bp-fragments\" data-toc-modified-id=\"splitting-viral-genomic-sequences-into-250-bp-fragments-2\"><span class=\"toc-item-num\">2&nbsp;&nbsp;</span>splitting viral genomic sequences into 250-bp fragments</a></span></li><li><span><a href=\"#read-curated-data\" data-toc-modified-id=\"read-curated-data-3\"><span class=\"toc-item-num\">3&nbsp;&nbsp;</span>read curated data</a></span></li><li><span><a href=\"#data-splitting-for-five-fold-stratified-cross-validation\" data-toc-modified-id=\"data-splitting-for-five-fold-stratified-cross-validation-4\"><span class=\"toc-item-num\">4&nbsp;&nbsp;</span>data splitting for five-fold stratified cross-validation</a></span><ul class=\"toc-item\"><li><span><a href=\"#function-1:-five_cross_fold_val\" data-toc-modified-id=\"function-1:-five_cross_fold_val-4.1\"><span class=\"toc-item-num\">4.1&nbsp;&nbsp;</span>function 1: five_cross_fold_val</a></span></li><li><span><a href=\"#function-2:-confirmation-of-data-number-in-each-fold\" data-toc-modified-id=\"function-2:-confirmation-of-data-number-in-each-fold-4.2\"><span class=\"toc-item-num\">4.2&nbsp;&nbsp;</span>function 2: confirmation of data number in each fold</a></span></li><li><span><a href=\"#function-3:-read-fasta-file\" data-toc-modified-id=\"function-3:-read-fasta-file-4.3\"><span class=\"toc-item-num\">4.3&nbsp;&nbsp;</span>function 3: read fasta file</a></span></li><li><span><a href=\"#function-4:-4-mer-tokenizer\" data-toc-modified-id=\"function-4:-4-mer-tokenizer-4.4\"><span class=\"toc-item-num\">4.4&nbsp;&nbsp;</span>function 4: 4-mer tokenizer</a></span></li><li><span><a href=\"#function-5:-add-infectivity-label\" data-toc-modified-id=\"function-5:-add-infectivity-label-4.5\"><span class=\"toc-item-num\">4.5&nbsp;&nbsp;</span>function 5: add infectivity label</a></span></li><li><span><a href=\"#divide-data-into-past-and-future-datasets\" data-toc-modified-id=\"divide-data-into-past-and-future-datasets-4.6\"><span class=\"toc-item-num\">4.6&nbsp;&nbsp;</span>divide data into past and future datasets</a></span></li></ul></li><li><span><a href=\"#Main\" data-toc-modified-id=\"Main-5\"><span class=\"toc-item-num\">5&nbsp;&nbsp;</span>Main</a></span></li><li><span><a href=\"#confirm-data-number-for-each-fold\" data-toc-modified-id=\"confirm-data-number-for-each-fold-6\"><span class=\"toc-item-num\">6&nbsp;&nbsp;</span>confirm data number for each fold</a></span></li></ul></div>"
   ]
  },
  {
   "cell_type": "code",
   "execution_count": 138,
   "metadata": {
    "ExecuteTime": {
     "end_time": "2024-05-01T07:13:54.654720Z",
     "start_time": "2024-05-01T07:13:54.648957Z"
    }
   },
   "outputs": [],
   "source": [
    "#!/usr/bin/env python\n",
    "import sys, re\n",
    "argvs = sys.argv\n",
    "sys.setrecursionlimit(10000000)\n",
    "\n",
    "import os\n",
    "import collections\n",
    "import numpy as np\n",
    "import pandas as pd\n",
    "import array\n",
    "pd.set_option(\"display.max_colwidth\", 200)\n",
    "pd.set_option(\"display.max_columns\", 200)\n",
    "pd.set_option(\"display.max_rows\", 300)\n",
    "\n",
    "import glob\n",
    "\n",
    "## visualize\n",
    "import matplotlib\n",
    "import matplotlib.pyplot as plt\n",
    "import seaborn as sns\n",
    "sns.set()\n",
    "\n",
    "plt.rcParams['font.family'] = \"Arial\""
   ]
  },
  {
   "cell_type": "markdown",
   "metadata": {},
   "source": [
    "# Inputs"
   ]
  },
  {
   "cell_type": "code",
   "execution_count": 139,
   "metadata": {
    "ExecuteTime": {
     "end_time": "2024-05-01T07:13:54.672198Z",
     "start_time": "2024-05-01T07:13:54.669724Z"
    }
   },
   "outputs": [],
   "source": [
    "virus_family = \"Coronaviridae\""
   ]
  },
  {
   "cell_type": "markdown",
   "metadata": {},
   "source": [
    "# splitting viral genomic sequences into 250-bp fragments"
   ]
  },
  {
   "cell_type": "code",
   "execution_count": 140,
   "metadata": {
    "ExecuteTime": {
     "end_time": "2024-05-01T07:14:01.829193Z",
     "start_time": "2024-05-01T07:13:54.694615Z"
    },
    "run_control": {
     "marked": false
    },
    "scrolled": true
   },
   "outputs": [
    {
     "name": "stderr",
     "output_type": "stream",
     "text": [
      "[INFO]\u001b[0m flag -g (--remove-gaps) is switched on when using -m (--min-len) or -M (--max-len)\n"
     ]
    }
   ],
   "source": [
    "%%bash\n",
    "\n",
    "virus_family=\"Coronaviridae\"\n",
    "\n",
    "## quality control\n",
    "cat input_examples/${virus_family}.curated.fasta | \\\n",
    "    seqkit replace -s -p \"[^atcguATCGU]\" -r \"-\" \\\n",
    "    > output_examples/${virus_family}.curated.QC.fasta\n",
    "\n",
    "## split into subsequences\n",
    "cat output_examples/${virus_family}.curated.QC.fasta | \\\n",
    "    seqkit sliding -s 125 -W 250 --greedy | \\\n",
    "    seqkit seq -m 100 \\\n",
    "    > output_examples/${virus_family}.slide.250bp.fasta"
   ]
  },
  {
   "cell_type": "markdown",
   "metadata": {},
   "source": [
    "# read curated data"
   ]
  },
  {
   "cell_type": "code",
   "execution_count": 141,
   "metadata": {
    "ExecuteTime": {
     "end_time": "2024-05-01T07:14:01.884367Z",
     "start_time": "2024-05-01T07:14:01.831917Z"
    },
    "run_control": {
     "marked": true
    }
   },
   "outputs": [
    {
     "data": {
      "text/html": [
       "<div>\n",
       "<style scoped>\n",
       "    .dataframe tbody tr th:only-of-type {\n",
       "        vertical-align: middle;\n",
       "    }\n",
       "\n",
       "    .dataframe tbody tr th {\n",
       "        vertical-align: top;\n",
       "    }\n",
       "\n",
       "    .dataframe thead th {\n",
       "        text-align: right;\n",
       "    }\n",
       "</style>\n",
       "<table border=\"1\" class=\"dataframe\">\n",
       "  <thead>\n",
       "    <tr style=\"text-align: right;\">\n",
       "      <th></th>\n",
       "      <th>Accession</th>\n",
       "      <th>Organism_Name</th>\n",
       "      <th>SRA_Accession</th>\n",
       "      <th>Submitters</th>\n",
       "      <th>Organization</th>\n",
       "      <th>Org_location</th>\n",
       "      <th>Release_Date</th>\n",
       "      <th>Isolate</th>\n",
       "      <th>Species</th>\n",
       "      <th>Genus</th>\n",
       "      <th>Family</th>\n",
       "      <th>Molecule_type</th>\n",
       "      <th>Length</th>\n",
       "      <th>Sequence_Type</th>\n",
       "      <th>Nuc_Completeness</th>\n",
       "      <th>Genotype</th>\n",
       "      <th>Segment</th>\n",
       "      <th>Publications</th>\n",
       "      <th>Geo_Location</th>\n",
       "      <th>Country</th>\n",
       "      <th>USA</th>\n",
       "      <th>Host</th>\n",
       "      <th>Isolation_Source</th>\n",
       "      <th>Collection_Date</th>\n",
       "      <th>BioSample</th>\n",
       "      <th>BioProject</th>\n",
       "      <th>GenBank_Title</th>\n",
       "      <th>host_label</th>\n",
       "      <th>virus_ID</th>\n",
       "      <th>collection_year</th>\n",
       "      <th>dataset</th>\n",
       "    </tr>\n",
       "  </thead>\n",
       "  <tbody>\n",
       "    <tr>\n",
       "      <th>0</th>\n",
       "      <td>NC_054003</td>\n",
       "      <td>Alphacoronavirus sp.</td>\n",
       "      <td>NaN</td>\n",
       "      <td>O'Dea,M., Prada,D., Jackson,B., Boyd,V., Baker,M.</td>\n",
       "      <td>National Center for Biotechnology Information, NIH</td>\n",
       "      <td>USA</td>\n",
       "      <td>2023-05-04</td>\n",
       "      <td>WA1087</td>\n",
       "      <td>Alphacoronavirus sp.</td>\n",
       "      <td>Alphacoronavirus</td>\n",
       "      <td>Coronaviridae</td>\n",
       "      <td>ssRNA(+)</td>\n",
       "      <td>28170</td>\n",
       "      <td>RefSeq</td>\n",
       "      <td>complete</td>\n",
       "      <td>NaN</td>\n",
       "      <td>NaN</td>\n",
       "      <td>NaN</td>\n",
       "      <td>Australia</td>\n",
       "      <td>Australia</td>\n",
       "      <td>NaN</td>\n",
       "      <td>NaN</td>\n",
       "      <td>NaN</td>\n",
       "      <td>2018</td>\n",
       "      <td>NaN</td>\n",
       "      <td>PRJNA485481</td>\n",
       "      <td>Alphacoronavirus sp. isolate WA1087, complete genome</td>\n",
       "      <td>0</td>\n",
       "      <td>NC_054003</td>\n",
       "      <td>2018.0</td>\n",
       "      <td>unknown</td>\n",
       "    </tr>\n",
       "    <tr>\n",
       "      <th>1</th>\n",
       "      <td>NC_054004</td>\n",
       "      <td>Hipposideros pomona bat coronavirus CHB25</td>\n",
       "      <td>NaN</td>\n",
       "      <td>Li,B., Si,H.R., Zhu,Y., Yang,X.L., Anderson,D.E., Shi,Z.L., Wang,L.F., Zhou,P.</td>\n",
       "      <td>National Center for Biotechnology Information, NIH</td>\n",
       "      <td>USA</td>\n",
       "      <td>2023-05-04</td>\n",
       "      <td>CHB0025</td>\n",
       "      <td>Alphacoronavirus CHB25</td>\n",
       "      <td>Alphacoronavirus</td>\n",
       "      <td>Coronaviridae</td>\n",
       "      <td>ssRNA(+)</td>\n",
       "      <td>28169</td>\n",
       "      <td>RefSeq</td>\n",
       "      <td>complete</td>\n",
       "      <td>NaN</td>\n",
       "      <td>NaN</td>\n",
       "      <td>1.0</td>\n",
       "      <td>China</td>\n",
       "      <td>China</td>\n",
       "      <td>NaN</td>\n",
       "      <td>Hipposideros larvatus</td>\n",
       "      <td>NaN</td>\n",
       "      <td>2018-03</td>\n",
       "      <td>NaN</td>\n",
       "      <td>PRJNA485481</td>\n",
       "      <td>Hipposideros pomona bat coronavirus CHB25 isolate CHB0025, complete genome</td>\n",
       "      <td>0</td>\n",
       "      <td>NC_054004</td>\n",
       "      <td>2018.0</td>\n",
       "      <td>unknown</td>\n",
       "    </tr>\n",
       "    <tr>\n",
       "      <th>2</th>\n",
       "      <td>NC_054015</td>\n",
       "      <td>Tylonycteris bat coronavirus HKU33</td>\n",
       "      <td>NaN</td>\n",
       "      <td>Lau,S.K.P., Wong,A.C.P., Zhang,L., Luk,H.K.H., Kwok,J.S.L., Ahmed,S.S., Cai,J.P., Zhao,P.S.H., Teng,J.L.L., Tsui,S.K.W., Yuen,K.Y., Woo,P.C.Y., Li,K.S.M., Cai,J.-P.</td>\n",
       "      <td>National Center for Biotechnology Information, NIH</td>\n",
       "      <td>USA</td>\n",
       "      <td>2023-05-04</td>\n",
       "      <td>NaN</td>\n",
       "      <td>Alphacoronavirus HKU33</td>\n",
       "      <td>Alphacoronavirus</td>\n",
       "      <td>Coronaviridae</td>\n",
       "      <td>ssRNA(+)</td>\n",
       "      <td>27636</td>\n",
       "      <td>RefSeq</td>\n",
       "      <td>complete</td>\n",
       "      <td>NaN</td>\n",
       "      <td>NaN</td>\n",
       "      <td>1.0</td>\n",
       "      <td>China</td>\n",
       "      <td>China</td>\n",
       "      <td>NaN</td>\n",
       "      <td>Tylonycteris robustula</td>\n",
       "      <td>feces</td>\n",
       "      <td>2015-09-09</td>\n",
       "      <td>NaN</td>\n",
       "      <td>PRJNA485481</td>\n",
       "      <td>Tylonycteris bat coronavirus HKU33 strain GZ151867, complete genome</td>\n",
       "      <td>0</td>\n",
       "      <td>NC_054015</td>\n",
       "      <td>2015.0</td>\n",
       "      <td>known</td>\n",
       "    </tr>\n",
       "  </tbody>\n",
       "</table>\n",
       "</div>"
      ],
      "text/plain": [
       "   Accession                              Organism_Name SRA_Accession  \\\n",
       "0  NC_054003                       Alphacoronavirus sp.           NaN   \n",
       "1  NC_054004  Hipposideros pomona bat coronavirus CHB25           NaN   \n",
       "2  NC_054015         Tylonycteris bat coronavirus HKU33           NaN   \n",
       "\n",
       "                                                                                                                                                             Submitters  \\\n",
       "0                                                                                                                     O'Dea,M., Prada,D., Jackson,B., Boyd,V., Baker,M.   \n",
       "1                                                                                        Li,B., Si,H.R., Zhu,Y., Yang,X.L., Anderson,D.E., Shi,Z.L., Wang,L.F., Zhou,P.   \n",
       "2  Lau,S.K.P., Wong,A.C.P., Zhang,L., Luk,H.K.H., Kwok,J.S.L., Ahmed,S.S., Cai,J.P., Zhao,P.S.H., Teng,J.L.L., Tsui,S.K.W., Yuen,K.Y., Woo,P.C.Y., Li,K.S.M., Cai,J.-P.   \n",
       "\n",
       "                                         Organization Org_location  \\\n",
       "0  National Center for Biotechnology Information, NIH          USA   \n",
       "1  National Center for Biotechnology Information, NIH          USA   \n",
       "2  National Center for Biotechnology Information, NIH          USA   \n",
       "\n",
       "  Release_Date  Isolate                 Species             Genus  \\\n",
       "0   2023-05-04   WA1087    Alphacoronavirus sp.  Alphacoronavirus   \n",
       "1   2023-05-04  CHB0025  Alphacoronavirus CHB25  Alphacoronavirus   \n",
       "2   2023-05-04      NaN  Alphacoronavirus HKU33  Alphacoronavirus   \n",
       "\n",
       "          Family Molecule_type  Length Sequence_Type Nuc_Completeness  \\\n",
       "0  Coronaviridae      ssRNA(+)   28170        RefSeq         complete   \n",
       "1  Coronaviridae      ssRNA(+)   28169        RefSeq         complete   \n",
       "2  Coronaviridae      ssRNA(+)   27636        RefSeq         complete   \n",
       "\n",
       "  Genotype  Segment  Publications Geo_Location    Country  USA  \\\n",
       "0      NaN      NaN           NaN    Australia  Australia  NaN   \n",
       "1      NaN      NaN           1.0        China      China  NaN   \n",
       "2      NaN      NaN           1.0        China      China  NaN   \n",
       "\n",
       "                     Host Isolation_Source Collection_Date BioSample  \\\n",
       "0                     NaN              NaN            2018       NaN   \n",
       "1   Hipposideros larvatus              NaN         2018-03       NaN   \n",
       "2  Tylonycteris robustula            feces      2015-09-09       NaN   \n",
       "\n",
       "    BioProject  \\\n",
       "0  PRJNA485481   \n",
       "1  PRJNA485481   \n",
       "2  PRJNA485481   \n",
       "\n",
       "                                                                GenBank_Title  \\\n",
       "0                        Alphacoronavirus sp. isolate WA1087, complete genome   \n",
       "1  Hipposideros pomona bat coronavirus CHB25 isolate CHB0025, complete genome   \n",
       "2         Tylonycteris bat coronavirus HKU33 strain GZ151867, complete genome   \n",
       "\n",
       "   host_label   virus_ID  collection_year  dataset  \n",
       "0           0  NC_054003           2018.0  unknown  \n",
       "1           0  NC_054004           2018.0  unknown  \n",
       "2           0  NC_054015           2015.0    known  "
      ]
     },
     "execution_count": 141,
     "metadata": {},
     "output_type": "execute_result"
    }
   ],
   "source": [
    "dataset_f = \"/\".join(map(str, [\"input_examples\", virus_family + \".curated.csv\"]))\n",
    "\n",
    "df_dataset = pd.read_csv(dataset_f, sep=\"\\t\")\n",
    "df_dataset.head(3)"
   ]
  },
  {
   "cell_type": "markdown",
   "metadata": {},
   "source": [
    "# data splitting for five-fold stratified cross-validation"
   ]
  },
  {
   "cell_type": "markdown",
   "metadata": {},
   "source": [
    "## function 1: five_cross_fold_val"
   ]
  },
  {
   "cell_type": "code",
   "execution_count": 142,
   "metadata": {
    "ExecuteTime": {
     "end_time": "2024-05-01T07:14:01.896336Z",
     "start_time": "2024-05-01T07:14:01.885718Z"
    }
   },
   "outputs": [],
   "source": [
    "def five_cross_fold_val(df_dataset, virus):\n",
    "    from sklearn.model_selection import StratifiedGroupKFold, StratifiedKFold\n",
    "    from operator import itemgetter\n",
    "    from sklearn.model_selection import train_test_split\n",
    "    \n",
    "    # make virus information table\n",
    "    df_virus = df_dataset.loc[:, [\"virus_ID\", \"host_label\", \"Genus\"]].drop_duplicates()\n",
    "    df_virus.reset_index(drop=True, inplace=True)\n",
    "    X = df_virus[\"virus_ID\"].values.tolist()\n",
    "\n",
    "    ## define class based on the combination of infectivity label and virus genus\n",
    "    df_genus = df_dataset.loc[:, [\"host_label\", \"Genus\"]].drop_duplicates()\n",
    "    df_genus.reset_index(drop=True, inplace=True)\n",
    "    df_genus[\"class\"] = [\"class_\" + str(i) for i in df_genus.index.tolist()]\n",
    "\n",
    "    ## if a class contains < 5 sequences, define as \"others\" class\n",
    "    df_virus = df_virus.merge(df_genus, on=[\"host_label\", \"Genus\"], how=\"left\")\n",
    "    for class_name in df_virus[\"class\"].unique():\n",
    "        df = df_virus[df_virus[\"class\"] == class_name]\n",
    "        if df.shape[0] < 5:\n",
    "            df_virus.loc[df_virus[\"class\"] == class_name, \"class\"] = \"others\"\n",
    "        else:\n",
    "            pass\n",
    "\n",
    "    ## if a class contains only either human or animal-infecting virus, define as \"others\" class\n",
    "    for genus in df_virus[\"Genus\"].unique():\n",
    "        df = df_virus[df_virus[\"Genus\"] == genus]\n",
    "        if len(df[\"host_label\"].unique()) == 1:\n",
    "            df_virus.loc[df_virus[\"Genus\"] == genus, \"class\"] = \"others\"\n",
    "    \n",
    "    ## if a class contains < 5 sequences, exclude from the dataset\n",
    "    for class_name in df_virus[\"class\"].unique():\n",
    "        if df_virus[df_virus[\"class\"] == class_name].shape[0] < 5:\n",
    "            df_virus = df_virus[df_virus[\"class\"] != class_name]\n",
    "    \n",
    "    ## label information for five-fold stratified cross-validation\n",
    "    Y = df_virus[\"class\"].values.tolist()\n",
    "    \n",
    "    ## five-fold stratified dcross-validation\n",
    "    skf = StratifiedKFold(n_splits=5, shuffle = True, random_state=42)\n",
    "    \n",
    "    ## split virus_IDs into fold dataset\n",
    "    fold_d = {}\n",
    "    fold_index_d = {}\n",
    "    \n",
    "    n = 0\n",
    "    for train_index, test_index in skf.split(X, Y):\n",
    "        X_train = [x for i,x in enumerate(X) if i in train_index]\n",
    "        Y_train = [y for i,y in enumerate(Y) if i in train_index]\n",
    "\n",
    "        df_virus[\"dataset\"] = \"train\"\n",
    "        df_virus.loc[test_index, \"dataset\"] = \"test\"\n",
    "\n",
    "        X_train_1, X_eval_1, Y_train_1, Y_eval_1 = train_test_split(X_train, Y_train, test_size=0.2, stratify=Y_train, random_state=42)\n",
    "\n",
    "        df_virus.loc[df_virus[\"virus_ID\"].isin(X_eval_1), \"dataset\"] = \"eval\"\n",
    "        \n",
    "        if \"query\" not in df_virus.columns.tolist():\n",
    "            df_virus = df_virus.merge(df_dataset.loc[:, [\"virus_ID\", \"query\"]], how=\"right\", on=\"virus_ID\")\n",
    "            df_virus.reset_index(inplace=True)\n",
    "\n",
    "        df_train = df_virus[df_virus[\"dataset\"] == \"train\"]\n",
    "        df_eval = df_virus[df_virus[\"dataset\"] == \"eval\"]\n",
    "        df_test = df_virus[df_virus[\"dataset\"] == \"test\"]\n",
    "\n",
    "        train_acc = df_train[\"query\"].values.tolist()\n",
    "        eval_acc = df_eval[\"query\"].values.tolist()\n",
    "        test_acc = df_test[\"query\"].values.tolist()\n",
    "\n",
    "        train_index_l = df_train.index.tolist()\n",
    "        eval_index_l = df_eval.index.tolist()\n",
    "        test_index_l = df_test.index.tolist()\n",
    "\n",
    "        fold_d[n] = [train_acc, eval_acc, test_acc]\n",
    "        fold_index_d[n] = [train_index_l, eval_index_l, test_index_l]\n",
    "        \n",
    "        \n",
    "        n+=1\n",
    "    \n",
    "    return (fold_d, fold_index_d)"
   ]
  },
  {
   "cell_type": "markdown",
   "metadata": {
    "ExecuteTime": {
     "start_time": "2023-03-22T03:31:27.719Z"
    }
   },
   "source": [
    "## function 2: confirmation of data number in each fold"
   ]
  },
  {
   "cell_type": "code",
   "execution_count": 143,
   "metadata": {
    "ExecuteTime": {
     "end_time": "2024-05-01T07:14:01.903521Z",
     "start_time": "2024-05-01T07:14:01.899002Z"
    }
   },
   "outputs": [],
   "source": [
    "def confirm_fold_data(df_dataset, virus, fold_index_d):\n",
    "    df = df_dataset[df_dataset[\"Family\"] == virus]\n",
    "    df = df.sort_values([\"Genus\", \"host_label\"])\n",
    "    df.reset_index(inplace=True)\n",
    "    \n",
    "    n = 0\n",
    "    for fold, data in fold_index_d.items():\n",
    "        fold_name = \"fold\" + str(fold)\n",
    "        fold_l = [0] * len(df.index.tolist())\n",
    "        for i in df.index.tolist():\n",
    "            if i in data[0]:\n",
    "                fold_l[i] = \"train\"\n",
    "            elif i in data[1]:\n",
    "                fold_l[i] = \"eval\"\n",
    "            elif i in data[2]:\n",
    "                fold_l[i] = \"test\"\n",
    "            else:\n",
    "                print (i)\n",
    "\n",
    "        df[fold_name] = fold_l\n",
    "\n",
    "    df_fold = df[[\"Genus\", \"host_label\", \"fold0\", \"fold1\", \"fold2\", \"fold3\", \"fold4\"]]\n",
    "    df_count = df_fold.groupby([\"Genus\", \"host_label\"], dropna=False).count()\n",
    "    \n",
    "    return (df_fold, df_count)"
   ]
  },
  {
   "cell_type": "markdown",
   "metadata": {},
   "source": [
    "## function 3: read fasta file"
   ]
  },
  {
   "cell_type": "code",
   "execution_count": 144,
   "metadata": {
    "ExecuteTime": {
     "end_time": "2024-05-01T07:14:01.908732Z",
     "start_time": "2024-05-01T07:14:01.904917Z"
    }
   },
   "outputs": [],
   "source": [
    "def read_seq_f(seq_f):\n",
    "    seq_all_l = []\n",
    "    \n",
    "    for n, line in enumerate(open(seq_f)):\n",
    "        line = line.strip()\n",
    "        if \">\" in line:\n",
    "            if n == 0:\n",
    "                pass\n",
    "            else:\n",
    "                seq_all_l.append(seq_l)\n",
    "\n",
    "            header = line.replace(\">\",\"\")\n",
    "            seq = \"\"\n",
    "            seq_l = [header, seq]\n",
    "\n",
    "        else:\n",
    "            seq = line\n",
    "            seq_l[1] += seq\n",
    "    \n",
    "    ## to DataFrame\n",
    "    df_seq = pd.DataFrame(seq_all_l, columns=[\"seqid\", \"seq\"])\n",
    "    df_seq[\"query\"] = [s.split(\"_sliding\")[0] for s in df_seq[\"seqid\"]]\n",
    "    \n",
    "    return (df_seq)"
   ]
  },
  {
   "cell_type": "markdown",
   "metadata": {},
   "source": [
    "## function 4: 4-mer tokenizer "
   ]
  },
  {
   "cell_type": "code",
   "execution_count": 145,
   "metadata": {
    "ExecuteTime": {
     "end_time": "2024-05-01T07:14:01.913841Z",
     "start_time": "2024-05-01T07:14:01.909982Z"
    }
   },
   "outputs": [
    {
     "name": "stdout",
     "output_type": "stream",
     "text": [
      "INFO: Pandarallel will run on 4 workers.\n",
      "INFO: Pandarallel will use standard multiprocessing data transfer (pipe) to transfer data between the main process and workers.\n"
     ]
    }
   ],
   "source": [
    "##\n",
    "from skbio import Sequence\n",
    "\n",
    "## 並列化\n",
    "from pandarallel import pandarallel\n",
    "pandarallel.initialize(nb_workers=4)\n",
    "\n",
    "def split_kmer(seq):\n",
    "    kmer_l = [k for k in Sequence(seq).iter_kmers(4, overlap=True)]\n",
    "    kmer = \" \".join(map(str, kmer_l))\n",
    "    return (kmer)"
   ]
  },
  {
   "cell_type": "markdown",
   "metadata": {},
   "source": [
    "## function 5: add infectivity label"
   ]
  },
  {
   "cell_type": "code",
   "execution_count": 146,
   "metadata": {
    "ExecuteTime": {
     "end_time": "2024-05-01T07:14:01.918052Z",
     "start_time": "2024-05-01T07:14:01.915063Z"
    }
   },
   "outputs": [],
   "source": [
    "def add_infectivity_label(df_dataset, df_seq):\n",
    "    df_label = df_dataset.loc[:, [\"query\", \"host_label\"]]\n",
    "    df_seq_1 = df_seq.merge(df_label, on = \"query\", how=\"left\")\n",
    "    df_seq_2 = df_seq_1.loc[:, [\"seqid\", \"host_label\", \"sequence\", \"query\"]]\n",
    "    return (df_seq_2)"
   ]
  },
  {
   "cell_type": "markdown",
   "metadata": {},
   "source": [
    "## divide data into past and future datasets"
   ]
  },
  {
   "cell_type": "code",
   "execution_count": 147,
   "metadata": {
    "ExecuteTime": {
     "end_time": "2024-05-01T07:14:01.927977Z",
     "start_time": "2024-05-01T07:14:01.919527Z"
    }
   },
   "outputs": [
    {
     "name": "stdout",
     "output_type": "stream",
     "text": [
      "3333 1288\n"
     ]
    }
   ],
   "source": [
    "df_known = df_dataset[df_dataset[\"collection_year\"] < 2018]\n",
    "df_unknown = df_dataset[df_dataset[\"collection_year\"] >= 2018]\n",
    "\n",
    "print (df_known.shape[0], df_unknown.shape[0])"
   ]
  },
  {
   "cell_type": "markdown",
   "metadata": {},
   "source": [
    "# Main"
   ]
  },
  {
   "cell_type": "code",
   "execution_count": 148,
   "metadata": {
    "ExecuteTime": {
     "end_time": "2024-05-01T07:18:37.972675Z",
     "start_time": "2024-05-01T07:14:01.929430Z"
    },
    "scrolled": true
   },
   "outputs": [
    {
     "name": "stderr",
     "output_type": "stream",
     "text": [
      "/var/folders/ty/4bj553gd6mddwlrt75bs49yh0000gp/T/ipykernel_51877/213895536.py:15: SettingWithCopyWarning: \n",
      "A value is trying to be set on a copy of a slice from a DataFrame.\n",
      "Try using .loc[row_indexer,col_indexer] = value instead\n",
      "\n",
      "See the caveats in the documentation: https://pandas.pydata.org/pandas-docs/stable/user_guide/indexing.html#returning-a-view-versus-a-copy\n",
      "  df_known[\"query\"] = [acc.split(\".\")[0] for acc in df_known[\"Accession\"]]\n"
     ]
    }
   ],
   "source": [
    "## Main\n",
    "kmer=4\n",
    "token=250\n",
    "out_dict = \"output_examples\"\n",
    "virus_family = \"Coronaviridae\"\n",
    "dataset_f = \"input_examples/Coronaviridae.curated.csv\"\n",
    "seq_f = \"output_examples/Coronaviridae.slide.250bp.fasta\"\n",
    "    \n",
    "#  read curated dta\n",
    "df_dataset = pd.read_csv(dataset_f, sep = \"\\t\")\n",
    "\n",
    "df_known = df_dataset[(df_dataset[\"collection_year\"] < 2018) & (df_dataset[\"Family\"] == virus_family)]\n",
    "\n",
    "if \"query\" not in df_known.columns.tolist():\n",
    "    df_known[\"query\"] = [acc.split(\".\")[0] for acc in df_known[\"Accession\"]]\n",
    "\n",
    "# read subseqence data\n",
    "df_seq = read_seq_f(seq_f)\n",
    "\n",
    "# convert to upper letter\n",
    "df_seq[\"seq\"] = df_seq[\"seq\"].str.upper()\n",
    "\n",
    "# 4-mer tokenization\n",
    "df_seq[\"sequence\"] = df_seq[\"seq\"].parallel_map(split_kmer)\n",
    "\n",
    "# add infectivity label\n",
    "df_token = add_infectivity_label(df_known, df_seq)"
   ]
  },
  {
   "cell_type": "code",
   "execution_count": 149,
   "metadata": {
    "ExecuteTime": {
     "end_time": "2024-05-01T07:18:37.990343Z",
     "start_time": "2024-05-01T07:18:37.977044Z"
    }
   },
   "outputs": [
    {
     "data": {
      "text/html": [
       "<div>\n",
       "<style scoped>\n",
       "    .dataframe tbody tr th:only-of-type {\n",
       "        vertical-align: middle;\n",
       "    }\n",
       "\n",
       "    .dataframe tbody tr th {\n",
       "        vertical-align: top;\n",
       "    }\n",
       "\n",
       "    .dataframe thead th {\n",
       "        text-align: right;\n",
       "    }\n",
       "</style>\n",
       "<table border=\"1\" class=\"dataframe\">\n",
       "  <thead>\n",
       "    <tr style=\"text-align: right;\">\n",
       "      <th></th>\n",
       "      <th>Accession</th>\n",
       "      <th>Organism_Name</th>\n",
       "      <th>SRA_Accession</th>\n",
       "      <th>Submitters</th>\n",
       "      <th>Organization</th>\n",
       "      <th>Org_location</th>\n",
       "      <th>Release_Date</th>\n",
       "      <th>Isolate</th>\n",
       "      <th>Species</th>\n",
       "      <th>Genus</th>\n",
       "      <th>Family</th>\n",
       "      <th>Molecule_type</th>\n",
       "      <th>Length</th>\n",
       "      <th>Sequence_Type</th>\n",
       "      <th>Nuc_Completeness</th>\n",
       "      <th>Genotype</th>\n",
       "      <th>Segment</th>\n",
       "      <th>Publications</th>\n",
       "      <th>Geo_Location</th>\n",
       "      <th>Country</th>\n",
       "      <th>USA</th>\n",
       "      <th>Host</th>\n",
       "      <th>Isolation_Source</th>\n",
       "      <th>Collection_Date</th>\n",
       "      <th>BioSample</th>\n",
       "      <th>BioProject</th>\n",
       "      <th>GenBank_Title</th>\n",
       "      <th>host_label</th>\n",
       "      <th>virus_ID</th>\n",
       "      <th>collection_year</th>\n",
       "      <th>dataset</th>\n",
       "      <th>query</th>\n",
       "    </tr>\n",
       "  </thead>\n",
       "  <tbody>\n",
       "    <tr>\n",
       "      <th>2</th>\n",
       "      <td>NC_054015</td>\n",
       "      <td>Tylonycteris bat coronavirus HKU33</td>\n",
       "      <td>NaN</td>\n",
       "      <td>Lau,S.K.P., Wong,A.C.P., Zhang,L., Luk,H.K.H., Kwok,J.S.L., Ahmed,S.S., Cai,J.P., Zhao,P.S.H., Teng,J.L.L., Tsui,S.K.W., Yuen,K.Y., Woo,P.C.Y., Li,K.S.M., Cai,J.-P.</td>\n",
       "      <td>National Center for Biotechnology Information, NIH</td>\n",
       "      <td>USA</td>\n",
       "      <td>2023-05-04</td>\n",
       "      <td>NaN</td>\n",
       "      <td>Alphacoronavirus HKU33</td>\n",
       "      <td>Alphacoronavirus</td>\n",
       "      <td>Coronaviridae</td>\n",
       "      <td>ssRNA(+)</td>\n",
       "      <td>27636</td>\n",
       "      <td>RefSeq</td>\n",
       "      <td>complete</td>\n",
       "      <td>NaN</td>\n",
       "      <td>NaN</td>\n",
       "      <td>1.0</td>\n",
       "      <td>China</td>\n",
       "      <td>China</td>\n",
       "      <td>NaN</td>\n",
       "      <td>Tylonycteris robustula</td>\n",
       "      <td>feces</td>\n",
       "      <td>2015-09-09</td>\n",
       "      <td>NaN</td>\n",
       "      <td>PRJNA485481</td>\n",
       "      <td>Tylonycteris bat coronavirus HKU33 strain GZ151867, complete genome</td>\n",
       "      <td>0</td>\n",
       "      <td>NC_054015</td>\n",
       "      <td>2015.0</td>\n",
       "      <td>known</td>\n",
       "      <td>NC_054015</td>\n",
       "    </tr>\n",
       "    <tr>\n",
       "      <th>3</th>\n",
       "      <td>NC_055953</td>\n",
       "      <td>Bat alphacoronavirus</td>\n",
       "      <td>NaN</td>\n",
       "      <td>Bergner,L., Orton,R., Streicker,D.</td>\n",
       "      <td>National Center for Biotechnology Information, NIH</td>\n",
       "      <td>USA</td>\n",
       "      <td>2023-05-04</td>\n",
       "      <td>AMA_L_F</td>\n",
       "      <td>Bat alphacoronavirus</td>\n",
       "      <td>Alphacoronavirus</td>\n",
       "      <td>Coronaviridae</td>\n",
       "      <td>ssRNA(+)</td>\n",
       "      <td>29097</td>\n",
       "      <td>RefSeq</td>\n",
       "      <td>complete</td>\n",
       "      <td>NaN</td>\n",
       "      <td>NaN</td>\n",
       "      <td>NaN</td>\n",
       "      <td>Peru</td>\n",
       "      <td>Peru</td>\n",
       "      <td>NaN</td>\n",
       "      <td>Desmodus rotundus</td>\n",
       "      <td>NaN</td>\n",
       "      <td>2015</td>\n",
       "      <td>NaN</td>\n",
       "      <td>PRJNA485481</td>\n",
       "      <td>Bat alphacoronavirus isolate AMA_L_F, complete genome</td>\n",
       "      <td>0</td>\n",
       "      <td>NC_055953</td>\n",
       "      <td>2015.0</td>\n",
       "      <td>known</td>\n",
       "      <td>NC_055953</td>\n",
       "    </tr>\n",
       "    <tr>\n",
       "      <th>4</th>\n",
       "      <td>NC_076629</td>\n",
       "      <td>Bat alphacoronavirus</td>\n",
       "      <td>NaN</td>\n",
       "      <td>NaN</td>\n",
       "      <td>National Center for Biotechnology Information, NIH</td>\n",
       "      <td>USA</td>\n",
       "      <td>2023-05-04</td>\n",
       "      <td>BtCoV/020_16/M.dau/FIN/2016</td>\n",
       "      <td>Bat alphacoronavirus</td>\n",
       "      <td>Alphacoronavirus</td>\n",
       "      <td>Coronaviridae</td>\n",
       "      <td>ssRNA(+)</td>\n",
       "      <td>28045</td>\n",
       "      <td>RefSeq</td>\n",
       "      <td>complete</td>\n",
       "      <td>NaN</td>\n",
       "      <td>NaN</td>\n",
       "      <td>NaN</td>\n",
       "      <td>Finland: Mustasaari</td>\n",
       "      <td>Finland</td>\n",
       "      <td>NaN</td>\n",
       "      <td>Myotis daubentonii</td>\n",
       "      <td>feces</td>\n",
       "      <td>2016-08-28</td>\n",
       "      <td>NaN</td>\n",
       "      <td>PRJNA485481</td>\n",
       "      <td>Bat alphacoronavirus isolate BtCoV/020_16/M.dau/FIN/2016 polyprotein (QKQ02_gp1), spike protein (QKQ02_gp2), hypothetical protein (QKQ02_gp3), envelope protein (QKQ02_gp4), membrane protein (QKQ02...</td>\n",
       "      <td>0</td>\n",
       "      <td>NC_076629</td>\n",
       "      <td>2016.0</td>\n",
       "      <td>known</td>\n",
       "      <td>NC_076629</td>\n",
       "    </tr>\n",
       "  </tbody>\n",
       "</table>\n",
       "</div>"
      ],
      "text/plain": [
       "   Accession                       Organism_Name SRA_Accession  \\\n",
       "2  NC_054015  Tylonycteris bat coronavirus HKU33           NaN   \n",
       "3  NC_055953                Bat alphacoronavirus           NaN   \n",
       "4  NC_076629                Bat alphacoronavirus           NaN   \n",
       "\n",
       "                                                                                                                                                             Submitters  \\\n",
       "2  Lau,S.K.P., Wong,A.C.P., Zhang,L., Luk,H.K.H., Kwok,J.S.L., Ahmed,S.S., Cai,J.P., Zhao,P.S.H., Teng,J.L.L., Tsui,S.K.W., Yuen,K.Y., Woo,P.C.Y., Li,K.S.M., Cai,J.-P.   \n",
       "3                                                                                                                                    Bergner,L., Orton,R., Streicker,D.   \n",
       "4                                                                                                                                                                   NaN   \n",
       "\n",
       "                                         Organization Org_location  \\\n",
       "2  National Center for Biotechnology Information, NIH          USA   \n",
       "3  National Center for Biotechnology Information, NIH          USA   \n",
       "4  National Center for Biotechnology Information, NIH          USA   \n",
       "\n",
       "  Release_Date                      Isolate                 Species  \\\n",
       "2   2023-05-04                          NaN  Alphacoronavirus HKU33   \n",
       "3   2023-05-04                      AMA_L_F    Bat alphacoronavirus   \n",
       "4   2023-05-04  BtCoV/020_16/M.dau/FIN/2016    Bat alphacoronavirus   \n",
       "\n",
       "              Genus         Family Molecule_type  Length Sequence_Type  \\\n",
       "2  Alphacoronavirus  Coronaviridae      ssRNA(+)   27636        RefSeq   \n",
       "3  Alphacoronavirus  Coronaviridae      ssRNA(+)   29097        RefSeq   \n",
       "4  Alphacoronavirus  Coronaviridae      ssRNA(+)   28045        RefSeq   \n",
       "\n",
       "  Nuc_Completeness Genotype  Segment  Publications         Geo_Location  \\\n",
       "2         complete      NaN      NaN           1.0                China   \n",
       "3         complete      NaN      NaN           NaN                 Peru   \n",
       "4         complete      NaN      NaN           NaN  Finland: Mustasaari   \n",
       "\n",
       "   Country  USA                    Host Isolation_Source Collection_Date  \\\n",
       "2    China  NaN  Tylonycteris robustula            feces      2015-09-09   \n",
       "3     Peru  NaN       Desmodus rotundus              NaN            2015   \n",
       "4  Finland  NaN      Myotis daubentonii            feces      2016-08-28   \n",
       "\n",
       "  BioSample   BioProject  \\\n",
       "2       NaN  PRJNA485481   \n",
       "3       NaN  PRJNA485481   \n",
       "4       NaN  PRJNA485481   \n",
       "\n",
       "                                                                                                                                                                                             GenBank_Title  \\\n",
       "2                                                                                                                                      Tylonycteris bat coronavirus HKU33 strain GZ151867, complete genome   \n",
       "3                                                                                                                                                    Bat alphacoronavirus isolate AMA_L_F, complete genome   \n",
       "4  Bat alphacoronavirus isolate BtCoV/020_16/M.dau/FIN/2016 polyprotein (QKQ02_gp1), spike protein (QKQ02_gp2), hypothetical protein (QKQ02_gp3), envelope protein (QKQ02_gp4), membrane protein (QKQ02...   \n",
       "\n",
       "   host_label   virus_ID  collection_year dataset      query  \n",
       "2           0  NC_054015           2015.0   known  NC_054015  \n",
       "3           0  NC_055953           2015.0   known  NC_055953  \n",
       "4           0  NC_076629           2016.0   known  NC_076629  "
      ]
     },
     "execution_count": 149,
     "metadata": {},
     "output_type": "execute_result"
    }
   ],
   "source": [
    "df_known.head(3)"
   ]
  },
  {
   "cell_type": "code",
   "execution_count": null,
   "metadata": {
    "ExecuteTime": {
     "start_time": "2024-05-01T07:18:52.953Z"
    }
   },
   "outputs": [],
   "source": [
    "# prepare 5-cross fold val dataset\n",
    "fold_d, fold_index_d = five_cross_fold_val(df_known, virus_family)\n",
    "\n",
    "# confirm data number for each fold\n",
    "df_fold, df_count = confirm_fold_data(df_known, virus_family, fold_index_d)\n",
    "\n",
    "# output fold dataset\n",
    "for fold, data in fold_d.items():\n",
    "    fold_name = \"fold_\" + str(fold)\n",
    "\n",
    "    train_acc_l = data[0]\n",
    "    eval_acc_l = data[1]\n",
    "    test_acc_l = data[2]\n",
    "\n",
    "    seq_d = {\"known_train\": [[out_dict,  \"ft_known_4_250_\" + fold_name, \"train.tsv\"], train_acc_l],\n",
    "         \"known_eval\": [[out_dict,  \"ft_known_4_250_\" + fold_name, \"dev.tsv\"], eval_acc_l],\n",
    "         \"known_pred\": [[out_dict,\"pred_known_4_250_\" + fold_name, \"dev.tsv\"], test_acc_l]}\n",
    "\n",
    "    for key, data_1 in seq_d.items():\n",
    "        dict_l = data_1[0]\n",
    "        acc_l = data_1[1]\n",
    "        df = df_token[df_token[\"query\"].isin(acc_l)]\n",
    "\n",
    "        df_output = df.rename(columns={\"host_label\":\"label\"})\n",
    "        df_output = df_output.loc[:, [\"sequence\", \"label\", \"seqid\"]]\n",
    "        df_output = df_output.astype({\"sequence\": str, \"label\": int, \"seqid\":str})\n",
    "        \n",
    "        os.makedirs(\"/\".join(map(str, dict_l[:-1])), exist_ok=True)\n",
    "\n",
    "        output_f = \"/\".join(map(str, dict_l))\n",
    "        df_output.to_csv(output_f, sep=\"\\t\", index=False)"
   ]
  },
  {
   "cell_type": "markdown",
   "metadata": {},
   "source": [
    "# confirm data number for each fold"
   ]
  },
  {
   "cell_type": "code",
   "execution_count": null,
   "metadata": {
    "ExecuteTime": {
     "start_time": "2024-05-01T07:18:53.435Z"
    }
   },
   "outputs": [],
   "source": [
    "df_count"
   ]
  },
  {
   "cell_type": "code",
   "execution_count": null,
   "metadata": {},
   "outputs": [],
   "source": []
  },
  {
   "cell_type": "code",
   "execution_count": null,
   "metadata": {},
   "outputs": [],
   "source": []
  }
 ],
 "metadata": {
  "kernelspec": {
   "display_name": "env_210819",
   "language": "python",
   "name": "env_210819"
  },
  "language_info": {
   "codemirror_mode": {
    "name": "ipython",
    "version": 3
   },
   "file_extension": ".py",
   "mimetype": "text/x-python",
   "name": "python",
   "nbconvert_exporter": "python",
   "pygments_lexer": "ipython3",
   "version": "3.9.18"
  },
  "toc": {
   "base_numbering": 1,
   "nav_menu": {},
   "number_sections": true,
   "sideBar": true,
   "skip_h1_title": false,
   "title_cell": "Table of Contents",
   "title_sidebar": "Contents",
   "toc_cell": true,
   "toc_position": {
    "height": "calc(100% - 180px)",
    "left": "10px",
    "top": "150px",
    "width": "197.797px"
   },
   "toc_section_display": true,
   "toc_window_display": true
  }
 },
 "nbformat": 4,
 "nbformat_minor": 4
}
