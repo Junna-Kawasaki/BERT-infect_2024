{
 "cells": [
  {
   "cell_type": "markdown",
   "metadata": {
    "toc": true
   },
   "source": [
    "<h1>Table of Contents<span class=\"tocSkip\"></span></h1>\n",
    "<div class=\"toc\"><ul class=\"toc-item\"><li><span><a href=\"#curated-datasetの結果読み込み\" data-toc-modified-id=\"curated-datasetの結果読み込み-1\"><span class=\"toc-item-num\">1&nbsp;&nbsp;</span>curated datasetの結果読み込み</a></span><ul class=\"toc-item\"><li><span><a href=\"#集計対象のデータセット\" data-toc-modified-id=\"集計対象のデータセット-1.1\"><span class=\"toc-item-num\">1.1&nbsp;&nbsp;</span>集計対象のデータセット</a></span></li></ul></li><li><span><a href=\"#known-virus,-genbank,-virus_IDレベルでの集計\" data-toc-modified-id=\"known-virus,-genbank,-virus_IDレベルでの集計-2\"><span class=\"toc-item-num\">2&nbsp;&nbsp;</span>known virus, genbank, virus_IDレベルでの集計</a></span><ul class=\"toc-item\"><li><span><a href=\"#結果読み込み\" data-toc-modified-id=\"結果読み込み-2.1\"><span class=\"toc-item-num\">2.1&nbsp;&nbsp;</span>結果読み込み</a></span></li><li><span><a href=\"#ダウンサンプリング前後の比較\" data-toc-modified-id=\"ダウンサンプリング前後の比較-2.2\"><span class=\"toc-item-num\">2.2&nbsp;&nbsp;</span>ダウンサンプリング前後の比較</a></span></li><li><span><a href=\"#finalデータセットの集計\" data-toc-modified-id=\"finalデータセットの集計-2.3\"><span class=\"toc-item-num\">2.3&nbsp;&nbsp;</span>finalデータセットの集計</a></span></li><li><span><a href=\"#表形式での出力（genbank限定）\" data-toc-modified-id=\"表形式での出力（genbank限定）-2.4\"><span class=\"toc-item-num\">2.4&nbsp;&nbsp;</span>表形式での出力（genbank限定）</a></span></li><li><span><a href=\"#ウイルスのゲノムタイプごとに分けてモデル比較\" data-toc-modified-id=\"ウイルスのゲノムタイプごとに分けてモデル比較-2.5\"><span class=\"toc-item-num\">2.5&nbsp;&nbsp;</span>ウイルスのゲノムタイプごとに分けてモデル比較</a></span><ul class=\"toc-item\"><li><span><a href=\"#figure:-ウイルスゲノムでパネル分け\" data-toc-modified-id=\"figure:-ウイルスゲノムでパネル分け-2.5.1\"><span class=\"toc-item-num\">2.5.1&nbsp;&nbsp;</span>figure: ウイルスゲノムでパネル分け</a></span></li></ul></li><li><span><a href=\"#source-data-(fig-2c)\" data-toc-modified-id=\"source-data-(fig-2c)-2.6\"><span class=\"toc-item-num\">2.6&nbsp;&nbsp;</span>source data (fig 2c)</a></span></li><li><span><a href=\"#AUROC,-PR-AUCでの中央値\" data-toc-modified-id=\"AUROC,-PR-AUCでの中央値-2.7\"><span class=\"toc-item-num\">2.7&nbsp;&nbsp;</span>AUROC, PR-AUCでの中央値</a></span></li></ul></li><li><span><a href=\"#known-virus,-VHDB,-virus_IDレベルでの集計\" data-toc-modified-id=\"known-virus,-VHDB,-virus_IDレベルでの集計-3\"><span class=\"toc-item-num\">3&nbsp;&nbsp;</span>known virus, VHDB, virus_IDレベルでの集計</a></span><ul class=\"toc-item\"><li><span><a href=\"#結果読み込み\" data-toc-modified-id=\"結果読み込み-3.1\"><span class=\"toc-item-num\">3.1&nbsp;&nbsp;</span>結果読み込み</a></span></li><li><span><a href=\"#vhdbデータセットでの集計\" data-toc-modified-id=\"vhdbデータセットでの集計-3.2\"><span class=\"toc-item-num\">3.2&nbsp;&nbsp;</span>vhdbデータセットでの集計</a></span></li><li><span><a href=\"#表形式での出力\" data-toc-modified-id=\"表形式での出力-3.3\"><span class=\"toc-item-num\">3.3&nbsp;&nbsp;</span>表形式での出力</a></span></li><li><span><a href=\"#source-data-(fig-s2,-prauc)\" data-toc-modified-id=\"source-data-(fig-s2,-prauc)-3.4\"><span class=\"toc-item-num\">3.4&nbsp;&nbsp;</span>source data (fig s2, prauc)</a></span></li><li><span><a href=\"#source-data-(fig-s2,-auroc)\" data-toc-modified-id=\"source-data-(fig-s2,-auroc)-3.5\"><span class=\"toc-item-num\">3.5&nbsp;&nbsp;</span>source data (fig s2, auroc)</a></span></li><li><span><a href=\"#ウイルスのゲノムタイプごとに分けてモデル比較\" data-toc-modified-id=\"ウイルスのゲノムタイプごとに分けてモデル比較-3.6\"><span class=\"toc-item-num\">3.6&nbsp;&nbsp;</span>ウイルスのゲノムタイプごとに分けてモデル比較</a></span></li></ul></li><li><span><a href=\"#known-virus,-genbank,-混同行列\" data-toc-modified-id=\"known-virus,-genbank,-混同行列-4\"><span class=\"toc-item-num\">4&nbsp;&nbsp;</span>known virus, genbank, 混同行列</a></span><ul class=\"toc-item\"><li><span><a href=\"#予測結果の読み込み\" data-toc-modified-id=\"予測結果の読み込み-4.1\"><span class=\"toc-item-num\">4.1&nbsp;&nbsp;</span>予測結果の読み込み</a></span></li><li><span><a href=\"#curated-dataの読み込み\" data-toc-modified-id=\"curated-dataの読み込み-4.2\"><span class=\"toc-item-num\">4.2&nbsp;&nbsp;</span>curated dataの読み込み</a></span></li><li><span><a href=\"#予測結果の追加\" data-toc-modified-id=\"予測結果の追加-4.3\"><span class=\"toc-item-num\">4.3&nbsp;&nbsp;</span>予測結果の追加</a></span></li><li><span><a href=\"#ゲノムタイプの追加\" data-toc-modified-id=\"ゲノムタイプの追加-4.4\"><span class=\"toc-item-num\">4.4&nbsp;&nbsp;</span>ゲノムタイプの追加</a></span></li><li><span><a href=\"#混同行列\" data-toc-modified-id=\"混同行列-4.5\"><span class=\"toc-item-num\">4.5&nbsp;&nbsp;</span>混同行列</a></span></li></ul></li><li><span><a href=\"#ヒト感染性が疑われた動物由来ウイルスの集合\" data-toc-modified-id=\"ヒト感染性が疑われた動物由来ウイルスの集合-5\"><span class=\"toc-item-num\">5&nbsp;&nbsp;</span>ヒト感染性が疑われた動物由来ウイルスの集合</a></span><ul class=\"toc-item\"><li><span><a href=\"#ウイルスごとの予測結果を読み込み\" data-toc-modified-id=\"ウイルスごとの予測結果を読み込み-5.1\"><span class=\"toc-item-num\">5.1&nbsp;&nbsp;</span>ウイルスごとの予測結果を読み込み</a></span></li><li><span><a href=\"#finalデータセットでの集計\" data-toc-modified-id=\"finalデータセットでの集計-5.2\"><span class=\"toc-item-num\">5.2&nbsp;&nbsp;</span>finalデータセットでの集計</a></span></li><li><span><a href=\"#特異度・感度のバランスをとった判定基準の設定\" data-toc-modified-id=\"特異度・感度のバランスをとった判定基準の設定-5.3\"><span class=\"toc-item-num\">5.3&nbsp;&nbsp;</span>特異度・感度のバランスをとった判定基準の設定</a></span></li><li><span><a href=\"#cutoffに従って感染性を予測\" data-toc-modified-id=\"cutoffに従って感染性を予測-5.4\"><span class=\"toc-item-num\">5.4&nbsp;&nbsp;</span>cutoffに従って感染性を予測</a></span></li><li><span><a href=\"#genbankデータだけ取得\" data-toc-modified-id=\"genbankデータだけ取得-5.5\"><span class=\"toc-item-num\">5.5&nbsp;&nbsp;</span>genbankデータだけ取得</a></span></li><li><span><a href=\"#figure\" data-toc-modified-id=\"figure-5.6\"><span class=\"toc-item-num\">5.6&nbsp;&nbsp;</span>figure</a></span></li><li><span><a href=\"#全てのモデルでヒト感染性が疑われたウイルスの数\" data-toc-modified-id=\"全てのモデルでヒト感染性が疑われたウイルスの数-5.7\"><span class=\"toc-item-num\">5.7&nbsp;&nbsp;</span>全てのモデルでヒト感染性が疑われたウイルスの数</a></span></li></ul></li><li><span><a href=\"#source-data-(figure-s4)\" data-toc-modified-id=\"source-data-(figure-s4)-6\"><span class=\"toc-item-num\">6&nbsp;&nbsp;</span>source data (figure s4)</a></span><ul class=\"toc-item\"><li><span><a href=\"#ヒト感染性が疑われたウイルスのうち、全てのモデルで予測確率が揃っているもの\" data-toc-modified-id=\"ヒト感染性が疑われたウイルスのうち、全てのモデルで予測確率が揃っているもの-6.1\"><span class=\"toc-item-num\">6.1&nbsp;&nbsp;</span>ヒト感染性が疑われたウイルスのうち、全てのモデルで予測確率が揃っているもの</a></span></li><li><span><a href=\"#全てのモデルで予測確率が揃っているか？\" data-toc-modified-id=\"全てのモデルで予測確率が揃っているか？-6.2\"><span class=\"toc-item-num\">6.2&nbsp;&nbsp;</span>全てのモデルで予測確率が揃っているか？</a></span></li><li><span><a href=\"#Trueが多い順に並び替える\" data-toc-modified-id=\"Trueが多い順に並び替える-6.3\"><span class=\"toc-item-num\">6.3&nbsp;&nbsp;</span>Trueが多い順に並び替える</a></span></li><li><span><a href=\"#ウイルス科の情報をつける\" data-toc-modified-id=\"ウイルス科の情報をつける-6.4\"><span class=\"toc-item-num\">6.4&nbsp;&nbsp;</span>ウイルス科の情報をつける</a></span></li><li><span><a href=\"#列を並び替え\" data-toc-modified-id=\"列を並び替え-6.5\"><span class=\"toc-item-num\">6.5&nbsp;&nbsp;</span>列を並び替え</a></span></li><li><span><a href=\"#出力\" data-toc-modified-id=\"出力-6.6\"><span class=\"toc-item-num\">6.6&nbsp;&nbsp;</span>出力</a></span></li></ul></li></ul></div>"
   ]
  },
  {
   "cell_type": "code",
   "execution_count": 215,
   "metadata": {
    "ExecuteTime": {
     "end_time": "2024-04-29T06:00:43.655651Z",
     "start_time": "2024-04-29T06:00:43.645444Z"
    }
   },
   "outputs": [],
   "source": [
    "#!/usr/bin/env python\n",
    "import sys, re\n",
    "argvs = sys.argv\n",
    "sys.setrecursionlimit(10000000)\n",
    "\n",
    "import os\n",
    "import collections\n",
    "import numpy as np\n",
    "import pandas as pd\n",
    "import array\n",
    "pd.set_option(\"display.max_colwidth\", 200)\n",
    "pd.set_option(\"display.max_columns\", 200)\n",
    "pd.set_option(\"display.max_rows\", 300)\n",
    "\n",
    "import glob\n",
    "\n",
    "## visualize\n",
    "import matplotlib\n",
    "import matplotlib.pyplot as plt\n",
    "import seaborn as sns\n",
    "sns.set()\n",
    "\n",
    "from itertools import zip_longest\n",
    "\n",
    "plt.rcParams['font.family'] = \"Arial\""
   ]
  },
  {
   "cell_type": "markdown",
   "metadata": {},
   "source": [
    "# example dataset"
   ]
  },
  {
   "cell_type": "code",
   "execution_count": 216,
   "metadata": {
    "ExecuteTime": {
     "end_time": "2024-04-29T06:00:43.769659Z",
     "start_time": "2024-04-29T06:00:43.751679Z"
    }
   },
   "outputs": [],
   "source": [
    "virus=\"Coronaviridae\"\n",
    "fold=\"fold_0\""
   ]
  },
  {
   "cell_type": "markdown",
   "metadata": {},
   "source": [
    "# read predict results in the past viral dataset"
   ]
  },
  {
   "cell_type": "markdown",
   "metadata": {},
   "source": [
    "## read metadata file"
   ]
  },
  {
   "cell_type": "code",
   "execution_count": 217,
   "metadata": {},
   "outputs": [
    {
     "data": {
      "text/html": [
       "<div>\n",
       "<style scoped>\n",
       "    .dataframe tbody tr th:only-of-type {\n",
       "        vertical-align: middle;\n",
       "    }\n",
       "\n",
       "    .dataframe tbody tr th {\n",
       "        vertical-align: top;\n",
       "    }\n",
       "\n",
       "    .dataframe thead th {\n",
       "        text-align: right;\n",
       "    }\n",
       "</style>\n",
       "<table border=\"1\" class=\"dataframe\">\n",
       "  <thead>\n",
       "    <tr style=\"text-align: right;\">\n",
       "      <th></th>\n",
       "      <th>refseq.id</th>\n",
       "      <th>fold_0</th>\n",
       "      <th>label</th>\n",
       "      <th>sampling</th>\n",
       "      <th>database</th>\n",
       "      <th>date</th>\n",
       "      <th>fold_1</th>\n",
       "      <th>fold_2</th>\n",
       "      <th>fold_3</th>\n",
       "      <th>fold_4</th>\n",
       "      <th>host_label</th>\n",
       "      <th>Genus</th>\n",
       "      <th>virus_ID</th>\n",
       "      <th>Family</th>\n",
       "      <th>Species</th>\n",
       "    </tr>\n",
       "  </thead>\n",
       "  <tbody>\n",
       "    <tr>\n",
       "      <th>73331</th>\n",
       "      <td>OQ175110</td>\n",
       "      <td>train</td>\n",
       "      <td>0</td>\n",
       "      <td>normal</td>\n",
       "      <td>GenBank</td>\n",
       "      <td>20240206</td>\n",
       "      <td>pred</td>\n",
       "      <td>train</td>\n",
       "      <td>train</td>\n",
       "      <td>train</td>\n",
       "      <td>0.0</td>\n",
       "      <td>NaN</td>\n",
       "      <td>OQ175110</td>\n",
       "      <td>Coronaviridae</td>\n",
       "      <td>Bat Coronavirus MrGD17</td>\n",
       "    </tr>\n",
       "    <tr>\n",
       "      <th>73332</th>\n",
       "      <td>OQ175111</td>\n",
       "      <td>train</td>\n",
       "      <td>0</td>\n",
       "      <td>normal</td>\n",
       "      <td>GenBank</td>\n",
       "      <td>20240206</td>\n",
       "      <td>pred</td>\n",
       "      <td>train</td>\n",
       "      <td>dev</td>\n",
       "      <td>train</td>\n",
       "      <td>0.0</td>\n",
       "      <td>NaN</td>\n",
       "      <td>OQ175111</td>\n",
       "      <td>Coronaviridae</td>\n",
       "      <td>Bat Coronavirus MrGD17</td>\n",
       "    </tr>\n",
       "    <tr>\n",
       "      <th>73333</th>\n",
       "      <td>OQ175112</td>\n",
       "      <td>train</td>\n",
       "      <td>0</td>\n",
       "      <td>normal</td>\n",
       "      <td>GenBank</td>\n",
       "      <td>20240206</td>\n",
       "      <td>pred</td>\n",
       "      <td>train</td>\n",
       "      <td>train</td>\n",
       "      <td>dev</td>\n",
       "      <td>0.0</td>\n",
       "      <td>NaN</td>\n",
       "      <td>OQ175112</td>\n",
       "      <td>Coronaviridae</td>\n",
       "      <td>Bat Coronavirus MrGD17</td>\n",
       "    </tr>\n",
       "  </tbody>\n",
       "</table>\n",
       "</div>"
      ],
      "text/plain": [
       "      refseq.id fold_0  label sampling database      date fold_1 fold_2  \\\n",
       "73331  OQ175110  train      0   normal  GenBank  20240206   pred  train   \n",
       "73332  OQ175111  train      0   normal  GenBank  20240206   pred  train   \n",
       "73333  OQ175112  train      0   normal  GenBank  20240206   pred  train   \n",
       "\n",
       "      fold_3 fold_4  host_label Genus  virus_ID         Family  \\\n",
       "73331  train  train         0.0   NaN  OQ175110  Coronaviridae   \n",
       "73332    dev  train         0.0   NaN  OQ175111  Coronaviridae   \n",
       "73333  train    dev         0.0   NaN  OQ175112  Coronaviridae   \n",
       "\n",
       "                      Species  \n",
       "73331  Bat Coronavirus MrGD17  \n",
       "73332  Bat Coronavirus MrGD17  \n",
       "73333  Bat Coronavirus MrGD17  "
      ]
     },
     "execution_count": 217,
     "metadata": {},
     "output_type": "execute_result"
    }
   ],
   "source": [
    "metadata_f = \"../003_Data_predictability/input_examples/known_virus_final_dataset_Coronaviridae.txt\"\n",
    "\n",
    "df_label = pd.read_csv(metadata_f, index_col=0)\n",
    "df_label.head(3)"
   ]
  },
  {
   "cell_type": "markdown",
   "metadata": {},
   "source": [
    "## read input file"
   ]
  },
  {
   "cell_type": "code",
   "execution_count": 218,
   "metadata": {},
   "outputs": [
    {
     "data": {
      "text/html": [
       "<div>\n",
       "<style scoped>\n",
       "    .dataframe tbody tr th:only-of-type {\n",
       "        vertical-align: middle;\n",
       "    }\n",
       "\n",
       "    .dataframe tbody tr th {\n",
       "        vertical-align: top;\n",
       "    }\n",
       "\n",
       "    .dataframe thead th {\n",
       "        text-align: right;\n",
       "    }\n",
       "</style>\n",
       "<table border=\"1\" class=\"dataframe\">\n",
       "  <thead>\n",
       "    <tr style=\"text-align: right;\">\n",
       "      <th></th>\n",
       "      <th>label</th>\n",
       "      <th>seqid</th>\n",
       "    </tr>\n",
       "  </thead>\n",
       "  <tbody>\n",
       "    <tr>\n",
       "      <th>0</th>\n",
       "      <td>0</td>\n",
       "      <td>ON075821.1_sliding:1-250</td>\n",
       "    </tr>\n",
       "    <tr>\n",
       "      <th>1</th>\n",
       "      <td>0</td>\n",
       "      <td>ON075821.1_sliding:126-375</td>\n",
       "    </tr>\n",
       "    <tr>\n",
       "      <th>2</th>\n",
       "      <td>0</td>\n",
       "      <td>ON075821.1_sliding:251-500</td>\n",
       "    </tr>\n",
       "  </tbody>\n",
       "</table>\n",
       "</div>"
      ],
      "text/plain": [
       "   label                       seqid\n",
       "0      0    ON075821.1_sliding:1-250\n",
       "1      0  ON075821.1_sliding:126-375\n",
       "2      0  ON075821.1_sliding:251-500"
      ]
     },
     "execution_count": 218,
     "metadata": {},
     "output_type": "execute_result"
    }
   ],
   "source": [
    "seq_f = \"/\".join(map(str, [\"input_examples\",  \"pred_known_4_250_\" + fold + \"/dev.tsv\"]))\n",
    "       \n",
    "if os.path.exists(seq_f):\n",
    "    df_seq = pd.read_csv(seq_f, sep=\"\\t\", usecols=lambda x: x not in [\"sequence\"])\n",
    "\n",
    "df_seq.head(3)"
   ]
  },
  {
   "cell_type": "markdown",
   "metadata": {},
   "source": [
    "## read predict results"
   ]
  },
  {
   "cell_type": "code",
   "execution_count": 219,
   "metadata": {},
   "outputs": [],
   "source": [
    "pred_f = \"/\".join(map(str, [\"input_examples\", \"pred_known_output_4_250_\" + fold, \"pred_results.npy\"]))\n",
    "        \n",
    "if os.path.exists(pred_f):\n",
    "    pred_l = np.load(pred_f)"
   ]
  },
  {
   "cell_type": "code",
   "execution_count": 220,
   "metadata": {},
   "outputs": [],
   "source": [
    "if len(pred_l) == df_seq.shape[0]:\n",
    "    df_seq[\"prob\"] = pred_l\n",
    "    df_seq = df_seq.astype({\"prob\":float, \"label\": int})"
   ]
  },
  {
   "cell_type": "markdown",
   "metadata": {},
   "source": [
    "## average score for viral genome"
   ]
  },
  {
   "cell_type": "code",
   "execution_count": 221,
   "metadata": {},
   "outputs": [
    {
     "data": {
      "text/html": [
       "<div>\n",
       "<style scoped>\n",
       "    .dataframe tbody tr th:only-of-type {\n",
       "        vertical-align: middle;\n",
       "    }\n",
       "\n",
       "    .dataframe tbody tr th {\n",
       "        vertical-align: top;\n",
       "    }\n",
       "\n",
       "    .dataframe thead th {\n",
       "        text-align: right;\n",
       "    }\n",
       "</style>\n",
       "<table border=\"1\" class=\"dataframe\">\n",
       "  <thead>\n",
       "    <tr style=\"text-align: right;\">\n",
       "      <th></th>\n",
       "      <th>virus_ID</th>\n",
       "      <th>average_prob</th>\n",
       "    </tr>\n",
       "  </thead>\n",
       "  <tbody>\n",
       "    <tr>\n",
       "      <th>0</th>\n",
       "      <td>KU893862</td>\n",
       "      <td>0.000112</td>\n",
       "    </tr>\n",
       "    <tr>\n",
       "      <th>1</th>\n",
       "      <td>KU893863</td>\n",
       "      <td>0.000112</td>\n",
       "    </tr>\n",
       "    <tr>\n",
       "      <th>2</th>\n",
       "      <td>KU893864</td>\n",
       "      <td>0.000112</td>\n",
       "    </tr>\n",
       "  </tbody>\n",
       "</table>\n",
       "</div>"
      ],
      "text/plain": [
       "   virus_ID  average_prob\n",
       "0  KU893862      0.000112\n",
       "1  KU893863      0.000112\n",
       "2  KU893864      0.000112"
      ]
     },
     "execution_count": 221,
     "metadata": {},
     "output_type": "execute_result"
    }
   ],
   "source": [
    "## merge dataframes on \"refseq.id\"\n",
    "df_seq[\"refseq.id\"] = [seqid.split(\"_sliding\")[0].split(\".\")[0] for seqid in df_seq[\"seqid\"]]\n",
    "\n",
    "df_seq_info = df_seq.merge(df_label.loc[:,[\"virus_ID\", \"refseq.id\"]], on = \"refseq.id\",\n",
    "                           how=\"left\")\n",
    "\n",
    "## average scores\n",
    "df_pred_genome = df_seq_info.groupby([\"virus_ID\"]).agg(average_prob=(\"prob\", \"mean\"))\n",
    "df_pred_genome = df_pred_genome.drop_duplicates().reset_index()\n",
    "\n",
    "df_pred_genome.head(3)"
   ]
  },
  {
   "cell_type": "code",
   "execution_count": 222,
   "metadata": {},
   "outputs": [
    {
     "data": {
      "text/html": [
       "<div>\n",
       "<style scoped>\n",
       "    .dataframe tbody tr th:only-of-type {\n",
       "        vertical-align: middle;\n",
       "    }\n",
       "\n",
       "    .dataframe tbody tr th {\n",
       "        vertical-align: top;\n",
       "    }\n",
       "\n",
       "    .dataframe thead th {\n",
       "        text-align: right;\n",
       "    }\n",
       "</style>\n",
       "<table border=\"1\" class=\"dataframe\">\n",
       "  <thead>\n",
       "    <tr style=\"text-align: right;\">\n",
       "      <th></th>\n",
       "      <th>virus_ID</th>\n",
       "      <th>average_prob</th>\n",
       "      <th>refseq.id</th>\n",
       "      <th>Family</th>\n",
       "      <th>Genus</th>\n",
       "      <th>host_label</th>\n",
       "    </tr>\n",
       "  </thead>\n",
       "  <tbody>\n",
       "  </tbody>\n",
       "</table>\n",
       "</div>"
      ],
      "text/plain": [
       "Empty DataFrame\n",
       "Columns: [virus_ID, average_prob, refseq.id, Family, Genus, host_label]\n",
       "Index: []"
      ]
     },
     "execution_count": 222,
     "metadata": {},
     "output_type": "execute_result"
    }
   ],
   "source": [
    "## add host information\n",
    "\n",
    "df_pred_genome_past = df_pred_genome.merge(df_label.loc[:, [\"virus_ID\", \"refseq.id\", \n",
    "                                                \"Family\", \"Genus\", \"host_label\"]], \n",
    "                                      on = \"virus_ID\", how=\"left\")"
   ]
  },
  {
   "cell_type": "markdown",
   "metadata": {},
   "source": [
    "# define cutoff based on the best F1 score"
   ]
  },
  {
   "cell_type": "code",
   "execution_count": 223,
   "metadata": {},
   "outputs": [],
   "source": [
    "from sklearn.metrics import f1_score, precision_recall_curve\n",
    "\n",
    "def calculate_f1_score(y_true, y_prob):\n",
    "    precision, recall, pr_thresholds = precision_recall_curve(y_true, y_prob, pos_label=1)\n",
    "    \n",
    "    # calculate f1 score\n",
    "    with np.errstate(divide='ignore', invalid='ignore'):\n",
    "        f1_scores = 2 * precision[:-1] * recall[:-1] / (precision[:-1] + recall[:-1])\n",
    "    \n",
    "    f1_scores[np.isnan(f1_scores)] = 0\n",
    "    \n",
    "    # remove cutoff value > 1\n",
    "    valid_indices = pr_thresholds < 1\n",
    "    pr_thresholds = pr_thresholds[valid_indices]\n",
    "    f1_scores = f1_scores[valid_indices]\n",
    "    \n",
    "    if len(f1_scores) > 0:\n",
    "        idx = np.argmax(f1_scores)\n",
    "        best_f1 = pr_thresholds[idx]\n",
    "    else:\n",
    "        best_f1 = np.nan\n",
    "\n",
    "    return best_f1"
   ]
  },
  {
   "cell_type": "code",
   "execution_count": 224,
   "metadata": {},
   "outputs": [
    {
     "data": {
      "text/html": [
       "<div>\n",
       "<style scoped>\n",
       "    .dataframe tbody tr th:only-of-type {\n",
       "        vertical-align: middle;\n",
       "    }\n",
       "\n",
       "    .dataframe tbody tr th {\n",
       "        vertical-align: top;\n",
       "    }\n",
       "\n",
       "    .dataframe thead th {\n",
       "        text-align: right;\n",
       "    }\n",
       "</style>\n",
       "<table border=\"1\" class=\"dataframe\">\n",
       "  <thead>\n",
       "    <tr style=\"text-align: right;\">\n",
       "      <th></th>\n",
       "      <th>F1</th>\n",
       "    </tr>\n",
       "    <tr>\n",
       "      <th>virus</th>\n",
       "      <th></th>\n",
       "    </tr>\n",
       "  </thead>\n",
       "  <tbody>\n",
       "    <tr>\n",
       "      <th>Coronaviridae</th>\n",
       "      <td>0.800124</td>\n",
       "    </tr>\n",
       "  </tbody>\n",
       "</table>\n",
       "</div>"
      ],
      "text/plain": [
       "                     F1\n",
       "virus                  \n",
       "Coronaviridae  0.800124"
      ]
     },
     "execution_count": 224,
     "metadata": {},
     "output_type": "execute_result"
    }
   ],
   "source": [
    "index_d = {\"virus\": [], \"F1\":[]}\n",
    "\n",
    "observed_host_labels = df_pred_genome_past[\"host_label\"]\n",
    "predicted_scores = df_pred_genome_past[\"average_prob\"]\n",
    "\n",
    "### Find the optimal cutoff point\n",
    "f1_cutoff = calculate_f1_score(observed_host_labels, predicted_scores)\n",
    "\n",
    "index_d[\"virus\"].append(virus)\n",
    "index_d[\"F1\"].append(f1_cutoff)\n",
    "\n",
    "## dataframe\n",
    "df_index = pd.DataFrame(index_d).set_index(\"virus\")\n",
    "df_index.head()"
   ]
  },
  {
   "cell_type": "markdown",
   "metadata": {},
   "source": [
    "# read predicted results for future viruses"
   ]
  },
  {
   "cell_type": "markdown",
   "metadata": {},
   "source": [
    "## read metadata file"
   ]
  },
  {
   "cell_type": "code",
   "execution_count": 225,
   "metadata": {},
   "outputs": [
    {
     "data": {
      "text/html": [
       "<div>\n",
       "<style scoped>\n",
       "    .dataframe tbody tr th:only-of-type {\n",
       "        vertical-align: middle;\n",
       "    }\n",
       "\n",
       "    .dataframe tbody tr th {\n",
       "        vertical-align: top;\n",
       "    }\n",
       "\n",
       "    .dataframe thead th {\n",
       "        text-align: right;\n",
       "    }\n",
       "</style>\n",
       "<table border=\"1\" class=\"dataframe\">\n",
       "  <thead>\n",
       "    <tr style=\"text-align: right;\">\n",
       "      <th></th>\n",
       "      <th>refseq.id</th>\n",
       "      <th>label</th>\n",
       "      <th>train_date</th>\n",
       "      <th>train_virus</th>\n",
       "      <th>host_label</th>\n",
       "      <th>Genus</th>\n",
       "      <th>virus_ID</th>\n",
       "      <th>Family</th>\n",
       "      <th>database</th>\n",
       "      <th>Species</th>\n",
       "    </tr>\n",
       "  </thead>\n",
       "  <tbody>\n",
       "    <tr>\n",
       "      <th>17592</th>\n",
       "      <td>NC_054003</td>\n",
       "      <td>0</td>\n",
       "      <td>20240206</td>\n",
       "      <td>Coronaviridae</td>\n",
       "      <td>0.0</td>\n",
       "      <td>Alphacoronavirus</td>\n",
       "      <td>NC_054003</td>\n",
       "      <td>Coronaviridae</td>\n",
       "      <td>GenBank</td>\n",
       "      <td>Alphacoronavirus sp.</td>\n",
       "    </tr>\n",
       "    <tr>\n",
       "      <th>17593</th>\n",
       "      <td>NC_054004</td>\n",
       "      <td>0</td>\n",
       "      <td>20240206</td>\n",
       "      <td>Coronaviridae</td>\n",
       "      <td>0.0</td>\n",
       "      <td>Alphacoronavirus</td>\n",
       "      <td>NC_054004</td>\n",
       "      <td>Coronaviridae</td>\n",
       "      <td>GenBank</td>\n",
       "      <td>Alphacoronavirus CHB25</td>\n",
       "    </tr>\n",
       "    <tr>\n",
       "      <th>17594</th>\n",
       "      <td>NC_076684</td>\n",
       "      <td>0</td>\n",
       "      <td>20240206</td>\n",
       "      <td>Coronaviridae</td>\n",
       "      <td>0.0</td>\n",
       "      <td>Alphacoronavirus</td>\n",
       "      <td>NC_076684</td>\n",
       "      <td>Coronaviridae</td>\n",
       "      <td>GenBank</td>\n",
       "      <td>Alphacoronavirus sp.</td>\n",
       "    </tr>\n",
       "  </tbody>\n",
       "</table>\n",
       "</div>"
      ],
      "text/plain": [
       "       refseq.id  label  train_date    train_virus  host_label  \\\n",
       "17592  NC_054003      0    20240206  Coronaviridae         0.0   \n",
       "17593  NC_054004      0    20240206  Coronaviridae         0.0   \n",
       "17594  NC_076684      0    20240206  Coronaviridae         0.0   \n",
       "\n",
       "                  Genus   virus_ID         Family database  \\\n",
       "17592  Alphacoronavirus  NC_054003  Coronaviridae  GenBank   \n",
       "17593  Alphacoronavirus  NC_054004  Coronaviridae  GenBank   \n",
       "17594  Alphacoronavirus  NC_076684  Coronaviridae  GenBank   \n",
       "\n",
       "                      Species  \n",
       "17592    Alphacoronavirus sp.  \n",
       "17593  Alphacoronavirus CHB25  \n",
       "17594    Alphacoronavirus sp.  "
      ]
     },
     "execution_count": 225,
     "metadata": {},
     "output_type": "execute_result"
    }
   ],
   "source": [
    "metadata_f = \"input_examples/unknown_virus_final_dataset_Coronaviridae.txt\"\n",
    "\n",
    "df_label = pd.read_csv(metadata_f, sep=\"\\t\", index_col=0)\n",
    "df_label.head(3)"
   ]
  },
  {
   "cell_type": "markdown",
   "metadata": {},
   "source": [
    "## read input file"
   ]
  },
  {
   "cell_type": "code",
   "execution_count": 226,
   "metadata": {},
   "outputs": [
    {
     "data": {
      "text/html": [
       "<div>\n",
       "<style scoped>\n",
       "    .dataframe tbody tr th:only-of-type {\n",
       "        vertical-align: middle;\n",
       "    }\n",
       "\n",
       "    .dataframe tbody tr th {\n",
       "        vertical-align: top;\n",
       "    }\n",
       "\n",
       "    .dataframe thead th {\n",
       "        text-align: right;\n",
       "    }\n",
       "</style>\n",
       "<table border=\"1\" class=\"dataframe\">\n",
       "  <thead>\n",
       "    <tr style=\"text-align: right;\">\n",
       "      <th></th>\n",
       "      <th>label</th>\n",
       "      <th>seqid</th>\n",
       "    </tr>\n",
       "  </thead>\n",
       "  <tbody>\n",
       "    <tr>\n",
       "      <th>0</th>\n",
       "      <td>0</td>\n",
       "      <td>NC_054003_sliding:1-250</td>\n",
       "    </tr>\n",
       "    <tr>\n",
       "      <th>1</th>\n",
       "      <td>0</td>\n",
       "      <td>NC_054003_sliding:126-375</td>\n",
       "    </tr>\n",
       "    <tr>\n",
       "      <th>2</th>\n",
       "      <td>0</td>\n",
       "      <td>NC_054003_sliding:251-500</td>\n",
       "    </tr>\n",
       "  </tbody>\n",
       "</table>\n",
       "</div>"
      ],
      "text/plain": [
       "   label                      seqid\n",
       "0      0    NC_054003_sliding:1-250\n",
       "1      0  NC_054003_sliding:126-375\n",
       "2      0  NC_054003_sliding:251-500"
      ]
     },
     "execution_count": 226,
     "metadata": {},
     "output_type": "execute_result"
    }
   ],
   "source": [
    "seq_f = \"/\".join(map(str, [\"input_examples\",  \"pred_unknown_4_250\", \"dev.tsv\"]))\n",
    "       \n",
    "if os.path.exists(seq_f):\n",
    "    df_seq = pd.read_csv(seq_f, sep=\"\\t\", usecols=lambda x: x not in [\"sequence\"])\n",
    "\n",
    "df_seq.head(3)"
   ]
  },
  {
   "cell_type": "markdown",
   "metadata": {},
   "source": [
    "## read predict results"
   ]
  },
  {
   "cell_type": "code",
   "execution_count": 227,
   "metadata": {},
   "outputs": [],
   "source": [
    "pred_f = \"/\".join(map(str, [\"input_examples\", \"pred_unknown_output_4_250_\" + fold, \"pred_results.npy\"]))\n",
    "        \n",
    "if os.path.exists(pred_f):\n",
    "    pred_l = np.load(pred_f)"
   ]
  },
  {
   "cell_type": "code",
   "execution_count": 228,
   "metadata": {},
   "outputs": [],
   "source": [
    "if len(pred_l) == df_seq.shape[0]:\n",
    "    df_seq[\"prob\"] = pred_l\n",
    "    df_seq = df_seq.astype({\"prob\":float, \"label\": int})"
   ]
  },
  {
   "cell_type": "markdown",
   "metadata": {},
   "source": [
    "## average score for viral genome"
   ]
  },
  {
   "cell_type": "code",
   "execution_count": 229,
   "metadata": {},
   "outputs": [
    {
     "data": {
      "text/html": [
       "<div>\n",
       "<style scoped>\n",
       "    .dataframe tbody tr th:only-of-type {\n",
       "        vertical-align: middle;\n",
       "    }\n",
       "\n",
       "    .dataframe tbody tr th {\n",
       "        vertical-align: top;\n",
       "    }\n",
       "\n",
       "    .dataframe thead th {\n",
       "        text-align: right;\n",
       "    }\n",
       "</style>\n",
       "<table border=\"1\" class=\"dataframe\">\n",
       "  <thead>\n",
       "    <tr style=\"text-align: right;\">\n",
       "      <th></th>\n",
       "      <th>virus_ID</th>\n",
       "      <th>average_prob</th>\n",
       "    </tr>\n",
       "  </thead>\n",
       "  <tbody>\n",
       "    <tr>\n",
       "      <th>0</th>\n",
       "      <td>LC663496</td>\n",
       "      <td>0.000113</td>\n",
       "    </tr>\n",
       "    <tr>\n",
       "      <th>1</th>\n",
       "      <td>LC663793</td>\n",
       "      <td>0.000135</td>\n",
       "    </tr>\n",
       "    <tr>\n",
       "      <th>2</th>\n",
       "      <td>LC706863</td>\n",
       "      <td>0.006168</td>\n",
       "    </tr>\n",
       "  </tbody>\n",
       "</table>\n",
       "</div>"
      ],
      "text/plain": [
       "   virus_ID  average_prob\n",
       "0  LC663496      0.000113\n",
       "1  LC663793      0.000135\n",
       "2  LC706863      0.006168"
      ]
     },
     "execution_count": 229,
     "metadata": {},
     "output_type": "execute_result"
    }
   ],
   "source": [
    "## merge dataframes on \"refseq.id\"\n",
    "df_seq[\"refseq.id\"] = [seqid.split(\"_sliding\")[0].split(\".\")[0] for seqid in df_seq[\"seqid\"]]\n",
    "\n",
    "df_seq_info = df_seq.merge(df_label.loc[:,[\"virus_ID\", \"refseq.id\"]], \n",
    "                                                on = \"refseq.id\",how=\"left\")\n",
    "\n",
    "## average scores\n",
    "df_pred_genome = df_seq_info.groupby([\"virus_ID\"]).agg(average_prob=(\"prob\", \"mean\"))\n",
    "df_pred_genome = df_pred_genome.drop_duplicates().reset_index()\n",
    "\n",
    "df_pred_genome.head(3)"
   ]
  },
  {
   "cell_type": "code",
   "execution_count": 230,
   "metadata": {},
   "outputs": [
    {
     "data": {
      "text/html": [
       "<div>\n",
       "<style scoped>\n",
       "    .dataframe tbody tr th:only-of-type {\n",
       "        vertical-align: middle;\n",
       "    }\n",
       "\n",
       "    .dataframe tbody tr th {\n",
       "        vertical-align: top;\n",
       "    }\n",
       "\n",
       "    .dataframe thead th {\n",
       "        text-align: right;\n",
       "    }\n",
       "</style>\n",
       "<table border=\"1\" class=\"dataframe\">\n",
       "  <thead>\n",
       "    <tr style=\"text-align: right;\">\n",
       "      <th></th>\n",
       "      <th>virus_ID</th>\n",
       "      <th>average_prob</th>\n",
       "      <th>refseq.id</th>\n",
       "      <th>Family</th>\n",
       "      <th>Genus</th>\n",
       "      <th>host_label</th>\n",
       "    </tr>\n",
       "  </thead>\n",
       "  <tbody>\n",
       "    <tr>\n",
       "      <th>0</th>\n",
       "      <td>LC663496</td>\n",
       "      <td>0.000113</td>\n",
       "      <td>LC663496</td>\n",
       "      <td>Coronaviridae</td>\n",
       "      <td>Gammacoronavirus</td>\n",
       "      <td>0.0</td>\n",
       "    </tr>\n",
       "    <tr>\n",
       "      <th>1</th>\n",
       "      <td>LC663793</td>\n",
       "      <td>0.000135</td>\n",
       "      <td>LC663793</td>\n",
       "      <td>Coronaviridae</td>\n",
       "      <td>Betacoronavirus</td>\n",
       "      <td>0.0</td>\n",
       "    </tr>\n",
       "    <tr>\n",
       "      <th>2</th>\n",
       "      <td>LC706863</td>\n",
       "      <td>0.006168</td>\n",
       "      <td>LC706863</td>\n",
       "      <td>Coronaviridae</td>\n",
       "      <td>Betacoronavirus</td>\n",
       "      <td>0.0</td>\n",
       "    </tr>\n",
       "  </tbody>\n",
       "</table>\n",
       "</div>"
      ],
      "text/plain": [
       "   virus_ID  average_prob refseq.id         Family             Genus  \\\n",
       "0  LC663496      0.000113  LC663496  Coronaviridae  Gammacoronavirus   \n",
       "1  LC663793      0.000135  LC663793  Coronaviridae   Betacoronavirus   \n",
       "2  LC706863      0.006168  LC706863  Coronaviridae   Betacoronavirus   \n",
       "\n",
       "   host_label  \n",
       "0         0.0  \n",
       "1         0.0  \n",
       "2         0.0  "
      ]
     },
     "execution_count": 230,
     "metadata": {},
     "output_type": "execute_result"
    }
   ],
   "source": [
    "## add host information\n",
    "\n",
    "df_pred_genome_future = df_pred_genome.merge(df_label.loc[:, [\"virus_ID\", \"refseq.id\", \n",
    "                                                \"Family\", \"Genus\", \"host_label\"]], \n",
    "                                      on = \"virus_ID\", how=\"left\")\n",
    "\n",
    "df_pred_genome_future.head(3)"
   ]
  },
  {
   "cell_type": "markdown",
   "metadata": {},
   "source": [
    "# F1, precision, recall metrics at virus family level"
   ]
  },
  {
   "cell_type": "code",
   "execution_count": 231,
   "metadata": {},
   "outputs": [
    {
     "data": {
      "text/html": [
       "<div>\n",
       "<style scoped>\n",
       "    .dataframe tbody tr th:only-of-type {\n",
       "        vertical-align: middle;\n",
       "    }\n",
       "\n",
       "    .dataframe tbody tr th {\n",
       "        vertical-align: top;\n",
       "    }\n",
       "\n",
       "    .dataframe thead th {\n",
       "        text-align: right;\n",
       "    }\n",
       "</style>\n",
       "<table border=\"1\" class=\"dataframe\">\n",
       "  <thead>\n",
       "    <tr style=\"text-align: right;\">\n",
       "      <th></th>\n",
       "      <th>Family</th>\n",
       "      <th>precision</th>\n",
       "      <th>recall</th>\n",
       "      <th>f1_score</th>\n",
       "    </tr>\n",
       "  </thead>\n",
       "  <tbody>\n",
       "    <tr>\n",
       "      <th>0</th>\n",
       "      <td>Coronaviridae</td>\n",
       "      <td>0.866667</td>\n",
       "      <td>1.0</td>\n",
       "      <td>0.928571</td>\n",
       "    </tr>\n",
       "  </tbody>\n",
       "</table>\n",
       "</div>"
      ],
      "text/plain": [
       "          Family  precision  recall  f1_score\n",
       "0  Coronaviridae   0.866667     1.0  0.928571"
      ]
     },
     "execution_count": 231,
     "metadata": {},
     "output_type": "execute_result"
    }
   ],
   "source": [
    "## call cutoff\n",
    "cutoff = df_index.loc[virus, \"F1\"]\n",
    "\n",
    "## add prediction results\n",
    "df_pred_genome_future[\"pred\"] = df_pred_genome_future[\"average_prob\"] > cutoff\n",
    "\n",
    "# Calculate precision, recall, and F1 score for each model and Family\n",
    "from sklearn.metrics import precision_score, recall_score, f1_score\n",
    "\n",
    "df_scores_family = df_pred_genome_future.groupby(\"Family\").apply(\n",
    "    lambda x: pd.Series({\n",
    "        'precision': precision_score(x['host_label'], x['pred']),\n",
    "        'recall': recall_score(x['host_label'], x['pred']),\n",
    "        'f1_score': f1_score(x['host_label'], x['pred'])\n",
    "    })\n",
    ").reset_index()\n",
    "\n",
    "df_scores_family.head()"
   ]
  },
  {
   "cell_type": "markdown",
   "metadata": {},
   "source": [
    "# # F1, precision, recall metrics at virus genus level"
   ]
  },
  {
   "cell_type": "code",
   "execution_count": 232,
   "metadata": {},
   "outputs": [
    {
     "name": "stderr",
     "output_type": "stream",
     "text": [
      "/Users/junna/anaconda3/envs/env_210819/lib/python3.9/site-packages/sklearn/metrics/_classification.py:1344: UndefinedMetricWarning: Precision is ill-defined and being set to 0.0 due to no predicted samples. Use `zero_division` parameter to control this behavior.\n",
      "  _warn_prf(average, modifier, msg_start, len(result))\n",
      "/Users/junna/anaconda3/envs/env_210819/lib/python3.9/site-packages/sklearn/metrics/_classification.py:1344: UndefinedMetricWarning: Recall is ill-defined and being set to 0.0 due to no true samples. Use `zero_division` parameter to control this behavior.\n",
      "  _warn_prf(average, modifier, msg_start, len(result))\n",
      "/Users/junna/anaconda3/envs/env_210819/lib/python3.9/site-packages/sklearn/metrics/_classification.py:1609: UndefinedMetricWarning: F-score is ill-defined and being set to 0.0 due to no true nor predicted samples. Use `zero_division` parameter to control this behavior.\n",
      "  _warn_prf(average, \"true nor predicted\", \"F-score is\", len(true_sum))\n",
      "/Users/junna/anaconda3/envs/env_210819/lib/python3.9/site-packages/sklearn/metrics/_classification.py:1344: UndefinedMetricWarning: Precision is ill-defined and being set to 0.0 due to no predicted samples. Use `zero_division` parameter to control this behavior.\n",
      "  _warn_prf(average, modifier, msg_start, len(result))\n",
      "/Users/junna/anaconda3/envs/env_210819/lib/python3.9/site-packages/sklearn/metrics/_classification.py:1344: UndefinedMetricWarning: Recall is ill-defined and being set to 0.0 due to no true samples. Use `zero_division` parameter to control this behavior.\n",
      "  _warn_prf(average, modifier, msg_start, len(result))\n",
      "/Users/junna/anaconda3/envs/env_210819/lib/python3.9/site-packages/sklearn/metrics/_classification.py:1609: UndefinedMetricWarning: F-score is ill-defined and being set to 0.0 due to no true nor predicted samples. Use `zero_division` parameter to control this behavior.\n",
      "  _warn_prf(average, \"true nor predicted\", \"F-score is\", len(true_sum))\n"
     ]
    },
    {
     "data": {
      "text/html": [
       "<div>\n",
       "<style scoped>\n",
       "    .dataframe tbody tr th:only-of-type {\n",
       "        vertical-align: middle;\n",
       "    }\n",
       "\n",
       "    .dataframe tbody tr th {\n",
       "        vertical-align: top;\n",
       "    }\n",
       "\n",
       "    .dataframe thead th {\n",
       "        text-align: right;\n",
       "    }\n",
       "</style>\n",
       "<table border=\"1\" class=\"dataframe\">\n",
       "  <thead>\n",
       "    <tr style=\"text-align: right;\">\n",
       "      <th></th>\n",
       "      <th>Family</th>\n",
       "      <th>Genus</th>\n",
       "      <th>precision</th>\n",
       "      <th>recall</th>\n",
       "      <th>f1_score</th>\n",
       "    </tr>\n",
       "  </thead>\n",
       "  <tbody>\n",
       "    <tr>\n",
       "      <th>0</th>\n",
       "      <td>Coronaviridae</td>\n",
       "      <td>Alphacoronavirus</td>\n",
       "      <td>0.583333</td>\n",
       "      <td>1.0</td>\n",
       "      <td>0.736842</td>\n",
       "    </tr>\n",
       "    <tr>\n",
       "      <th>1</th>\n",
       "      <td>Coronaviridae</td>\n",
       "      <td>Betacoronavirus</td>\n",
       "      <td>0.969697</td>\n",
       "      <td>1.0</td>\n",
       "      <td>0.984615</td>\n",
       "    </tr>\n",
       "    <tr>\n",
       "      <th>2</th>\n",
       "      <td>Coronaviridae</td>\n",
       "      <td>Deltacoronavirus</td>\n",
       "      <td>0.000000</td>\n",
       "      <td>0.0</td>\n",
       "      <td>0.000000</td>\n",
       "    </tr>\n",
       "    <tr>\n",
       "      <th>3</th>\n",
       "      <td>Coronaviridae</td>\n",
       "      <td>Gammacoronavirus</td>\n",
       "      <td>0.000000</td>\n",
       "      <td>0.0</td>\n",
       "      <td>0.000000</td>\n",
       "    </tr>\n",
       "  </tbody>\n",
       "</table>\n",
       "</div>"
      ],
      "text/plain": [
       "          Family             Genus  precision  recall  f1_score\n",
       "0  Coronaviridae  Alphacoronavirus   0.583333     1.0  0.736842\n",
       "1  Coronaviridae   Betacoronavirus   0.969697     1.0  0.984615\n",
       "2  Coronaviridae  Deltacoronavirus   0.000000     0.0  0.000000\n",
       "3  Coronaviridae  Gammacoronavirus   0.000000     0.0  0.000000"
      ]
     },
     "execution_count": 232,
     "metadata": {},
     "output_type": "execute_result"
    }
   ],
   "source": [
    "## call cutoff\n",
    "cutoff = df_index.loc[virus, \"F1\"]\n",
    "\n",
    "## add prediction results\n",
    "df_pred_genome_future[\"pred\"] = df_pred_genome_future[\"average_prob\"] > cutoff\n",
    "\n",
    "# Calculate precision, recall, and F1 score for each model and Family\n",
    "from sklearn.metrics import precision_score, recall_score, f1_score\n",
    "\n",
    "df_scores_genus = df_pred_genome_future.groupby([\"Family\", \"Genus\"]).apply(\n",
    "    lambda x: pd.Series({\n",
    "        'precision': precision_score(x['host_label'], x['pred']),\n",
    "        'recall': recall_score(x['host_label'], x['pred']),\n",
    "        'f1_score': f1_score(x['host_label'], x['pred'])\n",
    "    })\n",
    ").reset_index()\n",
    "\n",
    "df_scores_genus.head()"
   ]
  },
  {
   "cell_type": "markdown",
   "metadata": {},
   "source": [
    "# Enrichment of positive labels in the top20% of predicted probabilities"
   ]
  },
  {
   "cell_type": "code",
   "execution_count": 233,
   "metadata": {},
   "outputs": [
    {
     "data": {
      "text/html": [
       "<div>\n",
       "<style scoped>\n",
       "    .dataframe tbody tr th:only-of-type {\n",
       "        vertical-align: middle;\n",
       "    }\n",
       "\n",
       "    .dataframe tbody tr th {\n",
       "        vertical-align: top;\n",
       "    }\n",
       "\n",
       "    .dataframe thead th {\n",
       "        text-align: right;\n",
       "    }\n",
       "</style>\n",
       "<table border=\"1\" class=\"dataframe\">\n",
       "  <thead>\n",
       "    <tr style=\"text-align: right;\">\n",
       "      <th></th>\n",
       "      <th>Family</th>\n",
       "      <th>top20</th>\n",
       "    </tr>\n",
       "  </thead>\n",
       "  <tbody>\n",
       "    <tr>\n",
       "      <th>0</th>\n",
       "      <td>Coronaviridae</td>\n",
       "      <td>1.0</td>\n",
       "    </tr>\n",
       "  </tbody>\n",
       "</table>\n",
       "</div>"
      ],
      "text/plain": [
       "          Family  top20\n",
       "0  Coronaviridae    1.0"
      ]
     },
     "execution_count": 233,
     "metadata": {},
     "output_type": "execute_result"
    }
   ],
   "source": [
    "top20_d = {\"Family\":[],  \"top20\":[]}\n",
    "\n",
    "df_pred_genome_future.reset_index(inplace=True)\n",
    "\n",
    "y_true = df_pred_genome_future[\"host_label\"]\n",
    "y_scores = df_pred_genome_future[\"average_prob\"]\n",
    "\n",
    "# sort viruses based on the predicted probability\n",
    "sorted_indices = np.argsort(y_scores)[::-1]\n",
    "y_true_sorted = y_true[sorted_indices]\n",
    "\n",
    "# detection rate of positive labels within the top20% of predicted probabilities\n",
    "top_20_percent_index = int(len(y_true_sorted) * 0.2)\n",
    "top_20_percent_true = y_true_sorted[:top_20_percent_index]\n",
    "percent_of_positives_in_top_20 = np.sum(top_20_percent_true) / np.sum(y_true)\n",
    "\n",
    "top20_d[\"Family\"].append(virus)\n",
    "top20_d[\"top20\"].append(percent_of_positives_in_top_20)\n",
    "\n",
    "df_top20 = pd.DataFrame(top20_d)\n",
    "df_top20.head()"
   ]
  },
  {
   "cell_type": "markdown",
   "metadata": {},
   "source": [
    "# plot ranking of predicted probabilities"
   ]
  },
  {
   "cell_type": "code",
   "execution_count": 234,
   "metadata": {},
   "outputs": [
    {
     "data": {
      "text/html": [
       "<div>\n",
       "<style scoped>\n",
       "    .dataframe tbody tr th:only-of-type {\n",
       "        vertical-align: middle;\n",
       "    }\n",
       "\n",
       "    .dataframe tbody tr th {\n",
       "        vertical-align: top;\n",
       "    }\n",
       "\n",
       "    .dataframe thead th {\n",
       "        text-align: right;\n",
       "    }\n",
       "</style>\n",
       "<table border=\"1\" class=\"dataframe\">\n",
       "  <thead>\n",
       "    <tr style=\"text-align: right;\">\n",
       "      <th></th>\n",
       "      <th>virus_ID</th>\n",
       "      <th>average_prob</th>\n",
       "      <th>refseq.id</th>\n",
       "      <th>Family</th>\n",
       "      <th>Genus</th>\n",
       "      <th>host_label</th>\n",
       "      <th>dataset</th>\n",
       "      <th>index</th>\n",
       "      <th>pred</th>\n",
       "      <th>rank</th>\n",
       "    </tr>\n",
       "  </thead>\n",
       "  <tbody>\n",
       "    <tr>\n",
       "      <th>92</th>\n",
       "      <td>MK071629</td>\n",
       "      <td>0.000112</td>\n",
       "      <td>MK071629</td>\n",
       "      <td>Coronaviridae</td>\n",
       "      <td>Alphacoronavirus</td>\n",
       "      <td>0.0</td>\n",
       "      <td>past</td>\n",
       "      <td>NaN</td>\n",
       "      <td>NaN</td>\n",
       "      <td>0</td>\n",
       "    </tr>\n",
       "    <tr>\n",
       "      <th>154</th>\n",
       "      <td>MN692773</td>\n",
       "      <td>0.000112</td>\n",
       "      <td>MN692773</td>\n",
       "      <td>Coronaviridae</td>\n",
       "      <td>Alphacoronavirus</td>\n",
       "      <td>0.0</td>\n",
       "      <td>past</td>\n",
       "      <td>NaN</td>\n",
       "      <td>NaN</td>\n",
       "      <td>1</td>\n",
       "    </tr>\n",
       "    <tr>\n",
       "      <th>158</th>\n",
       "      <td>MN692777</td>\n",
       "      <td>0.000112</td>\n",
       "      <td>MN692777</td>\n",
       "      <td>Coronaviridae</td>\n",
       "      <td>Alphacoronavirus</td>\n",
       "      <td>0.0</td>\n",
       "      <td>past</td>\n",
       "      <td>NaN</td>\n",
       "      <td>NaN</td>\n",
       "      <td>2</td>\n",
       "    </tr>\n",
       "  </tbody>\n",
       "</table>\n",
       "</div>"
      ],
      "text/plain": [
       "     virus_ID  average_prob refseq.id         Family             Genus  \\\n",
       "92   MK071629      0.000112  MK071629  Coronaviridae  Alphacoronavirus   \n",
       "154  MN692773      0.000112  MN692773  Coronaviridae  Alphacoronavirus   \n",
       "158  MN692777      0.000112  MN692777  Coronaviridae  Alphacoronavirus   \n",
       "\n",
       "     host_label dataset  index pred  rank  \n",
       "92          0.0    past    NaN  NaN     0  \n",
       "154         0.0    past    NaN  NaN     1  \n",
       "158         0.0    past    NaN  NaN     2  "
      ]
     },
     "execution_count": 234,
     "metadata": {},
     "output_type": "execute_result"
    }
   ],
   "source": [
    "## dataset label\n",
    "df_pred_genome_past[\"dataset\"] = \"past\"\n",
    "df_pred_genome_future[\"dataset\"] = \"future\"\n",
    "\n",
    "## combine dataframes\n",
    "df_pred_all = pd.concat([df_pred_genome_past, df_pred_genome_future])\n",
    "\n",
    "## add ranking\n",
    "df_pred_all = df_pred_all.sort_values(\"average_prob\")\n",
    "df_pred_all[\"rank\"] = df_pred_all.reset_index().index.tolist()\n",
    "\n",
    "df_pred_all.head(3)"
   ]
  },
  {
   "cell_type": "code",
   "execution_count": 240,
   "metadata": {},
   "outputs": [
    {
     "name": "stdout",
     "output_type": "stream",
     "text": [
      "0 0.800123542388907\n",
      "0 0.05423843146914583\n",
      "1 0.800123542388907\n",
      "1 0.05423843146914583\n"
     ]
    },
    {
     "data": {
      "image/png": "[encoded data removed]",
      "text/plain": [
       "<Figure size 476.932x196.85 with 2 Axes>"
      ]
     },
     "metadata": {},
     "output_type": "display_data"
    }
   ],
   "source": [
    "sns.set(font = \"Arial\", font_scale=0.5)\n",
    "cm = 1/2.54\n",
    "\n",
    "g = sns.relplot(data=df_pred_all, y=\"rank\", x=\"average_prob\", hue=\"host_label\", \n",
    "            kind=\"scatter\", alpha=0.7, col = \"dataset\", col_order=[\"past\", \"future\"],\n",
    "               hue_order = [0,1], palette=[\"indigo\", \"gold\"], \n",
    "               size=1, linewidth=0.1, height=5*cm, aspect=1.1)\n",
    "\n",
    "g.set_titles(row_template = '{row_name}', col_template = '{col_name}')\n",
    "\n",
    "axes = g.axes.flatten()\n",
    "\n",
    "df_future = df_pred_all[df_pred_all[\"dataset\"].isin([\"future\"])]\n",
    "\n",
    "for n, ax in enumerate(axes):\n",
    "    index = n % 3 \n",
    "    cutoff = df_index.loc[virus, \"F1\"]\n",
    "    print (n, cutoff)\n",
    "    \n",
    "    ax.axvline(x=cutoff, color='black', linestyle='--', label='best F1')\n",
    "    \n",
    "    # prob列を降順にソートし、上位20%のしきい値を求める\n",
    "    top_20_percent_threshold = df_future['average_prob'].quantile(0.80)\n",
    "    print (n, top_20_percent_threshold)\n",
    "    \n",
    "    if (n+3) % 3 != 0:\n",
    "        ax.axvline(x=top_20_percent_threshold, color='gray', linestyle='--', label='top20%')\n",
    "\n",
    "plt.tight_layout()\n",
    "plt.show()"
   ]
  },
  {
   "cell_type": "code",
   "execution_count": null,
   "metadata": {},
   "outputs": [],
   "source": []
  }
 ],
 "metadata": {
  "kernelspec": {
   "display_name": "env_210819",
   "language": "python",
   "name": "env_210819"
  },
  "language_info": {
   "codemirror_mode": {
    "name": "ipython",
    "version": 3
   },
   "file_extension": ".py",
   "mimetype": "text/x-python",
   "name": "python",
   "nbconvert_exporter": "python",
   "pygments_lexer": "ipython3",
   "version": "3.9.18"
  },
  "toc": {
   "base_numbering": 1,
   "nav_menu": {},
   "number_sections": true,
   "sideBar": true,
   "skip_h1_title": false,
   "title_cell": "Table of Contents",
   "title_sidebar": "Contents",
   "toc_cell": true,
   "toc_position": {},
   "toc_section_display": true,
   "toc_window_display": true
  }
 },
 "nbformat": 4,
 "nbformat_minor": 4
}
