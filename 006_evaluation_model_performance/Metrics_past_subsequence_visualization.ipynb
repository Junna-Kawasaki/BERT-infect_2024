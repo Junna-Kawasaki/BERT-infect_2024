{
 "cells": [
  {
   "cell_type": "markdown",
   "metadata": {
    "toc": true
   },
   "source": [
    "<h1>Table of Contents<span class=\"tocSkip\"></span></h1>\n",
    "<div class=\"toc\"><ul class=\"toc-item\"><li><span><a href=\"#curated-datasetの結果読み込み\" data-toc-modified-id=\"curated-datasetの結果読み込み-1\"><span class=\"toc-item-num\">1&nbsp;&nbsp;</span>curated datasetの結果読み込み</a></span><ul class=\"toc-item\"><li><span><a href=\"#集計対象のデータセット\" data-toc-modified-id=\"集計対象のデータセット-1.1\"><span class=\"toc-item-num\">1.1&nbsp;&nbsp;</span>集計対象のデータセット</a></span></li></ul></li><li><span><a href=\"#known-virus,-genbank,-virus_IDレベルでの集計\" data-toc-modified-id=\"known-virus,-genbank,-virus_IDレベルでの集計-2\"><span class=\"toc-item-num\">2&nbsp;&nbsp;</span>known virus, genbank, virus_IDレベルでの集計</a></span><ul class=\"toc-item\"><li><span><a href=\"#結果読み込み\" data-toc-modified-id=\"結果読み込み-2.1\"><span class=\"toc-item-num\">2.1&nbsp;&nbsp;</span>結果読み込み</a></span></li><li><span><a href=\"#ダウンサンプリング前後の比較\" data-toc-modified-id=\"ダウンサンプリング前後の比較-2.2\"><span class=\"toc-item-num\">2.2&nbsp;&nbsp;</span>ダウンサンプリング前後の比較</a></span></li><li><span><a href=\"#finalデータセットの集計\" data-toc-modified-id=\"finalデータセットの集計-2.3\"><span class=\"toc-item-num\">2.3&nbsp;&nbsp;</span>finalデータセットの集計</a></span></li><li><span><a href=\"#表形式での出力（genbank限定）\" data-toc-modified-id=\"表形式での出力（genbank限定）-2.4\"><span class=\"toc-item-num\">2.4&nbsp;&nbsp;</span>表形式での出力（genbank限定）</a></span></li><li><span><a href=\"#ウイルスのゲノムタイプごとに分けてモデル比較\" data-toc-modified-id=\"ウイルスのゲノムタイプごとに分けてモデル比較-2.5\"><span class=\"toc-item-num\">2.5&nbsp;&nbsp;</span>ウイルスのゲノムタイプごとに分けてモデル比較</a></span><ul class=\"toc-item\"><li><span><a href=\"#figure:-ウイルスゲノムでパネル分け\" data-toc-modified-id=\"figure:-ウイルスゲノムでパネル分け-2.5.1\"><span class=\"toc-item-num\">2.5.1&nbsp;&nbsp;</span>figure: ウイルスゲノムでパネル分け</a></span></li></ul></li><li><span><a href=\"#source-data-(fig-2c)\" data-toc-modified-id=\"source-data-(fig-2c)-2.6\"><span class=\"toc-item-num\">2.6&nbsp;&nbsp;</span>source data (fig 2c)</a></span></li><li><span><a href=\"#AUROC,-PR-AUCでの中央値\" data-toc-modified-id=\"AUROC,-PR-AUCでの中央値-2.7\"><span class=\"toc-item-num\">2.7&nbsp;&nbsp;</span>AUROC, PR-AUCでの中央値</a></span></li></ul></li><li><span><a href=\"#known-virus,-VHDB,-virus_IDレベルでの集計\" data-toc-modified-id=\"known-virus,-VHDB,-virus_IDレベルでの集計-3\"><span class=\"toc-item-num\">3&nbsp;&nbsp;</span>known virus, VHDB, virus_IDレベルでの集計</a></span><ul class=\"toc-item\"><li><span><a href=\"#結果読み込み\" data-toc-modified-id=\"結果読み込み-3.1\"><span class=\"toc-item-num\">3.1&nbsp;&nbsp;</span>結果読み込み</a></span></li><li><span><a href=\"#vhdbデータセットでの集計\" data-toc-modified-id=\"vhdbデータセットでの集計-3.2\"><span class=\"toc-item-num\">3.2&nbsp;&nbsp;</span>vhdbデータセットでの集計</a></span></li><li><span><a href=\"#表形式での出力\" data-toc-modified-id=\"表形式での出力-3.3\"><span class=\"toc-item-num\">3.3&nbsp;&nbsp;</span>表形式での出力</a></span></li><li><span><a href=\"#source-data-(fig-s2,-prauc)\" data-toc-modified-id=\"source-data-(fig-s2,-prauc)-3.4\"><span class=\"toc-item-num\">3.4&nbsp;&nbsp;</span>source data (fig s2, prauc)</a></span></li><li><span><a href=\"#source-data-(fig-s2,-auroc)\" data-toc-modified-id=\"source-data-(fig-s2,-auroc)-3.5\"><span class=\"toc-item-num\">3.5&nbsp;&nbsp;</span>source data (fig s2, auroc)</a></span></li><li><span><a href=\"#ウイルスのゲノムタイプごとに分けてモデル比較\" data-toc-modified-id=\"ウイルスのゲノムタイプごとに分けてモデル比較-3.6\"><span class=\"toc-item-num\">3.6&nbsp;&nbsp;</span>ウイルスのゲノムタイプごとに分けてモデル比較</a></span></li></ul></li><li><span><a href=\"#known-virus,-genbank,-混同行列\" data-toc-modified-id=\"known-virus,-genbank,-混同行列-4\"><span class=\"toc-item-num\">4&nbsp;&nbsp;</span>known virus, genbank, 混同行列</a></span><ul class=\"toc-item\"><li><span><a href=\"#予測結果の読み込み\" data-toc-modified-id=\"予測結果の読み込み-4.1\"><span class=\"toc-item-num\">4.1&nbsp;&nbsp;</span>予測結果の読み込み</a></span></li><li><span><a href=\"#curated-dataの読み込み\" data-toc-modified-id=\"curated-dataの読み込み-4.2\"><span class=\"toc-item-num\">4.2&nbsp;&nbsp;</span>curated dataの読み込み</a></span></li><li><span><a href=\"#予測結果の追加\" data-toc-modified-id=\"予測結果の追加-4.3\"><span class=\"toc-item-num\">4.3&nbsp;&nbsp;</span>予測結果の追加</a></span></li><li><span><a href=\"#ゲノムタイプの追加\" data-toc-modified-id=\"ゲノムタイプの追加-4.4\"><span class=\"toc-item-num\">4.4&nbsp;&nbsp;</span>ゲノムタイプの追加</a></span></li><li><span><a href=\"#混同行列\" data-toc-modified-id=\"混同行列-4.5\"><span class=\"toc-item-num\">4.5&nbsp;&nbsp;</span>混同行列</a></span></li></ul></li><li><span><a href=\"#ヒト感染性が疑われた動物由来ウイルスの集合\" data-toc-modified-id=\"ヒト感染性が疑われた動物由来ウイルスの集合-5\"><span class=\"toc-item-num\">5&nbsp;&nbsp;</span>ヒト感染性が疑われた動物由来ウイルスの集合</a></span><ul class=\"toc-item\"><li><span><a href=\"#ウイルスごとの予測結果を読み込み\" data-toc-modified-id=\"ウイルスごとの予測結果を読み込み-5.1\"><span class=\"toc-item-num\">5.1&nbsp;&nbsp;</span>ウイルスごとの予測結果を読み込み</a></span></li><li><span><a href=\"#finalデータセットでの集計\" data-toc-modified-id=\"finalデータセットでの集計-5.2\"><span class=\"toc-item-num\">5.2&nbsp;&nbsp;</span>finalデータセットでの集計</a></span></li><li><span><a href=\"#特異度・感度のバランスをとった判定基準の設定\" data-toc-modified-id=\"特異度・感度のバランスをとった判定基準の設定-5.3\"><span class=\"toc-item-num\">5.3&nbsp;&nbsp;</span>特異度・感度のバランスをとった判定基準の設定</a></span></li><li><span><a href=\"#cutoffに従って感染性を予測\" data-toc-modified-id=\"cutoffに従って感染性を予測-5.4\"><span class=\"toc-item-num\">5.4&nbsp;&nbsp;</span>cutoffに従って感染性を予測</a></span></li><li><span><a href=\"#genbankデータだけ取得\" data-toc-modified-id=\"genbankデータだけ取得-5.5\"><span class=\"toc-item-num\">5.5&nbsp;&nbsp;</span>genbankデータだけ取得</a></span></li><li><span><a href=\"#figure\" data-toc-modified-id=\"figure-5.6\"><span class=\"toc-item-num\">5.6&nbsp;&nbsp;</span>figure</a></span></li><li><span><a href=\"#全てのモデルでヒト感染性が疑われたウイルスの数\" data-toc-modified-id=\"全てのモデルでヒト感染性が疑われたウイルスの数-5.7\"><span class=\"toc-item-num\">5.7&nbsp;&nbsp;</span>全てのモデルでヒト感染性が疑われたウイルスの数</a></span></li></ul></li><li><span><a href=\"#source-data-(figure-s4)\" data-toc-modified-id=\"source-data-(figure-s4)-6\"><span class=\"toc-item-num\">6&nbsp;&nbsp;</span>source data (figure s4)</a></span><ul class=\"toc-item\"><li><span><a href=\"#ヒト感染性が疑われたウイルスのうち、全てのモデルで予測確率が揃っているもの\" data-toc-modified-id=\"ヒト感染性が疑われたウイルスのうち、全てのモデルで予測確率が揃っているもの-6.1\"><span class=\"toc-item-num\">6.1&nbsp;&nbsp;</span>ヒト感染性が疑われたウイルスのうち、全てのモデルで予測確率が揃っているもの</a></span></li><li><span><a href=\"#全てのモデルで予測確率が揃っているか？\" data-toc-modified-id=\"全てのモデルで予測確率が揃っているか？-6.2\"><span class=\"toc-item-num\">6.2&nbsp;&nbsp;</span>全てのモデルで予測確率が揃っているか？</a></span></li><li><span><a href=\"#Trueが多い順に並び替える\" data-toc-modified-id=\"Trueが多い順に並び替える-6.3\"><span class=\"toc-item-num\">6.3&nbsp;&nbsp;</span>Trueが多い順に並び替える</a></span></li><li><span><a href=\"#ウイルス科の情報をつける\" data-toc-modified-id=\"ウイルス科の情報をつける-6.4\"><span class=\"toc-item-num\">6.4&nbsp;&nbsp;</span>ウイルス科の情報をつける</a></span></li><li><span><a href=\"#列を並び替え\" data-toc-modified-id=\"列を並び替え-6.5\"><span class=\"toc-item-num\">6.5&nbsp;&nbsp;</span>列を並び替え</a></span></li><li><span><a href=\"#出力\" data-toc-modified-id=\"出力-6.6\"><span class=\"toc-item-num\">6.6&nbsp;&nbsp;</span>出力</a></span></li></ul></li></ul></div>"
   ]
  },
  {
   "cell_type": "code",
   "execution_count": 2,
   "metadata": {
    "ExecuteTime": {
     "end_time": "2024-04-29T06:00:43.655651Z",
     "start_time": "2024-04-29T06:00:43.645444Z"
    }
   },
   "outputs": [],
   "source": [
    "#!/usr/bin/env python\n",
    "import sys, re\n",
    "argvs = sys.argv\n",
    "sys.setrecursionlimit(10000000)\n",
    "\n",
    "import os\n",
    "import collections\n",
    "import numpy as np\n",
    "import pandas as pd\n",
    "import array\n",
    "pd.set_option(\"display.max_colwidth\", 200)\n",
    "pd.set_option(\"display.max_columns\", 200)\n",
    "pd.set_option(\"display.max_rows\", 300)\n",
    "\n",
    "import glob\n",
    "\n",
    "## visualize\n",
    "import matplotlib\n",
    "import matplotlib.pyplot as plt\n",
    "import seaborn as sns\n",
    "sns.set()\n",
    "\n",
    "from itertools import zip_longest\n",
    "\n",
    "plt.rcParams['font.family'] = \"Arial\""
   ]
  },
  {
   "cell_type": "markdown",
   "metadata": {},
   "source": [
    "# example dataset"
   ]
  },
  {
   "cell_type": "code",
   "execution_count": 3,
   "metadata": {
    "ExecuteTime": {
     "end_time": "2024-04-29T06:00:43.769659Z",
     "start_time": "2024-04-29T06:00:43.751679Z"
    }
   },
   "outputs": [],
   "source": [
    "virus=\"Coronaviridae\"\n",
    "fold=\"fold_0\"\n",
    "length_l = [500,1000,3000,5000,10000]"
   ]
  },
  {
   "cell_type": "markdown",
   "metadata": {},
   "source": [
    "# predict results"
   ]
  },
  {
   "cell_type": "markdown",
   "metadata": {},
   "source": [
    "## read metadata file"
   ]
  },
  {
   "cell_type": "code",
   "execution_count": 4,
   "metadata": {},
   "outputs": [
    {
     "data": {
      "text/html": [
       "<div>\n",
       "<style scoped>\n",
       "    .dataframe tbody tr th:only-of-type {\n",
       "        vertical-align: middle;\n",
       "    }\n",
       "\n",
       "    .dataframe tbody tr th {\n",
       "        vertical-align: top;\n",
       "    }\n",
       "\n",
       "    .dataframe thead th {\n",
       "        text-align: right;\n",
       "    }\n",
       "</style>\n",
       "<table border=\"1\" class=\"dataframe\">\n",
       "  <thead>\n",
       "    <tr style=\"text-align: right;\">\n",
       "      <th></th>\n",
       "      <th>refseq.id</th>\n",
       "      <th>fold_0</th>\n",
       "      <th>label</th>\n",
       "      <th>sampling</th>\n",
       "      <th>database</th>\n",
       "      <th>date</th>\n",
       "      <th>fold_1</th>\n",
       "      <th>fold_2</th>\n",
       "      <th>fold_3</th>\n",
       "      <th>fold_4</th>\n",
       "      <th>host_label</th>\n",
       "      <th>Genus</th>\n",
       "      <th>virus_ID</th>\n",
       "      <th>Family</th>\n",
       "      <th>Species</th>\n",
       "    </tr>\n",
       "  </thead>\n",
       "  <tbody>\n",
       "    <tr>\n",
       "      <th>73331</th>\n",
       "      <td>OQ175110</td>\n",
       "      <td>train</td>\n",
       "      <td>0</td>\n",
       "      <td>normal</td>\n",
       "      <td>GenBank</td>\n",
       "      <td>20240206</td>\n",
       "      <td>pred</td>\n",
       "      <td>train</td>\n",
       "      <td>train</td>\n",
       "      <td>train</td>\n",
       "      <td>0.0</td>\n",
       "      <td>NaN</td>\n",
       "      <td>OQ175110</td>\n",
       "      <td>Coronaviridae</td>\n",
       "      <td>Bat Coronavirus MrGD17</td>\n",
       "    </tr>\n",
       "    <tr>\n",
       "      <th>73332</th>\n",
       "      <td>OQ175111</td>\n",
       "      <td>train</td>\n",
       "      <td>0</td>\n",
       "      <td>normal</td>\n",
       "      <td>GenBank</td>\n",
       "      <td>20240206</td>\n",
       "      <td>pred</td>\n",
       "      <td>train</td>\n",
       "      <td>dev</td>\n",
       "      <td>train</td>\n",
       "      <td>0.0</td>\n",
       "      <td>NaN</td>\n",
       "      <td>OQ175111</td>\n",
       "      <td>Coronaviridae</td>\n",
       "      <td>Bat Coronavirus MrGD17</td>\n",
       "    </tr>\n",
       "    <tr>\n",
       "      <th>73333</th>\n",
       "      <td>OQ175112</td>\n",
       "      <td>train</td>\n",
       "      <td>0</td>\n",
       "      <td>normal</td>\n",
       "      <td>GenBank</td>\n",
       "      <td>20240206</td>\n",
       "      <td>pred</td>\n",
       "      <td>train</td>\n",
       "      <td>train</td>\n",
       "      <td>dev</td>\n",
       "      <td>0.0</td>\n",
       "      <td>NaN</td>\n",
       "      <td>OQ175112</td>\n",
       "      <td>Coronaviridae</td>\n",
       "      <td>Bat Coronavirus MrGD17</td>\n",
       "    </tr>\n",
       "  </tbody>\n",
       "</table>\n",
       "</div>"
      ],
      "text/plain": [
       "      refseq.id fold_0  label sampling database      date fold_1 fold_2  \\\n",
       "73331  OQ175110  train      0   normal  GenBank  20240206   pred  train   \n",
       "73332  OQ175111  train      0   normal  GenBank  20240206   pred  train   \n",
       "73333  OQ175112  train      0   normal  GenBank  20240206   pred  train   \n",
       "\n",
       "      fold_3 fold_4  host_label Genus  virus_ID         Family  \\\n",
       "73331  train  train         0.0   NaN  OQ175110  Coronaviridae   \n",
       "73332    dev  train         0.0   NaN  OQ175111  Coronaviridae   \n",
       "73333  train    dev         0.0   NaN  OQ175112  Coronaviridae   \n",
       "\n",
       "                      Species  \n",
       "73331  Bat Coronavirus MrGD17  \n",
       "73332  Bat Coronavirus MrGD17  \n",
       "73333  Bat Coronavirus MrGD17  "
      ]
     },
     "execution_count": 4,
     "metadata": {},
     "output_type": "execute_result"
    }
   ],
   "source": [
    "metadata_f = \"../003_Data_predictability/input_examples/known_virus_final_dataset_Coronaviridae.txt\"\n",
    "\n",
    "df_label = pd.read_csv(metadata_f, index_col=0)\n",
    "df_label.head(3)"
   ]
  },
  {
   "cell_type": "markdown",
   "metadata": {},
   "source": [
    "## read input file"
   ]
  },
  {
   "cell_type": "code",
   "execution_count": 5,
   "metadata": {},
   "outputs": [],
   "source": [
    "seq_f = \"/\".join(map(str, [\"input_examples\",  \"pred_known_4_250_\" + fold + \"/dev.tsv\"]))\n",
    "       \n",
    "if os.path.exists(seq_f):\n",
    "    df_seq = pd.read_csv(seq_f, sep=\"\\t\", usecols=lambda x: x not in [\"sequence\"])"
   ]
  },
  {
   "cell_type": "markdown",
   "metadata": {},
   "source": [
    "## add sequence start and end positions"
   ]
  },
  {
   "cell_type": "code",
   "execution_count": 7,
   "metadata": {},
   "outputs": [
    {
     "data": {
      "text/html": [
       "<div>\n",
       "<style scoped>\n",
       "    .dataframe tbody tr th:only-of-type {\n",
       "        vertical-align: middle;\n",
       "    }\n",
       "\n",
       "    .dataframe tbody tr th {\n",
       "        vertical-align: top;\n",
       "    }\n",
       "\n",
       "    .dataframe thead th {\n",
       "        text-align: right;\n",
       "    }\n",
       "</style>\n",
       "<table border=\"1\" class=\"dataframe\">\n",
       "  <thead>\n",
       "    <tr style=\"text-align: right;\">\n",
       "      <th></th>\n",
       "      <th>label</th>\n",
       "      <th>seqid</th>\n",
       "      <th>start</th>\n",
       "      <th>end</th>\n",
       "    </tr>\n",
       "  </thead>\n",
       "  <tbody>\n",
       "    <tr>\n",
       "      <th>0</th>\n",
       "      <td>0</td>\n",
       "      <td>ON075821.1_sliding:1-250</td>\n",
       "      <td>1</td>\n",
       "      <td>250</td>\n",
       "    </tr>\n",
       "    <tr>\n",
       "      <th>1</th>\n",
       "      <td>0</td>\n",
       "      <td>ON075821.1_sliding:126-375</td>\n",
       "      <td>126</td>\n",
       "      <td>375</td>\n",
       "    </tr>\n",
       "    <tr>\n",
       "      <th>2</th>\n",
       "      <td>0</td>\n",
       "      <td>ON075821.1_sliding:251-500</td>\n",
       "      <td>251</td>\n",
       "      <td>500</td>\n",
       "    </tr>\n",
       "  </tbody>\n",
       "</table>\n",
       "</div>"
      ],
      "text/plain": [
       "   label                       seqid  start  end\n",
       "0      0    ON075821.1_sliding:1-250      1  250\n",
       "1      0  ON075821.1_sliding:126-375    126  375\n",
       "2      0  ON075821.1_sliding:251-500    251  500"
      ]
     },
     "execution_count": 7,
     "metadata": {},
     "output_type": "execute_result"
    }
   ],
   "source": [
    "df_seq[\"start\"] = [s.split(\"_sliding:\")[1].split(\"-\")[0] for s in df_seq[\"seqid\"]]\n",
    "df_seq[\"end\"] = [s.split(\"_sliding:\")[1].split(\"-\")[1] for s in df_seq[\"seqid\"]]\n",
    "\n",
    "df_seq = df_seq.astype({\"start\": int, \"end\": int})\n",
    "df_seq.head(3)"
   ]
  },
  {
   "cell_type": "markdown",
   "metadata": {},
   "source": [
    "## read predict results"
   ]
  },
  {
   "cell_type": "code",
   "execution_count": 8,
   "metadata": {},
   "outputs": [],
   "source": [
    "pred_f = \"/\".join(map(str, [\"input_examples\", \"pred_known_output_4_250_\" + fold, \"pred_results.npy\"]))\n",
    "        \n",
    "if os.path.exists(pred_f):\n",
    "    pred_l = np.load(pred_f)"
   ]
  },
  {
   "cell_type": "code",
   "execution_count": 9,
   "metadata": {},
   "outputs": [],
   "source": [
    "if len(pred_l) == df_seq.shape[0]:\n",
    "    df_seq[\"prob\"] = pred_l\n",
    "    df_seq = df_seq.astype({\"prob\":float, \"label\": int})"
   ]
  },
  {
   "cell_type": "markdown",
   "metadata": {},
   "source": [
    "## average score for viral contigs"
   ]
  },
  {
   "cell_type": "code",
   "execution_count": 17,
   "metadata": {},
   "outputs": [
    {
     "data": {
      "text/html": [
       "<div>\n",
       "<style scoped>\n",
       "    .dataframe tbody tr th:only-of-type {\n",
       "        vertical-align: middle;\n",
       "    }\n",
       "\n",
       "    .dataframe tbody tr th {\n",
       "        vertical-align: top;\n",
       "    }\n",
       "\n",
       "    .dataframe thead th {\n",
       "        text-align: right;\n",
       "    }\n",
       "</style>\n",
       "<table border=\"1\" class=\"dataframe\">\n",
       "  <thead>\n",
       "    <tr style=\"text-align: right;\">\n",
       "      <th></th>\n",
       "      <th>label</th>\n",
       "      <th>seqid</th>\n",
       "      <th>start</th>\n",
       "      <th>end</th>\n",
       "      <th>prob</th>\n",
       "      <th>refseq.id</th>\n",
       "      <th>virus_ID</th>\n",
       "    </tr>\n",
       "  </thead>\n",
       "  <tbody>\n",
       "    <tr>\n",
       "      <th>0</th>\n",
       "      <td>0</td>\n",
       "      <td>ON075821.1_sliding:1-250</td>\n",
       "      <td>1</td>\n",
       "      <td>250</td>\n",
       "      <td>0.000113</td>\n",
       "      <td>ON075821</td>\n",
       "      <td>ON075821</td>\n",
       "    </tr>\n",
       "    <tr>\n",
       "      <th>1</th>\n",
       "      <td>0</td>\n",
       "      <td>ON075821.1_sliding:126-375</td>\n",
       "      <td>126</td>\n",
       "      <td>375</td>\n",
       "      <td>0.000112</td>\n",
       "      <td>ON075821</td>\n",
       "      <td>ON075821</td>\n",
       "    </tr>\n",
       "    <tr>\n",
       "      <th>2</th>\n",
       "      <td>0</td>\n",
       "      <td>ON075821.1_sliding:251-500</td>\n",
       "      <td>251</td>\n",
       "      <td>500</td>\n",
       "      <td>0.000112</td>\n",
       "      <td>ON075821</td>\n",
       "      <td>ON075821</td>\n",
       "    </tr>\n",
       "  </tbody>\n",
       "</table>\n",
       "</div>"
      ],
      "text/plain": [
       "   label                       seqid  start  end      prob refseq.id  virus_ID\n",
       "0      0    ON075821.1_sliding:1-250      1  250  0.000113  ON075821  ON075821\n",
       "1      0  ON075821.1_sliding:126-375    126  375  0.000112  ON075821  ON075821\n",
       "2      0  ON075821.1_sliding:251-500    251  500  0.000112  ON075821  ON075821"
      ]
     },
     "execution_count": 17,
     "metadata": {},
     "output_type": "execute_result"
    }
   ],
   "source": [
    "## merge dataframes on \"refseq.id\"\n",
    "df_seq[\"refseq.id\"] = [seqid.split(\"_sliding\")[0].split(\".\")[0] for seqid in df_seq[\"seqid\"]]\n",
    "\n",
    "df_seq_info = df_seq.merge(df_label.loc[:,[\"virus_ID\", \"refseq.id\"]], on = \"refseq.id\",\n",
    "                           how=\"left\")\n",
    "\n",
    "df_seq_info.head(3)"
   ]
  },
  {
   "cell_type": "code",
   "execution_count": 24,
   "metadata": {},
   "outputs": [],
   "source": [
    "df_read_result = df_seq_info.copy()\n",
    "df_read_result[\"length\"] = 250"
   ]
  },
  {
   "cell_type": "code",
   "execution_count": 19,
   "metadata": {},
   "outputs": [],
   "source": [
    "# function for calculating average score for subsequences\n",
    "def calculate_mean_per_range(df, start_range, end_range):\n",
    "    # 範囲内の行を抽出\n",
    "    range_df = df[(df['start'] >= start_range) & (df['end'] <= end_range)]\n",
    "\n",
    "    # label, acc, dataset, virus_family が一致する行のみを対象に平均を計算\n",
    "    mean_values = range_df.groupby(['virus_ID']).agg(prob=(\"prob\", \"mean\"))\n",
    "\n",
    "    return mean_values"
   ]
  },
  {
   "cell_type": "code",
   "execution_count": 21,
   "metadata": {},
   "outputs": [],
   "source": [
    "contig_result_l = []\n",
    "\n",
    "for length in length_l:\n",
    "    contig_length_l = []\n",
    "\n",
    "    start = df_seq_info[\"start\"].min()\n",
    "    end = df_seq_info[\"end\"].max()\n",
    "    \n",
    "    if end > length:\n",
    "        for index in range(start, end, length):\n",
    "            start_i = index \n",
    "            end_i = index + length\n",
    "\n",
    "            mean_values_l = calculate_mean_per_range(df_seq_info, start_i, end_i)\n",
    "            df_prob = pd.DataFrame(mean_values_l).reset_index()\n",
    "\n",
    "            df_prob[\"start\"] = index\n",
    "            df_prob[\"end\"] = index + length\n",
    "            df_prob[\"length\"] = length\n",
    "\n",
    "            contig_length_l.append(df_prob)\n",
    "\n",
    "        df_result = pd.concat(contig_length_l)\n",
    "        contig_result_l.append(df_result)"
   ]
  },
  {
   "cell_type": "code",
   "execution_count": 22,
   "metadata": {},
   "outputs": [],
   "source": [
    "df_contig_result = pd.concat(contig_result_l)"
   ]
  },
  {
   "cell_type": "code",
   "execution_count": 25,
   "metadata": {},
   "outputs": [
    {
     "data": {
      "text/html": [
       "<div>\n",
       "<style scoped>\n",
       "    .dataframe tbody tr th:only-of-type {\n",
       "        vertical-align: middle;\n",
       "    }\n",
       "\n",
       "    .dataframe tbody tr th {\n",
       "        vertical-align: top;\n",
       "    }\n",
       "\n",
       "    .dataframe thead th {\n",
       "        text-align: right;\n",
       "    }\n",
       "</style>\n",
       "<table border=\"1\" class=\"dataframe\">\n",
       "  <thead>\n",
       "    <tr style=\"text-align: right;\">\n",
       "      <th></th>\n",
       "      <th>label</th>\n",
       "      <th>seqid</th>\n",
       "      <th>start</th>\n",
       "      <th>end</th>\n",
       "      <th>prob</th>\n",
       "      <th>refseq.id</th>\n",
       "      <th>virus_ID</th>\n",
       "      <th>length</th>\n",
       "    </tr>\n",
       "  </thead>\n",
       "  <tbody>\n",
       "    <tr>\n",
       "      <th>0</th>\n",
       "      <td>0.0</td>\n",
       "      <td>ON075821.1_sliding:1-250</td>\n",
       "      <td>1</td>\n",
       "      <td>250</td>\n",
       "      <td>0.000113</td>\n",
       "      <td>ON075821</td>\n",
       "      <td>ON075821</td>\n",
       "      <td>250</td>\n",
       "    </tr>\n",
       "    <tr>\n",
       "      <th>1</th>\n",
       "      <td>0.0</td>\n",
       "      <td>ON075821.1_sliding:126-375</td>\n",
       "      <td>126</td>\n",
       "      <td>375</td>\n",
       "      <td>0.000112</td>\n",
       "      <td>ON075821</td>\n",
       "      <td>ON075821</td>\n",
       "      <td>250</td>\n",
       "    </tr>\n",
       "    <tr>\n",
       "      <th>2</th>\n",
       "      <td>0.0</td>\n",
       "      <td>ON075821.1_sliding:251-500</td>\n",
       "      <td>251</td>\n",
       "      <td>500</td>\n",
       "      <td>0.000112</td>\n",
       "      <td>ON075821</td>\n",
       "      <td>ON075821</td>\n",
       "      <td>250</td>\n",
       "    </tr>\n",
       "  </tbody>\n",
       "</table>\n",
       "</div>"
      ],
      "text/plain": [
       "   label                       seqid  start  end      prob refseq.id  \\\n",
       "0    0.0    ON075821.1_sliding:1-250      1  250  0.000113  ON075821   \n",
       "1    0.0  ON075821.1_sliding:126-375    126  375  0.000112  ON075821   \n",
       "2    0.0  ON075821.1_sliding:251-500    251  500  0.000112  ON075821   \n",
       "\n",
       "   virus_ID  length  \n",
       "0  ON075821     250  \n",
       "1  ON075821     250  \n",
       "2  ON075821     250  "
      ]
     },
     "execution_count": 25,
     "metadata": {},
     "output_type": "execute_result"
    }
   ],
   "source": [
    "df_result = pd.concat([df_read_result, df_contig_result])\n",
    "df_result.head(3)"
   ]
  },
  {
   "cell_type": "code",
   "execution_count": 27,
   "metadata": {},
   "outputs": [],
   "source": [
    "## add host information\n",
    "\n",
    "df_result = df_result.merge(df_label.loc[:, [\"virus_ID\", \"host_label\"]], \n",
    "                                      on = \"virus_ID\", how=\"left\")"
   ]
  },
  {
   "cell_type": "markdown",
   "metadata": {},
   "source": [
    "## AUROC, PR-AUC scores"
   ]
  },
  {
   "cell_type": "code",
   "execution_count": 31,
   "metadata": {},
   "outputs": [
    {
     "data": {
      "text/html": [
       "<div>\n",
       "<style scoped>\n",
       "    .dataframe tbody tr th:only-of-type {\n",
       "        vertical-align: middle;\n",
       "    }\n",
       "\n",
       "    .dataframe tbody tr th {\n",
       "        vertical-align: top;\n",
       "    }\n",
       "\n",
       "    .dataframe thead th {\n",
       "        text-align: right;\n",
       "    }\n",
       "</style>\n",
       "<table border=\"1\" class=\"dataframe\">\n",
       "  <thead>\n",
       "    <tr style=\"text-align: right;\">\n",
       "      <th></th>\n",
       "      <th>auroc</th>\n",
       "      <th>pr-auc</th>\n",
       "      <th>length</th>\n",
       "    </tr>\n",
       "  </thead>\n",
       "  <tbody>\n",
       "    <tr>\n",
       "      <th>0</th>\n",
       "      <td>0.973598</td>\n",
       "      <td>0.938397</td>\n",
       "      <td>250</td>\n",
       "    </tr>\n",
       "    <tr>\n",
       "      <th>1</th>\n",
       "      <td>0.976091</td>\n",
       "      <td>0.948939</td>\n",
       "      <td>500</td>\n",
       "    </tr>\n",
       "    <tr>\n",
       "      <th>2</th>\n",
       "      <td>0.978608</td>\n",
       "      <td>0.956990</td>\n",
       "      <td>1000</td>\n",
       "    </tr>\n",
       "    <tr>\n",
       "      <th>3</th>\n",
       "      <td>0.981120</td>\n",
       "      <td>0.964328</td>\n",
       "      <td>3000</td>\n",
       "    </tr>\n",
       "    <tr>\n",
       "      <th>4</th>\n",
       "      <td>0.980364</td>\n",
       "      <td>0.961584</td>\n",
       "      <td>5000</td>\n",
       "    </tr>\n",
       "    <tr>\n",
       "      <th>5</th>\n",
       "      <td>0.979850</td>\n",
       "      <td>0.959424</td>\n",
       "      <td>10000</td>\n",
       "    </tr>\n",
       "  </tbody>\n",
       "</table>\n",
       "</div>"
      ],
      "text/plain": [
       "      auroc    pr-auc  length\n",
       "0  0.973598  0.938397     250\n",
       "1  0.976091  0.948939     500\n",
       "2  0.978608  0.956990    1000\n",
       "3  0.981120  0.964328    3000\n",
       "4  0.980364  0.961584    5000\n",
       "5  0.979850  0.959424   10000"
      ]
     },
     "execution_count": 31,
     "metadata": {},
     "output_type": "execute_result"
    }
   ],
   "source": [
    "from sklearn.metrics import roc_auc_score, average_precision_score\n",
    "\n",
    "metrics_d = {\"auroc\":[], \"pr-auc\":[], \"length\":[]}\n",
    "\n",
    "output_length_l = [250] + length_l \n",
    "\n",
    "for length in output_length_l:\n",
    "    df = df_result[df_result[\"length\"] == length]\n",
    "\n",
    "    y_test = df[\"host_label\"]\n",
    "    y_pred_prob = df[\"prob\"]\n",
    "\n",
    "    auc = roc_auc_score(y_test, y_pred_prob)\n",
    "    average_precision = average_precision_score(y_test, y_pred_prob)\n",
    "\n",
    "    metrics_d[\"auroc\"].append(auc)\n",
    "    metrics_d[\"pr-auc\"].append(average_precision)\n",
    "    metrics_d[\"length\"].append(length)\n",
    "\n",
    "df_metrics = pd.DataFrame(metrics_d)\n",
    "df_metrics"
   ]
  }
 ],
 "metadata": {
  "kernelspec": {
   "display_name": "env_210819",
   "language": "python",
   "name": "env_210819"
  },
  "language_info": {
   "codemirror_mode": {
    "name": "ipython",
    "version": 3
   },
   "file_extension": ".py",
   "mimetype": "text/x-python",
   "name": "python",
   "nbconvert_exporter": "python",
   "pygments_lexer": "ipython3",
   "version": "3.9.18"
  },
  "toc": {
   "base_numbering": 1,
   "nav_menu": {},
   "number_sections": true,
   "sideBar": true,
   "skip_h1_title": false,
   "title_cell": "Table of Contents",
   "title_sidebar": "Contents",
   "toc_cell": true,
   "toc_position": {},
   "toc_section_display": true,
   "toc_window_display": true
  }
 },
 "nbformat": 4,
 "nbformat_minor": 4
}
