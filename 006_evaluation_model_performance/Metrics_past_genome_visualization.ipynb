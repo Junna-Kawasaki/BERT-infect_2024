{
 "cells": [
  {
   "cell_type": "markdown",
   "metadata": {
    "toc": true
   },
   "source": [
    "<h1>Table of Contents<span class=\"tocSkip\"></span></h1>\n",
    "<div class=\"toc\"><ul class=\"toc-item\"><li><span><a href=\"#curated-datasetの結果読み込み\" data-toc-modified-id=\"curated-datasetの結果読み込み-1\"><span class=\"toc-item-num\">1&nbsp;&nbsp;</span>curated datasetの結果読み込み</a></span><ul class=\"toc-item\"><li><span><a href=\"#集計対象のデータセット\" data-toc-modified-id=\"集計対象のデータセット-1.1\"><span class=\"toc-item-num\">1.1&nbsp;&nbsp;</span>集計対象のデータセット</a></span></li></ul></li><li><span><a href=\"#known-virus,-genbank,-virus_IDレベルでの集計\" data-toc-modified-id=\"known-virus,-genbank,-virus_IDレベルでの集計-2\"><span class=\"toc-item-num\">2&nbsp;&nbsp;</span>known virus, genbank, virus_IDレベルでの集計</a></span><ul class=\"toc-item\"><li><span><a href=\"#結果読み込み\" data-toc-modified-id=\"結果読み込み-2.1\"><span class=\"toc-item-num\">2.1&nbsp;&nbsp;</span>結果読み込み</a></span></li><li><span><a href=\"#ダウンサンプリング前後の比較\" data-toc-modified-id=\"ダウンサンプリング前後の比較-2.2\"><span class=\"toc-item-num\">2.2&nbsp;&nbsp;</span>ダウンサンプリング前後の比較</a></span></li><li><span><a href=\"#finalデータセットの集計\" data-toc-modified-id=\"finalデータセットの集計-2.3\"><span class=\"toc-item-num\">2.3&nbsp;&nbsp;</span>finalデータセットの集計</a></span></li><li><span><a href=\"#表形式での出力（genbank限定）\" data-toc-modified-id=\"表形式での出力（genbank限定）-2.4\"><span class=\"toc-item-num\">2.4&nbsp;&nbsp;</span>表形式での出力（genbank限定）</a></span></li><li><span><a href=\"#ウイルスのゲノムタイプごとに分けてモデル比較\" data-toc-modified-id=\"ウイルスのゲノムタイプごとに分けてモデル比較-2.5\"><span class=\"toc-item-num\">2.5&nbsp;&nbsp;</span>ウイルスのゲノムタイプごとに分けてモデル比較</a></span><ul class=\"toc-item\"><li><span><a href=\"#figure:-ウイルスゲノムでパネル分け\" data-toc-modified-id=\"figure:-ウイルスゲノムでパネル分け-2.5.1\"><span class=\"toc-item-num\">2.5.1&nbsp;&nbsp;</span>figure: ウイルスゲノムでパネル分け</a></span></li></ul></li><li><span><a href=\"#source-data-(fig-2c)\" data-toc-modified-id=\"source-data-(fig-2c)-2.6\"><span class=\"toc-item-num\">2.6&nbsp;&nbsp;</span>source data (fig 2c)</a></span></li><li><span><a href=\"#AUROC,-PR-AUCでの中央値\" data-toc-modified-id=\"AUROC,-PR-AUCでの中央値-2.7\"><span class=\"toc-item-num\">2.7&nbsp;&nbsp;</span>AUROC, PR-AUCでの中央値</a></span></li></ul></li><li><span><a href=\"#known-virus,-VHDB,-virus_IDレベルでの集計\" data-toc-modified-id=\"known-virus,-VHDB,-virus_IDレベルでの集計-3\"><span class=\"toc-item-num\">3&nbsp;&nbsp;</span>known virus, VHDB, virus_IDレベルでの集計</a></span><ul class=\"toc-item\"><li><span><a href=\"#結果読み込み\" data-toc-modified-id=\"結果読み込み-3.1\"><span class=\"toc-item-num\">3.1&nbsp;&nbsp;</span>結果読み込み</a></span></li><li><span><a href=\"#vhdbデータセットでの集計\" data-toc-modified-id=\"vhdbデータセットでの集計-3.2\"><span class=\"toc-item-num\">3.2&nbsp;&nbsp;</span>vhdbデータセットでの集計</a></span></li><li><span><a href=\"#表形式での出力\" data-toc-modified-id=\"表形式での出力-3.3\"><span class=\"toc-item-num\">3.3&nbsp;&nbsp;</span>表形式での出力</a></span></li><li><span><a href=\"#source-data-(fig-s2,-prauc)\" data-toc-modified-id=\"source-data-(fig-s2,-prauc)-3.4\"><span class=\"toc-item-num\">3.4&nbsp;&nbsp;</span>source data (fig s2, prauc)</a></span></li><li><span><a href=\"#source-data-(fig-s2,-auroc)\" data-toc-modified-id=\"source-data-(fig-s2,-auroc)-3.5\"><span class=\"toc-item-num\">3.5&nbsp;&nbsp;</span>source data (fig s2, auroc)</a></span></li><li><span><a href=\"#ウイルスのゲノムタイプごとに分けてモデル比較\" data-toc-modified-id=\"ウイルスのゲノムタイプごとに分けてモデル比較-3.6\"><span class=\"toc-item-num\">3.6&nbsp;&nbsp;</span>ウイルスのゲノムタイプごとに分けてモデル比較</a></span></li></ul></li><li><span><a href=\"#known-virus,-genbank,-混同行列\" data-toc-modified-id=\"known-virus,-genbank,-混同行列-4\"><span class=\"toc-item-num\">4&nbsp;&nbsp;</span>known virus, genbank, 混同行列</a></span><ul class=\"toc-item\"><li><span><a href=\"#予測結果の読み込み\" data-toc-modified-id=\"予測結果の読み込み-4.1\"><span class=\"toc-item-num\">4.1&nbsp;&nbsp;</span>予測結果の読み込み</a></span></li><li><span><a href=\"#curated-dataの読み込み\" data-toc-modified-id=\"curated-dataの読み込み-4.2\"><span class=\"toc-item-num\">4.2&nbsp;&nbsp;</span>curated dataの読み込み</a></span></li><li><span><a href=\"#予測結果の追加\" data-toc-modified-id=\"予測結果の追加-4.3\"><span class=\"toc-item-num\">4.3&nbsp;&nbsp;</span>予測結果の追加</a></span></li><li><span><a href=\"#ゲノムタイプの追加\" data-toc-modified-id=\"ゲノムタイプの追加-4.4\"><span class=\"toc-item-num\">4.4&nbsp;&nbsp;</span>ゲノムタイプの追加</a></span></li><li><span><a href=\"#混同行列\" data-toc-modified-id=\"混同行列-4.5\"><span class=\"toc-item-num\">4.5&nbsp;&nbsp;</span>混同行列</a></span></li></ul></li><li><span><a href=\"#ヒト感染性が疑われた動物由来ウイルスの集合\" data-toc-modified-id=\"ヒト感染性が疑われた動物由来ウイルスの集合-5\"><span class=\"toc-item-num\">5&nbsp;&nbsp;</span>ヒト感染性が疑われた動物由来ウイルスの集合</a></span><ul class=\"toc-item\"><li><span><a href=\"#ウイルスごとの予測結果を読み込み\" data-toc-modified-id=\"ウイルスごとの予測結果を読み込み-5.1\"><span class=\"toc-item-num\">5.1&nbsp;&nbsp;</span>ウイルスごとの予測結果を読み込み</a></span></li><li><span><a href=\"#finalデータセットでの集計\" data-toc-modified-id=\"finalデータセットでの集計-5.2\"><span class=\"toc-item-num\">5.2&nbsp;&nbsp;</span>finalデータセットでの集計</a></span></li><li><span><a href=\"#特異度・感度のバランスをとった判定基準の設定\" data-toc-modified-id=\"特異度・感度のバランスをとった判定基準の設定-5.3\"><span class=\"toc-item-num\">5.3&nbsp;&nbsp;</span>特異度・感度のバランスをとった判定基準の設定</a></span></li><li><span><a href=\"#cutoffに従って感染性を予測\" data-toc-modified-id=\"cutoffに従って感染性を予測-5.4\"><span class=\"toc-item-num\">5.4&nbsp;&nbsp;</span>cutoffに従って感染性を予測</a></span></li><li><span><a href=\"#genbankデータだけ取得\" data-toc-modified-id=\"genbankデータだけ取得-5.5\"><span class=\"toc-item-num\">5.5&nbsp;&nbsp;</span>genbankデータだけ取得</a></span></li><li><span><a href=\"#figure\" data-toc-modified-id=\"figure-5.6\"><span class=\"toc-item-num\">5.6&nbsp;&nbsp;</span>figure</a></span></li><li><span><a href=\"#全てのモデルでヒト感染性が疑われたウイルスの数\" data-toc-modified-id=\"全てのモデルでヒト感染性が疑われたウイルスの数-5.7\"><span class=\"toc-item-num\">5.7&nbsp;&nbsp;</span>全てのモデルでヒト感染性が疑われたウイルスの数</a></span></li></ul></li><li><span><a href=\"#source-data-(figure-s4)\" data-toc-modified-id=\"source-data-(figure-s4)-6\"><span class=\"toc-item-num\">6&nbsp;&nbsp;</span>source data (figure s4)</a></span><ul class=\"toc-item\"><li><span><a href=\"#ヒト感染性が疑われたウイルスのうち、全てのモデルで予測確率が揃っているもの\" data-toc-modified-id=\"ヒト感染性が疑われたウイルスのうち、全てのモデルで予測確率が揃っているもの-6.1\"><span class=\"toc-item-num\">6.1&nbsp;&nbsp;</span>ヒト感染性が疑われたウイルスのうち、全てのモデルで予測確率が揃っているもの</a></span></li><li><span><a href=\"#全てのモデルで予測確率が揃っているか？\" data-toc-modified-id=\"全てのモデルで予測確率が揃っているか？-6.2\"><span class=\"toc-item-num\">6.2&nbsp;&nbsp;</span>全てのモデルで予測確率が揃っているか？</a></span></li><li><span><a href=\"#Trueが多い順に並び替える\" data-toc-modified-id=\"Trueが多い順に並び替える-6.3\"><span class=\"toc-item-num\">6.3&nbsp;&nbsp;</span>Trueが多い順に並び替える</a></span></li><li><span><a href=\"#ウイルス科の情報をつける\" data-toc-modified-id=\"ウイルス科の情報をつける-6.4\"><span class=\"toc-item-num\">6.4&nbsp;&nbsp;</span>ウイルス科の情報をつける</a></span></li><li><span><a href=\"#列を並び替え\" data-toc-modified-id=\"列を並び替え-6.5\"><span class=\"toc-item-num\">6.5&nbsp;&nbsp;</span>列を並び替え</a></span></li><li><span><a href=\"#出力\" data-toc-modified-id=\"出力-6.6\"><span class=\"toc-item-num\">6.6&nbsp;&nbsp;</span>出力</a></span></li></ul></li></ul></div>"
   ]
  },
  {
   "cell_type": "code",
   "execution_count": 22,
   "metadata": {
    "ExecuteTime": {
     "end_time": "2024-04-29T06:00:43.655651Z",
     "start_time": "2024-04-29T06:00:43.645444Z"
    }
   },
   "outputs": [],
   "source": [
    "#!/usr/bin/env python\n",
    "import sys, re\n",
    "argvs = sys.argv\n",
    "sys.setrecursionlimit(10000000)\n",
    "\n",
    "import os\n",
    "import collections\n",
    "import numpy as np\n",
    "import pandas as pd\n",
    "import array\n",
    "pd.set_option(\"display.max_colwidth\", 200)\n",
    "pd.set_option(\"display.max_columns\", 200)\n",
    "pd.set_option(\"display.max_rows\", 300)\n",
    "\n",
    "import glob\n",
    "\n",
    "## visualize\n",
    "import matplotlib\n",
    "import matplotlib.pyplot as plt\n",
    "import seaborn as sns\n",
    "sns.set()\n",
    "\n",
    "from itertools import zip_longest\n",
    "\n",
    "plt.rcParams['font.family'] = \"Arial\""
   ]
  },
  {
   "cell_type": "markdown",
   "metadata": {},
   "source": [
    "# example dataset"
   ]
  },
  {
   "cell_type": "code",
   "execution_count": 23,
   "metadata": {
    "ExecuteTime": {
     "end_time": "2024-04-29T06:00:43.769659Z",
     "start_time": "2024-04-29T06:00:43.751679Z"
    }
   },
   "outputs": [],
   "source": [
    "virus=\"Coronaviridae\"\n",
    "fold=\"fold_0\""
   ]
  },
  {
   "cell_type": "markdown",
   "metadata": {},
   "source": [
    "# predict results"
   ]
  },
  {
   "cell_type": "markdown",
   "metadata": {},
   "source": [
    "## read metadata file"
   ]
  },
  {
   "cell_type": "code",
   "execution_count": 24,
   "metadata": {},
   "outputs": [
    {
     "data": {
      "text/html": [
       "<div>\n",
       "<style scoped>\n",
       "    .dataframe tbody tr th:only-of-type {\n",
       "        vertical-align: middle;\n",
       "    }\n",
       "\n",
       "    .dataframe tbody tr th {\n",
       "        vertical-align: top;\n",
       "    }\n",
       "\n",
       "    .dataframe thead th {\n",
       "        text-align: right;\n",
       "    }\n",
       "</style>\n",
       "<table border=\"1\" class=\"dataframe\">\n",
       "  <thead>\n",
       "    <tr style=\"text-align: right;\">\n",
       "      <th></th>\n",
       "      <th>refseq.id</th>\n",
       "      <th>fold_0</th>\n",
       "      <th>label</th>\n",
       "      <th>sampling</th>\n",
       "      <th>database</th>\n",
       "      <th>date</th>\n",
       "      <th>fold_1</th>\n",
       "      <th>fold_2</th>\n",
       "      <th>fold_3</th>\n",
       "      <th>fold_4</th>\n",
       "      <th>host_label</th>\n",
       "      <th>Genus</th>\n",
       "      <th>virus_ID</th>\n",
       "      <th>Family</th>\n",
       "      <th>Species</th>\n",
       "    </tr>\n",
       "  </thead>\n",
       "  <tbody>\n",
       "    <tr>\n",
       "      <th>73331</th>\n",
       "      <td>OQ175110</td>\n",
       "      <td>train</td>\n",
       "      <td>0</td>\n",
       "      <td>normal</td>\n",
       "      <td>GenBank</td>\n",
       "      <td>20240206</td>\n",
       "      <td>pred</td>\n",
       "      <td>train</td>\n",
       "      <td>train</td>\n",
       "      <td>train</td>\n",
       "      <td>0.0</td>\n",
       "      <td>NaN</td>\n",
       "      <td>OQ175110</td>\n",
       "      <td>Coronaviridae</td>\n",
       "      <td>Bat Coronavirus MrGD17</td>\n",
       "    </tr>\n",
       "    <tr>\n",
       "      <th>73332</th>\n",
       "      <td>OQ175111</td>\n",
       "      <td>train</td>\n",
       "      <td>0</td>\n",
       "      <td>normal</td>\n",
       "      <td>GenBank</td>\n",
       "      <td>20240206</td>\n",
       "      <td>pred</td>\n",
       "      <td>train</td>\n",
       "      <td>dev</td>\n",
       "      <td>train</td>\n",
       "      <td>0.0</td>\n",
       "      <td>NaN</td>\n",
       "      <td>OQ175111</td>\n",
       "      <td>Coronaviridae</td>\n",
       "      <td>Bat Coronavirus MrGD17</td>\n",
       "    </tr>\n",
       "    <tr>\n",
       "      <th>73333</th>\n",
       "      <td>OQ175112</td>\n",
       "      <td>train</td>\n",
       "      <td>0</td>\n",
       "      <td>normal</td>\n",
       "      <td>GenBank</td>\n",
       "      <td>20240206</td>\n",
       "      <td>pred</td>\n",
       "      <td>train</td>\n",
       "      <td>train</td>\n",
       "      <td>dev</td>\n",
       "      <td>0.0</td>\n",
       "      <td>NaN</td>\n",
       "      <td>OQ175112</td>\n",
       "      <td>Coronaviridae</td>\n",
       "      <td>Bat Coronavirus MrGD17</td>\n",
       "    </tr>\n",
       "  </tbody>\n",
       "</table>\n",
       "</div>"
      ],
      "text/plain": [
       "      refseq.id fold_0  label sampling database      date fold_1 fold_2  \\\n",
       "73331  OQ175110  train      0   normal  GenBank  20240206   pred  train   \n",
       "73332  OQ175111  train      0   normal  GenBank  20240206   pred  train   \n",
       "73333  OQ175112  train      0   normal  GenBank  20240206   pred  train   \n",
       "\n",
       "      fold_3 fold_4  host_label Genus  virus_ID         Family  \\\n",
       "73331  train  train         0.0   NaN  OQ175110  Coronaviridae   \n",
       "73332    dev  train         0.0   NaN  OQ175111  Coronaviridae   \n",
       "73333  train    dev         0.0   NaN  OQ175112  Coronaviridae   \n",
       "\n",
       "                      Species  \n",
       "73331  Bat Coronavirus MrGD17  \n",
       "73332  Bat Coronavirus MrGD17  \n",
       "73333  Bat Coronavirus MrGD17  "
      ]
     },
     "execution_count": 24,
     "metadata": {},
     "output_type": "execute_result"
    }
   ],
   "source": [
    "metadata_f = \"../003_Data_predictability/input_examples/known_virus_final_dataset_Coronaviridae.txt\"\n",
    "\n",
    "df_label = pd.read_csv(metadata_f, index_col=0)\n",
    "df_label.head(3)"
   ]
  },
  {
   "cell_type": "markdown",
   "metadata": {},
   "source": [
    "## read input file"
   ]
  },
  {
   "cell_type": "code",
   "execution_count": 25,
   "metadata": {},
   "outputs": [
    {
     "data": {
      "text/html": [
       "<div>\n",
       "<style scoped>\n",
       "    .dataframe tbody tr th:only-of-type {\n",
       "        vertical-align: middle;\n",
       "    }\n",
       "\n",
       "    .dataframe tbody tr th {\n",
       "        vertical-align: top;\n",
       "    }\n",
       "\n",
       "    .dataframe thead th {\n",
       "        text-align: right;\n",
       "    }\n",
       "</style>\n",
       "<table border=\"1\" class=\"dataframe\">\n",
       "  <thead>\n",
       "    <tr style=\"text-align: right;\">\n",
       "      <th></th>\n",
       "      <th>label</th>\n",
       "      <th>seqid</th>\n",
       "    </tr>\n",
       "  </thead>\n",
       "  <tbody>\n",
       "    <tr>\n",
       "      <th>0</th>\n",
       "      <td>0</td>\n",
       "      <td>ON075821.1_sliding:1-250</td>\n",
       "    </tr>\n",
       "    <tr>\n",
       "      <th>1</th>\n",
       "      <td>0</td>\n",
       "      <td>ON075821.1_sliding:126-375</td>\n",
       "    </tr>\n",
       "    <tr>\n",
       "      <th>2</th>\n",
       "      <td>0</td>\n",
       "      <td>ON075821.1_sliding:251-500</td>\n",
       "    </tr>\n",
       "  </tbody>\n",
       "</table>\n",
       "</div>"
      ],
      "text/plain": [
       "   label                       seqid\n",
       "0      0    ON075821.1_sliding:1-250\n",
       "1      0  ON075821.1_sliding:126-375\n",
       "2      0  ON075821.1_sliding:251-500"
      ]
     },
     "execution_count": 25,
     "metadata": {},
     "output_type": "execute_result"
    }
   ],
   "source": [
    "seq_f = \"/\".join(map(str, [\"input_examples\",  \"pred_known_4_250_\" + fold + \"/dev.tsv\"]))\n",
    "       \n",
    "if os.path.exists(seq_f):\n",
    "    df_seq = pd.read_csv(seq_f, sep=\"\\t\", usecols=lambda x: x not in [\"sequence\"])\n",
    "\n",
    "df_seq.head(3)"
   ]
  },
  {
   "cell_type": "markdown",
   "metadata": {},
   "source": [
    "## read predict results"
   ]
  },
  {
   "cell_type": "code",
   "execution_count": 26,
   "metadata": {},
   "outputs": [],
   "source": [
    "pred_f = \"/\".join(map(str, [\"input_examples\", \"pred_known_output_4_250_\" + fold, \"pred_results.npy\"]))\n",
    "        \n",
    "if os.path.exists(pred_f):\n",
    "    pred_l = np.load(pred_f)"
   ]
  },
  {
   "cell_type": "code",
   "execution_count": 27,
   "metadata": {},
   "outputs": [],
   "source": [
    "if len(pred_l) == df_seq.shape[0]:\n",
    "    df_seq[\"prob\"] = pred_l\n",
    "    df_seq = df_seq.astype({\"prob\":float, \"label\": int})"
   ]
  },
  {
   "cell_type": "markdown",
   "metadata": {},
   "source": [
    "## average score for viral genome"
   ]
  },
  {
   "cell_type": "code",
   "execution_count": 28,
   "metadata": {},
   "outputs": [
    {
     "data": {
      "text/html": [
       "<div>\n",
       "<style scoped>\n",
       "    .dataframe tbody tr th:only-of-type {\n",
       "        vertical-align: middle;\n",
       "    }\n",
       "\n",
       "    .dataframe tbody tr th {\n",
       "        vertical-align: top;\n",
       "    }\n",
       "\n",
       "    .dataframe thead th {\n",
       "        text-align: right;\n",
       "    }\n",
       "</style>\n",
       "<table border=\"1\" class=\"dataframe\">\n",
       "  <thead>\n",
       "    <tr style=\"text-align: right;\">\n",
       "      <th></th>\n",
       "      <th>virus_ID</th>\n",
       "      <th>average_prob</th>\n",
       "    </tr>\n",
       "  </thead>\n",
       "  <tbody>\n",
       "    <tr>\n",
       "      <th>0</th>\n",
       "      <td>KU893862</td>\n",
       "      <td>0.000112</td>\n",
       "    </tr>\n",
       "    <tr>\n",
       "      <th>1</th>\n",
       "      <td>KU893863</td>\n",
       "      <td>0.000112</td>\n",
       "    </tr>\n",
       "    <tr>\n",
       "      <th>2</th>\n",
       "      <td>KU893864</td>\n",
       "      <td>0.000112</td>\n",
       "    </tr>\n",
       "  </tbody>\n",
       "</table>\n",
       "</div>"
      ],
      "text/plain": [
       "   virus_ID  average_prob\n",
       "0  KU893862      0.000112\n",
       "1  KU893863      0.000112\n",
       "2  KU893864      0.000112"
      ]
     },
     "execution_count": 28,
     "metadata": {},
     "output_type": "execute_result"
    }
   ],
   "source": [
    "## merge dataframes on \"refseq.id\"\n",
    "df_seq[\"refseq.id\"] = [seqid.split(\"_sliding\")[0].split(\".\")[0] for seqid in df_seq[\"seqid\"]]\n",
    "\n",
    "df_seq_info = df_seq.merge(df_label.loc[:,[\"virus_ID\", \"refseq.id\"]], on = \"refseq.id\",\n",
    "                           how=\"left\")\n",
    "\n",
    "## average scores\n",
    "df_pred_genome = df_seq_info.groupby([\"virus_ID\"]).agg(average_prob=(\"prob\", \"mean\"))\n",
    "df_pred_genome = df_pred_genome.reset_index()\n",
    "\n",
    "df_pred_genome.head(3)"
   ]
  },
  {
   "cell_type": "code",
   "execution_count": 29,
   "metadata": {},
   "outputs": [],
   "source": [
    "## add host information\n",
    "\n",
    "df_pred_genome = df_pred_genome.merge(df_label.loc[:, [\"virus_ID\", \"host_label\"]], \n",
    "                                      on = \"virus_ID\", how=\"left\")"
   ]
  },
  {
   "cell_type": "markdown",
   "metadata": {},
   "source": [
    "## AUROC, PR-AUC scores"
   ]
  },
  {
   "cell_type": "code",
   "execution_count": 30,
   "metadata": {},
   "outputs": [
    {
     "data": {
      "text/html": [
       "<div>\n",
       "<style scoped>\n",
       "    .dataframe tbody tr th:only-of-type {\n",
       "        vertical-align: middle;\n",
       "    }\n",
       "\n",
       "    .dataframe tbody tr th {\n",
       "        vertical-align: top;\n",
       "    }\n",
       "\n",
       "    .dataframe thead th {\n",
       "        text-align: right;\n",
       "    }\n",
       "</style>\n",
       "<table border=\"1\" class=\"dataframe\">\n",
       "  <thead>\n",
       "    <tr style=\"text-align: right;\">\n",
       "      <th></th>\n",
       "      <th>auroc</th>\n",
       "      <th>pr-auc</th>\n",
       "    </tr>\n",
       "  </thead>\n",
       "  <tbody>\n",
       "    <tr>\n",
       "      <th>0</th>\n",
       "      <td>0.981779</td>\n",
       "      <td>0.973266</td>\n",
       "    </tr>\n",
       "  </tbody>\n",
       "</table>\n",
       "</div>"
      ],
      "text/plain": [
       "      auroc    pr-auc\n",
       "0  0.981779  0.973266"
      ]
     },
     "execution_count": 30,
     "metadata": {},
     "output_type": "execute_result"
    }
   ],
   "source": [
    "from sklearn.metrics import roc_auc_score, average_precision_score\n",
    "\n",
    "metrics_d = {\"auroc\":[], \"pr-auc\":[]}\n",
    "\n",
    "y_test = df_pred_genome[\"host_label\"]\n",
    "y_pred_prob = df_pred_genome[\"average_prob\"]\n",
    "\n",
    "auc = roc_auc_score(y_test, y_pred_prob)\n",
    "average_precision = average_precision_score(y_test, y_pred_prob)\n",
    "\n",
    "metrics_d[\"auroc\"].append(auc)\n",
    "metrics_d[\"pr-auc\"].append(average_precision)\n",
    "\n",
    "df_metrics = pd.DataFrame(metrics_d)\n",
    "df_metrics"
   ]
  }
 ],
 "metadata": {
  "kernelspec": {
   "display_name": "env_210819",
   "language": "python",
   "name": "env_210819"
  },
  "language_info": {
   "codemirror_mode": {
    "name": "ipython",
    "version": 3
   },
   "file_extension": ".py",
   "mimetype": "text/x-python",
   "name": "python",
   "nbconvert_exporter": "python",
   "pygments_lexer": "ipython3",
   "version": "3.9.18"
  },
  "toc": {
   "base_numbering": 1,
   "nav_menu": {},
   "number_sections": true,
   "sideBar": true,
   "skip_h1_title": false,
   "title_cell": "Table of Contents",
   "title_sidebar": "Contents",
   "toc_cell": true,
   "toc_position": {},
   "toc_section_display": true,
   "toc_window_display": true
  }
 },
 "nbformat": 4,
 "nbformat_minor": 4
}
