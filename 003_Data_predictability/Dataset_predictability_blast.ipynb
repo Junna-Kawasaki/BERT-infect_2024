{
 "cells": [
  {
   "cell_type": "markdown",
   "metadata": {
    "toc": true
   },
   "source": [
    "<h1>Table of Contents<span class=\"tocSkip\"></span></h1>\n",
    "<div class=\"toc\"><ul class=\"toc-item\"><li><span><a href=\"#学習-vs-テストデータセットの類似性\" data-toc-modified-id=\"学習-vs-テストデータセットの類似性-1\"><span class=\"toc-item-num\">1&nbsp;&nbsp;</span>学習 vs テストデータセットの類似性</a></span><ul class=\"toc-item\"><li><span><a href=\"#blastの実行（train-vs-test）\" data-toc-modified-id=\"blastの実行（train-vs-test）-1.1\"><span class=\"toc-item-num\">1.1&nbsp;&nbsp;</span>blastの実行（train vs test）</a></span></li><li><span><a href=\"#【出力】訓練・テストデータセット間の配列類似性\" data-toc-modified-id=\"【出力】訓練・テストデータセット間の配列類似性-1.2\"><span class=\"toc-item-num\">1.2&nbsp;&nbsp;</span>【出力】訓練・テストデータセット間の配列類似性</a></span></li><li><span><a href=\"#箱ヒゲ図\" data-toc-modified-id=\"箱ヒゲ図-1.3\"><span class=\"toc-item-num\">1.3&nbsp;&nbsp;</span>箱ヒゲ図</a></span></li><li><span><a href=\"#BLASTによる予測：AUROC,-PR-AUC\" data-toc-modified-id=\"BLASTによる予測：AUROC,-PR-AUC-1.4\"><span class=\"toc-item-num\">1.4&nbsp;&nbsp;</span>BLASTによる予測：AUROC, PR-AUC</a></span></li><li><span><a href=\"#【注：virus_IDごとになっていない】【出力】virus_IDごとの予測結果\" data-toc-modified-id=\"【注：virus_IDごとになっていない】【出力】virus_IDごとの予測結果-1.5\"><span class=\"toc-item-num\">1.5&nbsp;&nbsp;</span>【注：virus_IDごとになっていない】【出力】virus_IDごとの予測結果</a></span></li><li><span><a href=\"#【出力】ウイルス科ごとのAUROC,-PR-AUC\" data-toc-modified-id=\"【出力】ウイルス科ごとのAUROC,-PR-AUC-1.6\"><span class=\"toc-item-num\">1.6&nbsp;&nbsp;</span>【出力】ウイルス科ごとのAUROC, PR-AUC</a></span></li></ul></li></ul></div>"
   ]
  },
  {
   "cell_type": "code",
   "execution_count": null,
   "metadata": {
    "ExecuteTime": {
     "end_time": "2024-03-11T05:41:44.533988Z",
     "start_time": "2024-03-11T05:41:44.530514Z"
    }
   },
   "outputs": [],
   "source": [
    "#!/usr/bin/env python\n",
    "import sys, re\n",
    "argvs = sys.argv\n",
    "sys.setrecursionlimit(10000000)\n",
    "\n",
    "import os\n",
    "import collections\n",
    "import numpy as np\n",
    "import pandas as pd\n",
    "import array\n",
    "pd.set_option(\"display.max_colwidth\", 200)\n",
    "pd.set_option(\"display.max_columns\", 200)\n",
    "pd.set_option(\"display.max_rows\", 300)\n",
    "\n",
    "import glob\n",
    "\n",
    "## visualize\n",
    "import matplotlib\n",
    "import matplotlib.pyplot as plt\n",
    "import seaborn as sns\n",
    "sns.set()\n",
    "\n",
    "plt.rcParams['font.family'] = \"Arial\""
   ]
  },
  {
   "cell_type": "markdown",
   "metadata": {},
   "source": [
    "# sequence similairty between training and test datasets"
   ]
  },
  {
   "cell_type": "code",
   "execution_count": 32,
   "metadata": {
    "ExecuteTime": {
     "end_time": "2024-03-11T05:41:45.340300Z",
     "start_time": "2024-03-11T05:41:45.329557Z"
    },
    "run_control": {
     "marked": true
    }
   },
   "outputs": [],
   "source": [
    "virus=\"Coronaviridae\""
   ]
  },
  {
   "cell_type": "code",
   "execution_count": 33,
   "metadata": {
    "ExecuteTime": {
     "end_time": "2024-03-11T05:41:46.370924Z",
     "start_time": "2024-03-11T05:41:46.184555Z"
    }
   },
   "outputs": [
    {
     "data": {
      "text/html": [
       "<div>\n",
       "<style scoped>\n",
       "    .dataframe tbody tr th:only-of-type {\n",
       "        vertical-align: middle;\n",
       "    }\n",
       "\n",
       "    .dataframe tbody tr th {\n",
       "        vertical-align: top;\n",
       "    }\n",
       "\n",
       "    .dataframe thead th {\n",
       "        text-align: right;\n",
       "    }\n",
       "</style>\n",
       "<table border=\"1\" class=\"dataframe\">\n",
       "  <thead>\n",
       "    <tr style=\"text-align: right;\">\n",
       "      <th></th>\n",
       "      <th>refseq.id</th>\n",
       "      <th>fold_0</th>\n",
       "      <th>label</th>\n",
       "      <th>sampling</th>\n",
       "      <th>database</th>\n",
       "      <th>date</th>\n",
       "      <th>fold_1</th>\n",
       "      <th>fold_2</th>\n",
       "      <th>fold_3</th>\n",
       "      <th>fold_4</th>\n",
       "      <th>host_label</th>\n",
       "      <th>Genus</th>\n",
       "      <th>virus_ID</th>\n",
       "      <th>Family</th>\n",
       "      <th>Species</th>\n",
       "    </tr>\n",
       "  </thead>\n",
       "  <tbody>\n",
       "    <tr>\n",
       "      <th>73331</th>\n",
       "      <td>OQ175110</td>\n",
       "      <td>train</td>\n",
       "      <td>0</td>\n",
       "      <td>normal</td>\n",
       "      <td>GenBank</td>\n",
       "      <td>20240206</td>\n",
       "      <td>pred</td>\n",
       "      <td>train</td>\n",
       "      <td>train</td>\n",
       "      <td>train</td>\n",
       "      <td>0.0</td>\n",
       "      <td>NaN</td>\n",
       "      <td>OQ175110</td>\n",
       "      <td>Coronaviridae</td>\n",
       "      <td>Bat Coronavirus MrGD17</td>\n",
       "    </tr>\n",
       "    <tr>\n",
       "      <th>73332</th>\n",
       "      <td>OQ175111</td>\n",
       "      <td>train</td>\n",
       "      <td>0</td>\n",
       "      <td>normal</td>\n",
       "      <td>GenBank</td>\n",
       "      <td>20240206</td>\n",
       "      <td>pred</td>\n",
       "      <td>train</td>\n",
       "      <td>dev</td>\n",
       "      <td>train</td>\n",
       "      <td>0.0</td>\n",
       "      <td>NaN</td>\n",
       "      <td>OQ175111</td>\n",
       "      <td>Coronaviridae</td>\n",
       "      <td>Bat Coronavirus MrGD17</td>\n",
       "    </tr>\n",
       "    <tr>\n",
       "      <th>73333</th>\n",
       "      <td>OQ175112</td>\n",
       "      <td>train</td>\n",
       "      <td>0</td>\n",
       "      <td>normal</td>\n",
       "      <td>GenBank</td>\n",
       "      <td>20240206</td>\n",
       "      <td>pred</td>\n",
       "      <td>train</td>\n",
       "      <td>train</td>\n",
       "      <td>dev</td>\n",
       "      <td>0.0</td>\n",
       "      <td>NaN</td>\n",
       "      <td>OQ175112</td>\n",
       "      <td>Coronaviridae</td>\n",
       "      <td>Bat Coronavirus MrGD17</td>\n",
       "    </tr>\n",
       "  </tbody>\n",
       "</table>\n",
       "</div>"
      ],
      "text/plain": [
       "      refseq.id fold_0  label sampling database      date fold_1 fold_2  \\\n",
       "73331  OQ175110  train      0   normal  GenBank  20240206   pred  train   \n",
       "73332  OQ175111  train      0   normal  GenBank  20240206   pred  train   \n",
       "73333  OQ175112  train      0   normal  GenBank  20240206   pred  train   \n",
       "\n",
       "      fold_3 fold_4  host_label Genus  virus_ID         Family  \\\n",
       "73331  train  train         0.0   NaN  OQ175110  Coronaviridae   \n",
       "73332    dev  train         0.0   NaN  OQ175111  Coronaviridae   \n",
       "73333  train    dev         0.0   NaN  OQ175112  Coronaviridae   \n",
       "\n",
       "                      Species  \n",
       "73331  Bat Coronavirus MrGD17  \n",
       "73332  Bat Coronavirus MrGD17  \n",
       "73333  Bat Coronavirus MrGD17  "
      ]
     },
     "execution_count": 33,
     "metadata": {},
     "output_type": "execute_result"
    }
   ],
   "source": [
    "dataset_f = \"input_examples/known_virus_final_dataset_Coronaviridae.txt\"\n",
    "\n",
    "df_curated = pd.read_csv(dataset_f, index_col=0)\n",
    "df_curated.head(3)"
   ]
  },
  {
   "cell_type": "code",
   "execution_count": 34,
   "metadata": {
    "ExecuteTime": {
     "end_time": "2024-03-11T05:41:46.572523Z",
     "start_time": "2024-03-11T05:41:46.533537Z"
    }
   },
   "outputs": [
    {
     "data": {
      "text/html": [
       "<div>\n",
       "<style scoped>\n",
       "    .dataframe tbody tr th:only-of-type {\n",
       "        vertical-align: middle;\n",
       "    }\n",
       "\n",
       "    .dataframe tbody tr th {\n",
       "        vertical-align: top;\n",
       "    }\n",
       "\n",
       "    .dataframe thead th {\n",
       "        text-align: right;\n",
       "    }\n",
       "</style>\n",
       "<table border=\"1\" class=\"dataframe\">\n",
       "  <thead>\n",
       "    <tr style=\"text-align: right;\">\n",
       "      <th></th>\n",
       "      <th></th>\n",
       "      <th></th>\n",
       "      <th>count</th>\n",
       "    </tr>\n",
       "    <tr>\n",
       "      <th>Family</th>\n",
       "      <th>sampling</th>\n",
       "      <th>label</th>\n",
       "      <th></th>\n",
       "    </tr>\n",
       "  </thead>\n",
       "  <tbody>\n",
       "    <tr>\n",
       "      <th rowspan=\"2\" valign=\"top\">Coronaviridae</th>\n",
       "      <th rowspan=\"2\" valign=\"top\">normal</th>\n",
       "      <th>0</th>\n",
       "      <td>2154</td>\n",
       "    </tr>\n",
       "    <tr>\n",
       "      <th>1</th>\n",
       "      <td>529</td>\n",
       "    </tr>\n",
       "  </tbody>\n",
       "</table>\n",
       "</div>"
      ],
      "text/plain": [
       "                              count\n",
       "Family        sampling label       \n",
       "Coronaviridae normal   0       2154\n",
       "                       1        529"
      ]
     },
     "execution_count": 34,
     "metadata": {},
     "output_type": "execute_result"
    }
   ],
   "source": [
    "df_curated.groupby([\"Family\", \"sampling\", \"label\"]).agg(count=(\"virus_ID\", \"nunique\"))"
   ]
  },
  {
   "cell_type": "markdown",
   "metadata": {},
   "source": [
    "## preparing fasta sequences"
   ]
  },
  {
   "cell_type": "code",
   "execution_count": 35,
   "metadata": {
    "ExecuteTime": {
     "end_time": "2024-03-11T06:03:05.235519Z",
     "start_time": "2024-03-11T06:03:04.534126Z"
    },
    "run_control": {
     "marked": true
    }
   },
   "outputs": [],
   "source": [
    "virus=\"Coronaviridae\"\n",
    "output_dir = \"output_examples\"\n",
    "\n",
    "fold_l = [\"fold_0\", \"fold_1\", \"fold_2\", \"fold_3\", \"fold_4\"]\n",
    "\n",
    "## test for fold_0 dataset\n",
    "for fold in fold_l[:1]:\n",
    "    df_train_human = df_curated[(df_curated[fold] == \"train\") & (df_curated[\"label\"] == 1)]\n",
    "    df_train_animal = df_curated[(df_curated[fold] == \"train\") & (df_curated[\"label\"] == 0)]\n",
    "    \n",
    "    df_pred = df_curated[df_curated[fold] == \"pred\"]\n",
    "\n",
    "    output_train_human_f = \"/\".join(map(str, [output_dir, \"train_human_acc_\" + fold + \".txt\"]))\n",
    "    output_train_animal_f =  \"/\".join(map(str, [output_dir, \"train_animal_acc_\" + fold + \".txt\"]))\n",
    "\n",
    "    output_pred_f = \"/\".join(map(str, [output_dir, \"pred_\" + fold + \".txt\"]))\n",
    "\n",
    "    for output_f_1, df_o in zip([output_train_human_f, output_train_animal_f, output_pred_f], \n",
    "                                [df_train_human, df_train_animal, df_pred]):\n",
    "        acc_l = df_o[\"refseq.id\"].values.tolist()\n",
    "\n",
    "        f = open(output_f_1, \"w\")\n",
    "        f.write(\"\\n\".join(map(str, acc_l)))\n",
    "        f.close()"
   ]
  },
  {
   "cell_type": "markdown",
   "metadata": {},
   "source": [
    "## blastn"
   ]
  },
  {
   "cell_type": "code",
   "execution_count": 37,
   "metadata": {
    "ExecuteTime": {
     "end_time": "2024-03-11T09:17:26.626615Z",
     "start_time": "2024-03-11T06:33:43.551421Z"
    }
   },
   "outputs": [
    {
     "name": "stdout",
     "output_type": "stream",
     "text": [
      "\n",
      "\n",
      "Building a new DB, current time: 05/01/2024 14:00:33\n",
      "New DB name:   /Users/junna/Desktop/research/_2024/001_VirusBERT/000_git-hub/BERT-infect_2024/003_Data_predictability/output_examples/train_human_acc_fold_0.DB\n",
      "New DB title:  output_examples/train_human_acc_fold_0.fasta\n",
      "Sequence type: Nucleotide\n",
      "Deleted existing Nucleotide BLAST database named /Users/junna/Desktop/research/_2024/001_VirusBERT/000_git-hub/BERT-infect_2024/003_Data_predictability/output_examples/train_human_acc_fold_0.DB\n",
      "Keep MBits: T\n",
      "Maximum file size: 3000000000B\n",
      "Adding sequences from FASTA; added 324 sequences in 0.089149 seconds.\n",
      "\n",
      "\n",
      "\n",
      "\n",
      "Building a new DB, current time: 05/01/2024 14:00:49\n",
      "New DB name:   /Users/junna/Desktop/research/_2024/001_VirusBERT/000_git-hub/BERT-infect_2024/003_Data_predictability/output_examples/train_animal_acc_fold_0.DB\n",
      "New DB title:  output_examples/train_animal_acc_fold_0.fasta\n",
      "Sequence type: Nucleotide\n",
      "Deleted existing Nucleotide BLAST database named /Users/junna/Desktop/research/_2024/001_VirusBERT/000_git-hub/BERT-infect_2024/003_Data_predictability/output_examples/train_animal_acc_fold_0.DB\n",
      "Keep MBits: T\n",
      "Maximum file size: 3000000000B\n",
      "Adding sequences from FASTA; added 1352 sequences in 0.260764 seconds.\n",
      "\n",
      "\n"
     ]
    },
    {
     "name": "stderr",
     "output_type": "stream",
     "text": [
      "[INFO]\u001b[0m 324 patterns loaded from file\n",
      "[INFO]\u001b[0m 1352 patterns loaded from file\n",
      "[INFO]\u001b[0m 590 patterns loaded from file\n"
     ]
    }
   ],
   "source": [
    "%%bash\n",
    "\n",
    "virus=\"Coronaviridae\"\n",
    "fold=\"fold_0\"\n",
    "\n",
    "output_dir=\"output_examples\"\n",
    "\n",
    "train_human_f=${output_dir}/train_human_acc_${fold}.txt\n",
    "train_animal_f=${output_dir}/train_animal_acc_${fold}.txt\n",
    "\n",
    "test_acc_f=${output_dir}/pred_${fold}.txt\n",
    "\n",
    "## extract sequences\n",
    "cat ../002_Data_splitting/input_examples/${virus}.curated.fasta | \\\n",
    "    seqkit grep -f ${train_human_f} \\\n",
    "    > ${output_dir}/train_human_acc_${fold}.fasta\n",
    "    \n",
    "cat ../002_Data_splitting/input_examples/${virus}.curated.fasta | \\\n",
    "    seqkit grep -f ${train_animal_f} \\\n",
    "    > ${output_dir}/train_animal_acc_${fold}.fasta\n",
    "    \n",
    "cat ../002_Data_splitting/input_examples/${virus}.curated.fasta | \\\n",
    "    seqkit grep -f ${test_acc_f} \\\n",
    "    > ${output_dir}/pred_acc_${fold}.fasta\n",
    "\n",
    "### performe blastn   \n",
    "makeblastdb \\\n",
    "    -in ${output_dir}/train_human_acc_${fold}.fasta \\\n",
    "    -out ${output_dir}/train_human_acc_${fold}.DB \\\n",
    "    -dbtype nucl\n",
    "\n",
    "blastn \\\n",
    "    -query ${output_dir}/pred_acc_${fold}.fasta \\\n",
    "    -db ${output_dir}/train_human_acc_${fold}.DB \\\n",
    "    -out  ${output_dir}/test_human_acc_${fold}.blastn \\\n",
    "    -outfmt '6 qseqid sseqid evalue bitscore length qlen slen pident' \\\n",
    "    -max_target_seqs 5 \\\n",
    "    -evalue 1e-4\n",
    "\n",
    "###\n",
    "makeblastdb \\\n",
    "    -in ${output_dir}/train_animal_acc_${fold}.fasta \\\n",
    "    -out ${output_dir}/train_animal_acc_${fold}.DB \\\n",
    "    -dbtype nucl\n",
    "\n",
    "blastn \\\n",
    "    -query ${output_dir}/pred_acc_${fold}.fasta\\\n",
    "    -db ${output_dir}/train_animal_acc_${fold}.DB \\\n",
    "    -out  ${output_dir}/test_animal_acc_${fold}.blastn \\\n",
    "    -outfmt '6 qseqid sseqid evalue bitscore length qlen slen pident' \\\n",
    "    -max_target_seqs 5 \\\n",
    "    -evalue 1e-4\n",
    "    \n",
    "cat \\\n",
    "    ${output_dir}/test_human_acc_${fold}.blastn \\\n",
    "    ${output_dir}/test_animal_acc_${fold}.blastn \\\n",
    "    > ${output_dir}/pred_${fold}.blastn"
   ]
  },
  {
   "cell_type": "markdown",
   "metadata": {},
   "source": [
    "## Predicted results by BLASTn"
   ]
  },
  {
   "cell_type": "code",
   "execution_count": 38,
   "metadata": {
    "ExecuteTime": {
     "end_time": "2024-03-12T05:22:15.577923Z",
     "start_time": "2024-03-12T05:22:08.993839Z"
    },
    "run_control": {
     "marked": false
    }
   },
   "outputs": [],
   "source": [
    "blast_l = []\n",
    "\n",
    "for fold in fold_l[:1]:\n",
    "    blast_f = \"/\".join(map(str, [output_dir, \"pred_\" + fold + \".blastn\"]))\n",
    "    \n",
    "    if os.path.exists(blast_f):\n",
    "        df_blast = pd.read_csv(blast_f, sep=\"\\t\", \n",
    "                                names = [\"query\", \"subject\", \"evalue\", \"bitscore\", \"alen\", \"qlen\", \"slen\", \"pident\"])\n",
    "        \n",
    "        df_blast[\"coverage\"] = df_blast[\"alen\"] / df_blast[\"qlen\"] * 100\n",
    "        \n",
    "        # unpredictable: the aligned length of the top hit sequence did not cover >50% of the query sequence\n",
    "        df_blast.loc[df_blast[\"coverage\"] < 50, \"pident\"] = 0\n",
    "        \n",
    "        df_blast_tophit = df_blast.groupby(\"query\", group_keys=False).apply(lambda x: x[x[\"bitscore\"] == x[\"bitscore\"].max()])\n",
    "        \n",
    "        blast_l.append(df_blast_tophit)\n",
    "    else:\n",
    "        print (blast_f)"
   ]
  },
  {
   "cell_type": "code",
   "execution_count": 39,
   "metadata": {
    "ExecuteTime": {
     "end_time": "2024-03-12T05:23:56.476144Z",
     "start_time": "2024-03-12T05:23:56.432865Z"
    }
   },
   "outputs": [
    {
     "data": {
      "text/html": [
       "<div>\n",
       "<style scoped>\n",
       "    .dataframe tbody tr th:only-of-type {\n",
       "        vertical-align: middle;\n",
       "    }\n",
       "\n",
       "    .dataframe tbody tr th {\n",
       "        vertical-align: top;\n",
       "    }\n",
       "\n",
       "    .dataframe thead th {\n",
       "        text-align: right;\n",
       "    }\n",
       "</style>\n",
       "<table border=\"1\" class=\"dataframe\">\n",
       "  <thead>\n",
       "    <tr style=\"text-align: right;\">\n",
       "      <th></th>\n",
       "      <th>query</th>\n",
       "      <th>subject</th>\n",
       "      <th>evalue</th>\n",
       "      <th>bitscore</th>\n",
       "      <th>alen</th>\n",
       "      <th>qlen</th>\n",
       "      <th>slen</th>\n",
       "      <th>pident</th>\n",
       "      <th>coverage</th>\n",
       "    </tr>\n",
       "  </thead>\n",
       "  <tbody>\n",
       "    <tr>\n",
       "      <th>8601</th>\n",
       "      <td>KU893862</td>\n",
       "      <td>KM392224</td>\n",
       "      <td>0.0</td>\n",
       "      <td>51755.0</td>\n",
       "      <td>28032</td>\n",
       "      <td>28032</td>\n",
       "      <td>28032</td>\n",
       "      <td>99.989</td>\n",
       "      <td>100.000000</td>\n",
       "    </tr>\n",
       "    <tr>\n",
       "      <th>8606</th>\n",
       "      <td>KU893863</td>\n",
       "      <td>KM392224</td>\n",
       "      <td>0.0</td>\n",
       "      <td>51703.0</td>\n",
       "      <td>28031</td>\n",
       "      <td>28031</td>\n",
       "      <td>28032</td>\n",
       "      <td>99.954</td>\n",
       "      <td>100.000000</td>\n",
       "    </tr>\n",
       "    <tr>\n",
       "      <th>8611</th>\n",
       "      <td>KU893864</td>\n",
       "      <td>KM392224</td>\n",
       "      <td>0.0</td>\n",
       "      <td>51727.0</td>\n",
       "      <td>28031</td>\n",
       "      <td>28039</td>\n",
       "      <td>28032</td>\n",
       "      <td>99.968</td>\n",
       "      <td>99.971468</td>\n",
       "    </tr>\n",
       "    <tr>\n",
       "      <th>8616</th>\n",
       "      <td>KU893865</td>\n",
       "      <td>KM392224</td>\n",
       "      <td>0.0</td>\n",
       "      <td>51722.0</td>\n",
       "      <td>28029</td>\n",
       "      <td>28029</td>\n",
       "      <td>28032</td>\n",
       "      <td>99.971</td>\n",
       "      <td>100.000000</td>\n",
       "    </tr>\n",
       "    <tr>\n",
       "      <th>8621</th>\n",
       "      <td>KU893866</td>\n",
       "      <td>KM392224</td>\n",
       "      <td>0.0</td>\n",
       "      <td>51716.0</td>\n",
       "      <td>28032</td>\n",
       "      <td>28043</td>\n",
       "      <td>28032</td>\n",
       "      <td>99.968</td>\n",
       "      <td>99.960775</td>\n",
       "    </tr>\n",
       "  </tbody>\n",
       "</table>\n",
       "</div>"
      ],
      "text/plain": [
       "         query   subject  evalue  bitscore   alen   qlen   slen  pident  \\\n",
       "8601  KU893862  KM392224     0.0   51755.0  28032  28032  28032  99.989   \n",
       "8606  KU893863  KM392224     0.0   51703.0  28031  28031  28032  99.954   \n",
       "8611  KU893864  KM392224     0.0   51727.0  28031  28039  28032  99.968   \n",
       "8616  KU893865  KM392224     0.0   51722.0  28029  28029  28032  99.971   \n",
       "8621  KU893866  KM392224     0.0   51716.0  28032  28043  28032  99.968   \n",
       "\n",
       "        coverage  \n",
       "8601  100.000000  \n",
       "8606  100.000000  \n",
       "8611   99.971468  \n",
       "8616  100.000000  \n",
       "8621   99.960775  "
      ]
     },
     "execution_count": 39,
     "metadata": {},
     "output_type": "execute_result"
    }
   ],
   "source": [
    "df_blast_result = pd.concat(blast_l)\n",
    "df_blast_result.head()"
   ]
  },
  {
   "cell_type": "markdown",
   "metadata": {},
   "source": [
    "## add infectivity label based on the tophit sequence"
   ]
  },
  {
   "cell_type": "code",
   "execution_count": 40,
   "metadata": {
    "ExecuteTime": {
     "end_time": "2024-03-12T05:23:56.537871Z",
     "start_time": "2024-03-12T05:23:56.477315Z"
    }
   },
   "outputs": [
    {
     "data": {
      "text/html": [
       "<div>\n",
       "<style scoped>\n",
       "    .dataframe tbody tr th:only-of-type {\n",
       "        vertical-align: middle;\n",
       "    }\n",
       "\n",
       "    .dataframe tbody tr th {\n",
       "        vertical-align: top;\n",
       "    }\n",
       "\n",
       "    .dataframe thead th {\n",
       "        text-align: right;\n",
       "    }\n",
       "</style>\n",
       "<table border=\"1\" class=\"dataframe\">\n",
       "  <thead>\n",
       "    <tr style=\"text-align: right;\">\n",
       "      <th></th>\n",
       "      <th>query</th>\n",
       "      <th>subject</th>\n",
       "      <th>evalue</th>\n",
       "      <th>bitscore</th>\n",
       "      <th>alen</th>\n",
       "      <th>qlen</th>\n",
       "      <th>slen</th>\n",
       "      <th>pident</th>\n",
       "      <th>coverage</th>\n",
       "      <th>subject_label</th>\n",
       "    </tr>\n",
       "  </thead>\n",
       "  <tbody>\n",
       "    <tr>\n",
       "      <th>0</th>\n",
       "      <td>KU893862</td>\n",
       "      <td>KM392224</td>\n",
       "      <td>0.0</td>\n",
       "      <td>51755.0</td>\n",
       "      <td>28032</td>\n",
       "      <td>28032</td>\n",
       "      <td>28032</td>\n",
       "      <td>99.989</td>\n",
       "      <td>100.000000</td>\n",
       "      <td>0</td>\n",
       "    </tr>\n",
       "    <tr>\n",
       "      <th>1</th>\n",
       "      <td>KU893863</td>\n",
       "      <td>KM392224</td>\n",
       "      <td>0.0</td>\n",
       "      <td>51703.0</td>\n",
       "      <td>28031</td>\n",
       "      <td>28031</td>\n",
       "      <td>28032</td>\n",
       "      <td>99.954</td>\n",
       "      <td>100.000000</td>\n",
       "      <td>0</td>\n",
       "    </tr>\n",
       "    <tr>\n",
       "      <th>2</th>\n",
       "      <td>KU893864</td>\n",
       "      <td>KM392224</td>\n",
       "      <td>0.0</td>\n",
       "      <td>51727.0</td>\n",
       "      <td>28031</td>\n",
       "      <td>28039</td>\n",
       "      <td>28032</td>\n",
       "      <td>99.968</td>\n",
       "      <td>99.971468</td>\n",
       "      <td>0</td>\n",
       "    </tr>\n",
       "  </tbody>\n",
       "</table>\n",
       "</div>"
      ],
      "text/plain": [
       "      query   subject  evalue  bitscore   alen   qlen   slen  pident  \\\n",
       "0  KU893862  KM392224     0.0   51755.0  28032  28032  28032  99.989   \n",
       "1  KU893863  KM392224     0.0   51703.0  28031  28031  28032  99.954   \n",
       "2  KU893864  KM392224     0.0   51727.0  28031  28039  28032  99.968   \n",
       "\n",
       "     coverage  subject_label  \n",
       "0  100.000000              0  \n",
       "1  100.000000              0  \n",
       "2   99.971468              0  "
      ]
     },
     "execution_count": 40,
     "metadata": {},
     "output_type": "execute_result"
    }
   ],
   "source": [
    "df_subject = df_curated.loc[:, [\"refseq.id\", \"label\"]]\n",
    "df_subject = df_subject.rename(columns={\"refseq.id\": \"subject\", \"label\": \"subject_label\"})\n",
    "df_subject = df_subject.drop_duplicates()\n",
    "\n",
    "df_blast_result_1 = df_blast_result.merge(df_subject, on=\"subject\", how=\"left\")\n",
    "df_blast_result_1.head(3)"
   ]
  },
  {
   "cell_type": "code",
   "execution_count": 41,
   "metadata": {
    "ExecuteTime": {
     "end_time": "2024-03-12T05:23:56.689475Z",
     "start_time": "2024-03-12T05:23:56.539678Z"
    },
    "code_folding": [],
    "run_control": {
     "marked": true
    }
   },
   "outputs": [],
   "source": [
    "## \n",
    "df_blast_result_2 = df_curated.merge(df_blast_result_1, left_on = [\"refseq.id\"], \n",
    "                                        right_on=[\"query\"])"
   ]
  },
  {
   "cell_type": "code",
   "execution_count": 42,
   "metadata": {
    "ExecuteTime": {
     "end_time": "2024-03-12T05:23:56.718202Z",
     "start_time": "2024-03-12T05:23:56.690415Z"
    }
   },
   "outputs": [
    {
     "data": {
      "text/html": [
       "<div>\n",
       "<style scoped>\n",
       "    .dataframe tbody tr th:only-of-type {\n",
       "        vertical-align: middle;\n",
       "    }\n",
       "\n",
       "    .dataframe tbody tr th {\n",
       "        vertical-align: top;\n",
       "    }\n",
       "\n",
       "    .dataframe thead th {\n",
       "        text-align: right;\n",
       "    }\n",
       "</style>\n",
       "<table border=\"1\" class=\"dataframe\">\n",
       "  <thead>\n",
       "    <tr style=\"text-align: right;\">\n",
       "      <th></th>\n",
       "      <th>refseq.id</th>\n",
       "      <th>fold_0</th>\n",
       "      <th>label</th>\n",
       "      <th>sampling</th>\n",
       "      <th>database</th>\n",
       "      <th>date</th>\n",
       "      <th>fold_1</th>\n",
       "      <th>fold_2</th>\n",
       "      <th>fold_3</th>\n",
       "      <th>fold_4</th>\n",
       "      <th>host_label</th>\n",
       "      <th>Genus</th>\n",
       "      <th>virus_ID</th>\n",
       "      <th>Family</th>\n",
       "      <th>Species</th>\n",
       "      <th>query</th>\n",
       "      <th>subject</th>\n",
       "      <th>evalue</th>\n",
       "      <th>bitscore</th>\n",
       "      <th>alen</th>\n",
       "      <th>qlen</th>\n",
       "      <th>slen</th>\n",
       "      <th>pident</th>\n",
       "      <th>coverage</th>\n",
       "      <th>subject_label</th>\n",
       "    </tr>\n",
       "  </thead>\n",
       "  <tbody>\n",
       "  </tbody>\n",
       "</table>\n",
       "</div>"
      ],
      "text/plain": [
       "Empty DataFrame\n",
       "Columns: [refseq.id, fold_0, label, sampling, database, date, fold_1, fold_2, fold_3, fold_4, host_label, Genus, virus_ID, Family, Species, query, subject, evalue, bitscore, alen, qlen, slen, pident, coverage, subject_label]\n",
       "Index: []"
      ]
     },
     "execution_count": 42,
     "metadata": {},
     "output_type": "execute_result"
    }
   ],
   "source": [
    "df_blast_result_2[(df_blast_result_2[\"label\"].isnull()) |\n",
    "                 (df_blast_result_2[\"subject_label\"].isnull()) | \n",
    "                 (df_blast_result_2[\"pident\"].isnull())]"
   ]
  },
  {
   "cell_type": "markdown",
   "metadata": {},
   "source": [
    "## unpredictable cases"
   ]
  },
  {
   "cell_type": "code",
   "execution_count": 43,
   "metadata": {
    "ExecuteTime": {
     "end_time": "2024-03-12T05:23:56.860231Z",
     "start_time": "2024-03-12T05:23:56.719253Z"
    }
   },
   "outputs": [],
   "source": [
    "##\n",
    "df_blast_result_2 = df_blast_result_2.astype({\"label\":int, \"subject_label\":int, \"pident\":float})\n",
    "\n",
    "## unpredictable: showed both human- and animal-infecting viruses with the same bitscore\n",
    "df_g = df_blast_result_2.groupby(\"query\").agg(count=(\"subject_label\", \"nunique\"))\n",
    "acc_l = df_g[df_g[\"count\"] > 1].index.tolist()\n",
    "\n",
    "df_blast_result_2.loc[(df_blast_result_2[\"query\"].isin(acc_l)) & (df_blast_result_2[\"label\"] == 0), \"subject_label\"] = 1\n",
    "df_blast_result_2.loc[(df_blast_result_2[\"query\"].isin(acc_l)) & (df_blast_result_2[\"label\"] == 1), \"subject_label\"] = 0\n",
    "\n",
    "## unpredictable: there was no hit sequence with an E-value of >1e-4\n",
    "df_blast_result_2.loc[(df_blast_result_2[\"query\"].isnull()) & (df_blast_result_2[\"label\"] == 0), \"subject_label\"] = 1\n",
    "df_blast_result_2.loc[(df_blast_result_2[\"query\"].isnull()) & (df_blast_result_2[\"label\"] == 1), \"subject_label\"] = 0\n",
    "\n",
    "df_blast_result_2.loc[(df_blast_result_2[\"pident\"] == 0) & (df_blast_result_2[\"label\"] == 0), \"subject_label\"] = 1\n",
    "df_blast_result_2.loc[(df_blast_result_2[\"pident\"] == 0) & (df_blast_result_2[\"label\"] == 1), \"subject_label\"] = 0"
   ]
  },
  {
   "cell_type": "code",
   "execution_count": 44,
   "metadata": {
    "ExecuteTime": {
     "end_time": "2024-03-12T05:23:56.870336Z",
     "start_time": "2024-03-12T05:23:56.861446Z"
    }
   },
   "outputs": [
    {
     "data": {
      "text/html": [
       "<div>\n",
       "<style scoped>\n",
       "    .dataframe tbody tr th:only-of-type {\n",
       "        vertical-align: middle;\n",
       "    }\n",
       "\n",
       "    .dataframe tbody tr th {\n",
       "        vertical-align: top;\n",
       "    }\n",
       "\n",
       "    .dataframe thead th {\n",
       "        text-align: right;\n",
       "    }\n",
       "</style>\n",
       "<table border=\"1\" class=\"dataframe\">\n",
       "  <thead>\n",
       "    <tr style=\"text-align: right;\">\n",
       "      <th></th>\n",
       "      <th>refseq.id</th>\n",
       "      <th>fold_0</th>\n",
       "      <th>label</th>\n",
       "      <th>sampling</th>\n",
       "      <th>database</th>\n",
       "      <th>date</th>\n",
       "      <th>fold_1</th>\n",
       "      <th>fold_2</th>\n",
       "      <th>fold_3</th>\n",
       "      <th>fold_4</th>\n",
       "      <th>host_label</th>\n",
       "      <th>Genus</th>\n",
       "      <th>virus_ID</th>\n",
       "      <th>Family</th>\n",
       "      <th>Species</th>\n",
       "      <th>query</th>\n",
       "      <th>subject</th>\n",
       "      <th>evalue</th>\n",
       "      <th>bitscore</th>\n",
       "      <th>alen</th>\n",
       "      <th>qlen</th>\n",
       "      <th>slen</th>\n",
       "      <th>pident</th>\n",
       "      <th>coverage</th>\n",
       "      <th>subject_label</th>\n",
       "    </tr>\n",
       "  </thead>\n",
       "  <tbody>\n",
       "    <tr>\n",
       "      <th>0</th>\n",
       "      <td>ON075821</td>\n",
       "      <td>pred</td>\n",
       "      <td>0</td>\n",
       "      <td>normal</td>\n",
       "      <td>GenBank</td>\n",
       "      <td>20240206</td>\n",
       "      <td>dev</td>\n",
       "      <td>train</td>\n",
       "      <td>dev</td>\n",
       "      <td>train</td>\n",
       "      <td>0.0</td>\n",
       "      <td>Alphacoronavirus</td>\n",
       "      <td>ON075821</td>\n",
       "      <td>Coronaviridae</td>\n",
       "      <td>Porcine epidemic diarrhea virus</td>\n",
       "      <td>ON075821</td>\n",
       "      <td>KJ584361</td>\n",
       "      <td>0.0</td>\n",
       "      <td>50386.0</td>\n",
       "      <td>28066</td>\n",
       "      <td>28063</td>\n",
       "      <td>28038</td>\n",
       "      <td>99.091</td>\n",
       "      <td>100.01069</td>\n",
       "      <td>0</td>\n",
       "    </tr>\n",
       "    <tr>\n",
       "      <th>1</th>\n",
       "      <td>OR230676</td>\n",
       "      <td>pred</td>\n",
       "      <td>0</td>\n",
       "      <td>normal</td>\n",
       "      <td>GenBank</td>\n",
       "      <td>20240206</td>\n",
       "      <td>train</td>\n",
       "      <td>train</td>\n",
       "      <td>train</td>\n",
       "      <td>train</td>\n",
       "      <td>0.0</td>\n",
       "      <td>Deltacoronavirus</td>\n",
       "      <td>OR230676</td>\n",
       "      <td>Coronaviridae</td>\n",
       "      <td>Coronavirus HKU15</td>\n",
       "      <td>OR230676</td>\n",
       "      <td>MF280390</td>\n",
       "      <td>0.0</td>\n",
       "      <td>46737.0</td>\n",
       "      <td>25402</td>\n",
       "      <td>25420</td>\n",
       "      <td>25402</td>\n",
       "      <td>99.878</td>\n",
       "      <td>99.92919</td>\n",
       "      <td>0</td>\n",
       "    </tr>\n",
       "  </tbody>\n",
       "</table>\n",
       "</div>"
      ],
      "text/plain": [
       "  refseq.id fold_0  label sampling database      date fold_1 fold_2 fold_3  \\\n",
       "0  ON075821   pred      0   normal  GenBank  20240206    dev  train    dev   \n",
       "1  OR230676   pred      0   normal  GenBank  20240206  train  train  train   \n",
       "\n",
       "  fold_4  host_label             Genus  virus_ID         Family  \\\n",
       "0  train         0.0  Alphacoronavirus  ON075821  Coronaviridae   \n",
       "1  train         0.0  Deltacoronavirus  OR230676  Coronaviridae   \n",
       "\n",
       "                           Species     query   subject  evalue  bitscore  \\\n",
       "0  Porcine epidemic diarrhea virus  ON075821  KJ584361     0.0   50386.0   \n",
       "1                Coronavirus HKU15  OR230676  MF280390     0.0   46737.0   \n",
       "\n",
       "    alen   qlen   slen  pident   coverage  subject_label  \n",
       "0  28066  28063  28038  99.091  100.01069              0  \n",
       "1  25402  25420  25402  99.878   99.92919              0  "
      ]
     },
     "execution_count": 44,
     "metadata": {},
     "output_type": "execute_result"
    }
   ],
   "source": [
    "df_blast_result_2.head(2)"
   ]
  },
  {
   "cell_type": "markdown",
   "metadata": {},
   "source": [
    "## AUROC, PR-AUC scores"
   ]
  },
  {
   "cell_type": "code",
   "execution_count": 45,
   "metadata": {
    "ExecuteTime": {
     "end_time": "2024-03-12T05:25:14.020453Z",
     "start_time": "2024-03-12T05:25:13.340624Z"
    },
    "run_control": {
     "marked": true
    }
   },
   "outputs": [
    {
     "data": {
      "text/html": [
       "<div>\n",
       "<style scoped>\n",
       "    .dataframe tbody tr th:only-of-type {\n",
       "        vertical-align: middle;\n",
       "    }\n",
       "\n",
       "    .dataframe tbody tr th {\n",
       "        vertical-align: top;\n",
       "    }\n",
       "\n",
       "    .dataframe thead th {\n",
       "        text-align: right;\n",
       "    }\n",
       "</style>\n",
       "<table border=\"1\" class=\"dataframe\">\n",
       "  <thead>\n",
       "    <tr style=\"text-align: right;\">\n",
       "      <th></th>\n",
       "      <th>model</th>\n",
       "      <th>virus_family</th>\n",
       "      <th>auroc</th>\n",
       "      <th>pr-auc</th>\n",
       "    </tr>\n",
       "  </thead>\n",
       "  <tbody>\n",
       "    <tr>\n",
       "      <th>0</th>\n",
       "      <td>blast</td>\n",
       "      <td>Coronaviridae</td>\n",
       "      <td>0.945151</td>\n",
       "      <td>0.759885</td>\n",
       "    </tr>\n",
       "  </tbody>\n",
       "</table>\n",
       "</div>"
      ],
      "text/plain": [
       "   model   virus_family     auroc    pr-auc\n",
       "0  blast  Coronaviridae  0.945151  0.759885"
      ]
     },
     "execution_count": 45,
     "metadata": {},
     "output_type": "execute_result"
    }
   ],
   "source": [
    "from sklearn.metrics import roc_auc_score, average_precision_score\n",
    "\n",
    "df_result = df_blast_result_2\n",
    "\n",
    "metrics_d = {\"model\":[], \"virus_family\":[], \"auroc\":[], \"pr-auc\":[]}\n",
    "\n",
    "result_l = []\n",
    "\n",
    "model = \"blast\"\n",
    "\n",
    "df_1 = df_result.groupby(\"virus_ID\").agg(average_prob=(\"subject_label\", \"mean\"),\n",
    "                                    label=(\"label\", \"max\"))\n",
    "\n",
    "y_test = df_1[\"label\"]\n",
    "y_pred_prob = df_1[\"average_prob\"]\n",
    "\n",
    "if len(set(y_test)) == 1:\n",
    "    auc = 0\n",
    "    average_precision = 0\n",
    "else:\n",
    "    auc = roc_auc_score(y_test, y_pred_prob)\n",
    "    average_precision = average_precision_score(y_test, y_pred_prob)\n",
    "\n",
    "metrics_d[\"model\"].append(model)\n",
    "metrics_d[\"virus_family\"].append(virus)\n",
    "metrics_d[\"auroc\"].append(auc)\n",
    "metrics_d[\"pr-auc\"].append(average_precision)\n",
    "\n",
    "df_metrics = pd.DataFrame(metrics_d)\n",
    "df_metrics.sort_values(\"virus_family\")"
   ]
  },
  {
   "cell_type": "markdown",
   "metadata": {},
   "source": [
    "## outputs"
   ]
  },
  {
   "cell_type": "code",
   "execution_count": 46,
   "metadata": {},
   "outputs": [],
   "source": [
    "output_f = \"output_examples/blast_prediction_results.csv\"\n",
    "\n",
    "df_blast_result_2.to_csv(output_f, index=False)"
   ]
  },
  {
   "cell_type": "code",
   "execution_count": 47,
   "metadata": {},
   "outputs": [],
   "source": [
    "output_f = \"output_examples/blast_metrics.csv\"\n",
    "\n",
    "df_metrics.to_csv(output_f, index=False)"
   ]
  },
  {
   "cell_type": "code",
   "execution_count": null,
   "metadata": {},
   "outputs": [],
   "source": []
  },
  {
   "cell_type": "code",
   "execution_count": null,
   "metadata": {},
   "outputs": [],
   "source": []
  },
  {
   "cell_type": "code",
   "execution_count": null,
   "metadata": {},
   "outputs": [],
   "source": []
  }
 ],
 "metadata": {
  "kernelspec": {
   "display_name": "env_210819",
   "language": "python",
   "name": "env_210819"
  },
  "language_info": {
   "codemirror_mode": {
    "name": "ipython",
    "version": 3
   },
   "file_extension": ".py",
   "mimetype": "text/x-python",
   "name": "python",
   "nbconvert_exporter": "python",
   "pygments_lexer": "ipython3",
   "version": "3.9.18"
  },
  "toc": {
   "base_numbering": 1,
   "nav_menu": {},
   "number_sections": true,
   "sideBar": true,
   "skip_h1_title": false,
   "title_cell": "Table of Contents",
   "title_sidebar": "Contents",
   "toc_cell": true,
   "toc_position": {
    "height": "calc(100% - 180px)",
    "left": "10px",
    "top": "150px",
    "width": "206px"
   },
   "toc_section_display": true,
   "toc_window_display": true
  }
 },
 "nbformat": 4,
 "nbformat_minor": 4
}
