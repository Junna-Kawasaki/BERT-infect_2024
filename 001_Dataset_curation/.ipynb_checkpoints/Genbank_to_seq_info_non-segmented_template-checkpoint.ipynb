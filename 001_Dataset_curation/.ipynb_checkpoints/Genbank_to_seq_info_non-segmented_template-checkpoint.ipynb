{
 "cells": [
  {
   "cell_type": "markdown",
   "metadata": {
    "toc": true
   },
   "source": [
    "<h1>Table of Contents<span class=\"tocSkip\"></span></h1>\n",
    "<div class=\"toc\"><ul class=\"toc-item\"><li><span><a href=\"#Input\" data-toc-modified-id=\"Input-1\"><span class=\"toc-item-num\">1&nbsp;&nbsp;</span>Input</a></span></li><li><span><a href=\"#extract-reperesentative-sequences-by-clustering-100%-identity-sequences\" data-toc-modified-id=\"extract-reperesentative-sequences-by-clustering-100%-identity-sequences-2\"><span class=\"toc-item-num\">2&nbsp;&nbsp;</span>extract reperesentative sequences by clustering 100% identity sequences</a></span><ul class=\"toc-item\"><li><span><a href=\"#cd-hit-clustering\" data-toc-modified-id=\"cd-hit-clustering-2.1\"><span class=\"toc-item-num\">2.1&nbsp;&nbsp;</span>cd-hit clustering</a></span></li><li><span><a href=\"#extract-sequence-accession-number-from-fasta-file\" data-toc-modified-id=\"extract-sequence-accession-number-from-fasta-file-2.2\"><span class=\"toc-item-num\">2.2&nbsp;&nbsp;</span>extract sequence accession number from fasta file</a></span></li></ul></li><li><span><a href=\"#read-metadata-obtained-from-the-NCBI-Virus-Database\" data-toc-modified-id=\"read-metadata-obtained-from-the-NCBI-Virus-Database-3\"><span class=\"toc-item-num\">3&nbsp;&nbsp;</span>read metadata obtained from the NCBI Virus Database</a></span><ul class=\"toc-item\"><li><span><a href=\"#extract-metadata-of-representative-sequences\" data-toc-modified-id=\"extract-metadata-of-representative-sequences-3.1\"><span class=\"toc-item-num\">3.1&nbsp;&nbsp;</span>extract metadata of representative sequences</a></span></li></ul></li><li><span><a href=\"#Basic-information\" data-toc-modified-id=\"Basic-information-4\"><span class=\"toc-item-num\">4&nbsp;&nbsp;</span>Basic information</a></span><ul class=\"toc-item\"><li><span><a href=\"#add-host-label\" data-toc-modified-id=\"add-host-label-4.1\"><span class=\"toc-item-num\">4.1&nbsp;&nbsp;</span>add host label</a></span></li><li><span><a href=\"#add-virus_ID\" data-toc-modified-id=\"add-virus_ID-4.2\"><span class=\"toc-item-num\">4.2&nbsp;&nbsp;</span>add virus_ID</a></span></li><li><span><a href=\"#check-sequence-lengths\" data-toc-modified-id=\"check-sequence-lengths-4.3\"><span class=\"toc-item-num\">4.3&nbsp;&nbsp;</span>check sequence lengths</a></span></li><li><span><a href=\"#collection-date-of-viral-data\" data-toc-modified-id=\"collection-date-of-viral-data-4.4\"><span class=\"toc-item-num\">4.4&nbsp;&nbsp;</span>collection date of viral data</a></span></li></ul></li><li><span><a href=\"#Divided-data-into-the-Past-and-Future-Viral-Datasets\" data-toc-modified-id=\"Divided-data-into-the-Past-and-Future-Viral-Datasets-5\"><span class=\"toc-item-num\">5&nbsp;&nbsp;</span>Divided data into the Past and Future Viral Datasets</a></span></li><li><span><a href=\"#output\" data-toc-modified-id=\"output-6\"><span class=\"toc-item-num\">6&nbsp;&nbsp;</span>output</a></span></li></ul></div>"
   ]
  },
  {
   "cell_type": "code",
   "execution_count": 13,
   "metadata": {
    "ExecuteTime": {
     "end_time": "2024-04-10T10:03:33.638909Z",
     "start_time": "2024-04-10T10:03:33.620140Z"
    }
   },
   "outputs": [],
   "source": [
    "#!/usr/bin/env python\n",
    "import sys, re\n",
    "argvs = sys.argv\n",
    "sys.setrecursionlimit(10000000)\n",
    "\n",
    "import os\n",
    "import collections\n",
    "import numpy as np\n",
    "import pandas as pd\n",
    "import array\n",
    "pd.set_option(\"display.max_colwidth\", 200)\n",
    "pd.set_option(\"display.max_columns\", 200)\n",
    "pd.set_option(\"display.max_rows\", 300)\n",
    "\n",
    "import glob\n",
    "\n",
    "## visualize\n",
    "import matplotlib\n",
    "import matplotlib.pyplot as plt\n",
    "import seaborn as sns\n",
    "sns.set()\n",
    "\n",
    "plt.rcParams['font.family'] = \"Arial\""
   ]
  },
  {
   "cell_type": "markdown",
   "metadata": {},
   "source": [
    "# Input"
   ]
  },
  {
   "cell_type": "code",
   "execution_count": 14,
   "metadata": {
    "ExecuteTime": {
     "end_time": "2024-04-10T10:03:33.648156Z",
     "start_time": "2024-04-10T10:03:33.646009Z"
    }
   },
   "outputs": [],
   "source": [
    "virus_family = \"Coronaviridae\""
   ]
  },
  {
   "cell_type": "markdown",
   "metadata": {},
   "source": [
    "# extract reperesentative sequences by clustering 100% identity sequences"
   ]
  },
  {
   "cell_type": "markdown",
   "metadata": {},
   "source": [
    "## cd-hit clustering"
   ]
  },
  {
   "cell_type": "code",
   "execution_count": 15,
   "metadata": {
    "ExecuteTime": {
     "end_time": "2024-04-10T10:06:19.388172Z",
     "start_time": "2024-04-10T10:03:33.666852Z"
    }
   },
   "outputs": [
    {
     "name": "stdout",
     "output_type": "stream",
     "text": [
      "================================================================\n",
      "Program: CD-HIT, V4.7, Jul 13 2018, 10:15:23\n",
      "Command: cd-hit-est -i\n",
      "         input_examples/Coronaviridae.curated.fasta -o\n",
      "         input_examples/Coronaviridae.curated.cdhit100.fasta -n\n",
      "         10 -c 1.0 -d 0\n",
      "\n",
      "Started: Wed Apr 10 19:03:33 2024\n",
      "================================================================\n",
      "                            Output                              \n",
      "----------------------------------------------------------------\n",
      "total seq: 5021\n",
      "longest and shortest : 36652 and 248\n",
      "Total letters: 140842804\n",
      "Sequences have been sorted\n",
      "\n",
      "Approximated minimal memory consumption:\n",
      "Sequence        : 141M\n",
      "Buffer          : 1 X 19M = 19M\n",
      "Table           : 1 X 16M = 16M\n",
      "Miscellaneous   : 4M\n",
      "Total           : 182M\n",
      "\n",
      "Table limit with the given memory limit:\n",
      "Max number of representatives: 213831\n",
      "Max number of word counting entries: 77189130\n",
      "\n",
      "\r",
      "comparing sequences from          0  to       2581\n",
      "..\r",
      "51.4%\r",
      "51.5%\r",
      "51.6%\r",
      "51.8%\r",
      "51.9%\r",
      "52.0%\r",
      "52.1%\r",
      "52.2%\r",
      "52.4%\r",
      "52.5%\r",
      "52.6%\r",
      "52.7%\r",
      "52.8%\r",
      "53.0%\r",
      "53.1%\r",
      "53.2%\r",
      "53.3%\r",
      "53.4%\r",
      "53.6%\r",
      "53.7%\r",
      "53.8%\r",
      "53.9%\r",
      "54.0%\r",
      "54.2%\r",
      "54.3%\r",
      "54.4%\r",
      "54.5%\r",
      "54.6%\r",
      "54.8%\r",
      "54.9%\r",
      "55.0%\r",
      "55.1%\r",
      "55.2%\r",
      "55.3%\r",
      "55.5%\r",
      "55.6%\r",
      "55.7%\r",
      "55.8%\r",
      "55.9%\r",
      "56.1%\r",
      "56.2%\r",
      "56.3%\r",
      "56.4%\r",
      "56.5%\r",
      "56.7%\r",
      "56.8%\r",
      "56.9%\r",
      "57.0%\r",
      "57.1%\r",
      "57.3%\r",
      "57.4%\r",
      "57.5%\r",
      "57.6%\r",
      "57.7%\r",
      "57.9%\r",
      "58.0%\r",
      "58.1%\r",
      "58.2%\r",
      "58.3%\r",
      "58.5%\r",
      "58.6%\r",
      "58.7%\r",
      "58.8%\r",
      "58.9%\r",
      "59.1%\r",
      "59.2%\r",
      "59.3%\r",
      "59.4%\r",
      "59.5%\r",
      "59.6%\r",
      "59.8%\r",
      "59.9%\r",
      "60.0%\r",
      "60.1%\r",
      "60.2%\r",
      "60.4%\r",
      "60.5%\r",
      "60.6%\r",
      "60.7%\r",
      "60.8%\r",
      "61.0%\r",
      "61.1%\r",
      "61.2%\r",
      "61.3%\r",
      "61.4%\r",
      "61.6%\r",
      "61.7%\r",
      "61.8%\r",
      "61.9%\r",
      "62.0%\r",
      "62.2%\r",
      "62.3%\r",
      "62.4%\r",
      "62.5%\r",
      "62.6%\r",
      "62.8%\r",
      "62.9%\r",
      "63.0%\r",
      "63.1%\r",
      "63.2%\r",
      "63.4%\r",
      "63.5%\r",
      "63.6%\r",
      "63.7%\r",
      "63.8%\r",
      "64.0%\r",
      "64.1%\r",
      "64.2%\r",
      "64.3%\r",
      "64.4%\r",
      "64.5%\r",
      "64.7%\r",
      "64.8%\r",
      "64.9%\r",
      "65.0%\r",
      "65.1%\r",
      "65.3%\r",
      "65.4%\r",
      "65.5%\r",
      "65.6%\r",
      "65.7%\r",
      "65.9%\r",
      "66.0%\r",
      "66.1%\r",
      "66.2%\r",
      "66.3%\r",
      "66.5%\r",
      "66.6%\r",
      "66.7%\r",
      "66.8%\r",
      "66.9%\r",
      "67.1%\r",
      "67.2%\r",
      "67.3%\r",
      "67.4%\r",
      "67.5%\r",
      "67.7%\r",
      "67.8%\r",
      "67.9%\r",
      "68.0%\r",
      "68.1%\r",
      "68.3%\r",
      "68.4%\r",
      "68.5%\r",
      "68.6%\r",
      "68.7%\r",
      "68.9%\r",
      "69.0%\r",
      "69.1%\r",
      "69.2%\r",
      "69.3%\r",
      "69.4%\r",
      "69.6%\r",
      "69.7%\r",
      "69.8%\r",
      "69.9%\r",
      "70.0%\r",
      "70.2%\r",
      "70.3%\r",
      "70.4%\r",
      "70.5%\r",
      "70.6%\r",
      "70.8%\r",
      "70.9%\r",
      "71.0%\r",
      "71.1%\r",
      "71.2%\r",
      "71.4%\r",
      "71.5%\r",
      "71.6%\r",
      "71.7%\r",
      "71.8%\r",
      "72.0%\r",
      "72.1%\r",
      "72.2%\r",
      "72.3%\r",
      "72.4%\r",
      "72.6%\r",
      "72.7%\r",
      "72.8%\r",
      "72.9%\r",
      "73.0%\r",
      "73.2%\r",
      "73.3%\r",
      "73.4%\r",
      "73.5%\r",
      "73.6%\r",
      "73.8%\r",
      "73.9%\r",
      "74.0%\r",
      "74.1%\r",
      "74.2%\r",
      "74.3%\r",
      "74.5%\r",
      "74.6%\r",
      "74.7%\r",
      "74.8%\r",
      "74.9%\r",
      "75.1%\r",
      "75.2%\r",
      "75.3%\r",
      "75.4%\r",
      "75.5%\r",
      "75.7%\r",
      "75.8%\r",
      "75.9%\r",
      "76.0%\r",
      "76.1%\r",
      "76.3%\r",
      "76.4%\r",
      "76.5%\r",
      "76.6%\r",
      "76.7%\r",
      "76.9%\r",
      "77.0%\r",
      "77.1%\r",
      "77.2%\r",
      "77.3%\r",
      "77.5%\r",
      "77.6%\r",
      "77.7%\r",
      "77.8%\r",
      "77.9%\r",
      "78.1%\r",
      "78.2%\r",
      "78.3%\r",
      "78.4%\r",
      "78.5%\r",
      "78.6%\r",
      "78.8%\r",
      "78.9%\r",
      "79.0%\r",
      "79.1%\r",
      "79.2%\r",
      "79.4%\r",
      "79.5%\r",
      "79.6%\r",
      "79.7%\r",
      "79.8%\r",
      "80.0%\r",
      "80.1%\r",
      "80.2%\r",
      "80.3%\r",
      "80.4%\r",
      "80.6%\r",
      "80.7%\r",
      "80.8%\r",
      "80.9%\r",
      "81.0%\r",
      "81.2%\r",
      "81.3%\r",
      "81.4%\r",
      "81.5%\r",
      "81.6%\r",
      "81.8%\r",
      "81.9%\r",
      "82.0%\r",
      "82.1%\r",
      "82.2%\r",
      "82.4%\r",
      "82.5%\r",
      "82.6%\r",
      "82.7%\r",
      "82.8%\r",
      "83.0%\r",
      "83.1%\r",
      "83.2%\r",
      "83.3%\r",
      "83.4%\r",
      "83.5%\r",
      "83.7%\r",
      "83.8%\r",
      "83.9%\r",
      "84.0%\r",
      "84.1%\r",
      "84.3%\r",
      "84.4%\r",
      "84.5%\r",
      "84.6%\r",
      "84.7%\r",
      "84.9%\r",
      "85.0%\r",
      "85.1%\r",
      "85.2%\r",
      "85.3%\r",
      "85.5%\r",
      "85.6%\r",
      "85.7%\r",
      "85.8%\r",
      "85.9%\r",
      "86.1%\r",
      "86.2%\r",
      "86.3%\r",
      "86.4%\r",
      "86.5%\r",
      "86.7%\r",
      "86.8%\r",
      "86.9%\r",
      "87.0%\r",
      "87.1%\r",
      "87.3%\r",
      "87.4%\r",
      "87.5%\r",
      "87.6%\r",
      "87.7%\r",
      "87.9%\r",
      "88.0%\r",
      "88.1%\r",
      "88.2%\r",
      "88.3%\r",
      "88.4%\r",
      "88.6%\r",
      "88.7%\r",
      "88.8%\r",
      "88.9%\r",
      "89.0%\r",
      "89.2%\r",
      "89.3%\r",
      "89.4%\r",
      "89.5%\r",
      "89.6%\r",
      "89.8%\r",
      "89.9%\r",
      "90.0%\r",
      "90.1%\r",
      "90.2%\r",
      "90.4%\r",
      "90.5%\r",
      "90.6%\r",
      "90.7%\r",
      "90.8%\r",
      "91.0%\r",
      "91.1%\r",
      "91.2%\r",
      "91.3%\r",
      "91.4%\r",
      "91.6%\r",
      "91.7%\r",
      "91.8%\r",
      "91.9%\r",
      "92.0%\r",
      "92.2%\r",
      "92.3%\r",
      "92.4%\r",
      "92.5%\r",
      "92.6%\r",
      "92.8%\r",
      "92.9%\r",
      "93.0%\r",
      "93.1%\r",
      "93.2%\r",
      "93.3%\r",
      "93.5%\r",
      "93.6%\r",
      "93.7%\r",
      "93.8%\r",
      "93.9%\r",
      "94.1%\r",
      "94.2%\r",
      "94.3%\r",
      "94.4%\r",
      "94.5%\r",
      "94.7%\r",
      "94.8%\r",
      "94.9%\r",
      "95.0%\r",
      "95.1%\r",
      "95.3%\r",
      "95.4%\r",
      "95.5%\r",
      "95.6%\r",
      "95.7%\r",
      "95.9%\r",
      "96.0%\r",
      "96.1%\r",
      "96.2%\r",
      "96.3%\r",
      "96.5%\r",
      "96.6%\r",
      "96.7%\r",
      "96.8%\r",
      "96.9%\r",
      "97.1%\r",
      "97.2%\r",
      "97.3%\r",
      "97.4%\r",
      "97.5%\r",
      "97.6%\r",
      "97.8%\r",
      "97.9%\r",
      "98.0%\r",
      "98.1%\r",
      "98.2%\r",
      "98.4%\r",
      "98.5%\r",
      "98.6%\r",
      "98.7%\r",
      "98.8%\r",
      "99.0%\r",
      "99.1%\r",
      "99.2%\r",
      "99.3%\r",
      "99.4%\r",
      "99.6%\r",
      "99.7%\r",
      "99.8%\r",
      "99.9%\r",
      "comparing sequences from       2581  to       5021\n",
      "...\n",
      "     5021  finished       4622  clusters\n",
      "\n",
      "Apprixmated maximum memory consumption: 721M\n",
      "writing new database\n",
      "writing clustering information\n",
      "program completed !\n",
      "\n",
      "Total CPU time 163.86\n"
     ]
    }
   ],
   "source": [
    "%%bash\n",
    "\n",
    "virus_family=\"Coronaviridae\"\n",
    "\n",
    "cd-hit-est \\\n",
    "    -i input_examples/$virus_family.curated.fasta \\\n",
    "    -o input_examples/$virus_family.curated.cdhit100.fasta \\\n",
    "    -n 10 -c 1.0 -d 0 "
   ]
  },
  {
   "cell_type": "markdown",
   "metadata": {},
   "source": [
    "## extract sequence accession number from fasta file"
   ]
  },
  {
   "cell_type": "code",
   "execution_count": 16,
   "metadata": {
    "ExecuteTime": {
     "end_time": "2024-04-10T10:06:20.433369Z",
     "start_time": "2024-04-10T10:06:19.391380Z"
    }
   },
   "outputs": [],
   "source": [
    "fasta_f = \"/\".join(map(str, [\"input_examples\", virus_family + \".curated.cdhit100.fasta\"]))\n",
    "\n",
    "acc_l = []\n",
    "for line in open(fasta_f):\n",
    "    acc = line.strip().replace(\">\",\"\").split(\" \")[0]\n",
    "    acc_l.append(acc)"
   ]
  },
  {
   "cell_type": "markdown",
   "metadata": {},
   "source": [
    "# read metadata obtained from the NCBI Virus Database"
   ]
  },
  {
   "cell_type": "code",
   "execution_count": 17,
   "metadata": {
    "ExecuteTime": {
     "end_time": "2024-04-10T10:06:20.840075Z",
     "start_time": "2024-04-10T10:06:20.434717Z"
    },
    "scrolled": true
   },
   "outputs": [
    {
     "data": {
      "text/html": [
       "<div>\n",
       "<style scoped>\n",
       "    .dataframe tbody tr th:only-of-type {\n",
       "        vertical-align: middle;\n",
       "    }\n",
       "\n",
       "    .dataframe tbody tr th {\n",
       "        vertical-align: top;\n",
       "    }\n",
       "\n",
       "    .dataframe thead th {\n",
       "        text-align: right;\n",
       "    }\n",
       "</style>\n",
       "<table border=\"1\" class=\"dataframe\">\n",
       "  <thead>\n",
       "    <tr style=\"text-align: right;\">\n",
       "      <th></th>\n",
       "      <th>Accession</th>\n",
       "      <th>Organism_Name</th>\n",
       "      <th>SRA_Accession</th>\n",
       "      <th>Submitters</th>\n",
       "      <th>Organization</th>\n",
       "      <th>Org_location</th>\n",
       "      <th>Release_Date</th>\n",
       "      <th>Isolate</th>\n",
       "      <th>Species</th>\n",
       "      <th>Genus</th>\n",
       "      <th>Family</th>\n",
       "      <th>Molecule_type</th>\n",
       "      <th>Length</th>\n",
       "      <th>Sequence_Type</th>\n",
       "      <th>Nuc_Completeness</th>\n",
       "      <th>Genotype</th>\n",
       "      <th>Segment</th>\n",
       "      <th>Publications</th>\n",
       "      <th>Geo_Location</th>\n",
       "      <th>Country</th>\n",
       "      <th>USA</th>\n",
       "      <th>Host</th>\n",
       "      <th>Isolation_Source</th>\n",
       "      <th>Collection_Date</th>\n",
       "      <th>BioSample</th>\n",
       "      <th>BioProject</th>\n",
       "      <th>GenBank_Title</th>\n",
       "    </tr>\n",
       "  </thead>\n",
       "  <tbody>\n",
       "    <tr>\n",
       "      <th>0</th>\n",
       "      <td>NC_054003</td>\n",
       "      <td>Alphacoronavirus sp.</td>\n",
       "      <td>NaN</td>\n",
       "      <td>O'Dea,M., Prada,D., Jackson,B., Boyd,V., Baker,M.</td>\n",
       "      <td>National Center for Biotechnology Information, NIH</td>\n",
       "      <td>USA</td>\n",
       "      <td>2023-05-04</td>\n",
       "      <td>WA1087</td>\n",
       "      <td>Alphacoronavirus sp.</td>\n",
       "      <td>Alphacoronavirus</td>\n",
       "      <td>Coronaviridae</td>\n",
       "      <td>ssRNA(+)</td>\n",
       "      <td>28170</td>\n",
       "      <td>RefSeq</td>\n",
       "      <td>complete</td>\n",
       "      <td>NaN</td>\n",
       "      <td>NaN</td>\n",
       "      <td>NaN</td>\n",
       "      <td>Australia</td>\n",
       "      <td>Australia</td>\n",
       "      <td>NaN</td>\n",
       "      <td>NaN</td>\n",
       "      <td>NaN</td>\n",
       "      <td>2018</td>\n",
       "      <td>NaN</td>\n",
       "      <td>PRJNA485481</td>\n",
       "      <td>Alphacoronavirus sp. isolate WA1087, complete genome</td>\n",
       "    </tr>\n",
       "    <tr>\n",
       "      <th>1</th>\n",
       "      <td>NC_054004</td>\n",
       "      <td>Hipposideros pomona bat coronavirus CHB25</td>\n",
       "      <td>NaN</td>\n",
       "      <td>Li,B., Si,H.R., Zhu,Y., Yang,X.L., Anderson,D.E., Shi,Z.L., Wang,L.F., Zhou,P.</td>\n",
       "      <td>National Center for Biotechnology Information, NIH</td>\n",
       "      <td>USA</td>\n",
       "      <td>2023-05-04</td>\n",
       "      <td>CHB0025</td>\n",
       "      <td>Alphacoronavirus CHB25</td>\n",
       "      <td>Alphacoronavirus</td>\n",
       "      <td>Coronaviridae</td>\n",
       "      <td>ssRNA(+)</td>\n",
       "      <td>28169</td>\n",
       "      <td>RefSeq</td>\n",
       "      <td>complete</td>\n",
       "      <td>NaN</td>\n",
       "      <td>NaN</td>\n",
       "      <td>1.0</td>\n",
       "      <td>China</td>\n",
       "      <td>China</td>\n",
       "      <td>NaN</td>\n",
       "      <td>Hipposideros larvatus</td>\n",
       "      <td>NaN</td>\n",
       "      <td>2018-03</td>\n",
       "      <td>NaN</td>\n",
       "      <td>PRJNA485481</td>\n",
       "      <td>Hipposideros pomona bat coronavirus CHB25 isolate CHB0025, complete genome</td>\n",
       "    </tr>\n",
       "    <tr>\n",
       "      <th>2</th>\n",
       "      <td>NC_054015</td>\n",
       "      <td>Tylonycteris bat coronavirus HKU33</td>\n",
       "      <td>NaN</td>\n",
       "      <td>Lau,S.K.P., Wong,A.C.P., Zhang,L., Luk,H.K.H., Kwok,J.S.L., Ahmed,S.S., Cai,J.P., Zhao,P.S.H., Teng,J.L.L., Tsui,S.K.W., Yuen,K.Y., Woo,P.C.Y., Li,K.S.M., Cai,J.-P.</td>\n",
       "      <td>National Center for Biotechnology Information, NIH</td>\n",
       "      <td>USA</td>\n",
       "      <td>2023-05-04</td>\n",
       "      <td>NaN</td>\n",
       "      <td>Alphacoronavirus HKU33</td>\n",
       "      <td>Alphacoronavirus</td>\n",
       "      <td>Coronaviridae</td>\n",
       "      <td>ssRNA(+)</td>\n",
       "      <td>27636</td>\n",
       "      <td>RefSeq</td>\n",
       "      <td>complete</td>\n",
       "      <td>NaN</td>\n",
       "      <td>NaN</td>\n",
       "      <td>1.0</td>\n",
       "      <td>China</td>\n",
       "      <td>China</td>\n",
       "      <td>NaN</td>\n",
       "      <td>Tylonycteris robustula</td>\n",
       "      <td>feces</td>\n",
       "      <td>2015-09-09</td>\n",
       "      <td>NaN</td>\n",
       "      <td>PRJNA485481</td>\n",
       "      <td>Tylonycteris bat coronavirus HKU33 strain GZ151867, complete genome</td>\n",
       "    </tr>\n",
       "  </tbody>\n",
       "</table>\n",
       "</div>"
      ],
      "text/plain": [
       "   Accession                              Organism_Name SRA_Accession  \\\n",
       "0  NC_054003                       Alphacoronavirus sp.           NaN   \n",
       "1  NC_054004  Hipposideros pomona bat coronavirus CHB25           NaN   \n",
       "2  NC_054015         Tylonycteris bat coronavirus HKU33           NaN   \n",
       "\n",
       "                                                                                                                                                             Submitters  \\\n",
       "0                                                                                                                     O'Dea,M., Prada,D., Jackson,B., Boyd,V., Baker,M.   \n",
       "1                                                                                        Li,B., Si,H.R., Zhu,Y., Yang,X.L., Anderson,D.E., Shi,Z.L., Wang,L.F., Zhou,P.   \n",
       "2  Lau,S.K.P., Wong,A.C.P., Zhang,L., Luk,H.K.H., Kwok,J.S.L., Ahmed,S.S., Cai,J.P., Zhao,P.S.H., Teng,J.L.L., Tsui,S.K.W., Yuen,K.Y., Woo,P.C.Y., Li,K.S.M., Cai,J.-P.   \n",
       "\n",
       "                                         Organization Org_location  \\\n",
       "0  National Center for Biotechnology Information, NIH          USA   \n",
       "1  National Center for Biotechnology Information, NIH          USA   \n",
       "2  National Center for Biotechnology Information, NIH          USA   \n",
       "\n",
       "  Release_Date  Isolate                 Species             Genus  \\\n",
       "0   2023-05-04   WA1087    Alphacoronavirus sp.  Alphacoronavirus   \n",
       "1   2023-05-04  CHB0025  Alphacoronavirus CHB25  Alphacoronavirus   \n",
       "2   2023-05-04      NaN  Alphacoronavirus HKU33  Alphacoronavirus   \n",
       "\n",
       "          Family Molecule_type  Length Sequence_Type Nuc_Completeness  \\\n",
       "0  Coronaviridae      ssRNA(+)   28170        RefSeq         complete   \n",
       "1  Coronaviridae      ssRNA(+)   28169        RefSeq         complete   \n",
       "2  Coronaviridae      ssRNA(+)   27636        RefSeq         complete   \n",
       "\n",
       "  Genotype Segment  Publications Geo_Location    Country  USA  \\\n",
       "0      NaN     NaN           NaN    Australia  Australia  NaN   \n",
       "1      NaN     NaN           1.0        China      China  NaN   \n",
       "2      NaN     NaN           1.0        China      China  NaN   \n",
       "\n",
       "                     Host Isolation_Source Collection_Date BioSample  \\\n",
       "0                     NaN              NaN            2018       NaN   \n",
       "1   Hipposideros larvatus              NaN         2018-03       NaN   \n",
       "2  Tylonycteris robustula            feces      2015-09-09       NaN   \n",
       "\n",
       "    BioProject  \\\n",
       "0  PRJNA485481   \n",
       "1  PRJNA485481   \n",
       "2  PRJNA485481   \n",
       "\n",
       "                                                                GenBank_Title  \n",
       "0                        Alphacoronavirus sp. isolate WA1087, complete genome  \n",
       "1  Hipposideros pomona bat coronavirus CHB25 isolate CHB0025, complete genome  \n",
       "2         Tylonycteris bat coronavirus HKU33 strain GZ151867, complete genome  "
      ]
     },
     "execution_count": 17,
     "metadata": {},
     "output_type": "execute_result"
    }
   ],
   "source": [
    "##\n",
    "info_f = \"/\".join(map(str, [\"input_examples\", virus_family + \".csv\"]))\n",
    "\n",
    "df_info = pd.read_csv(info_f)\n",
    "df_info.head(3)"
   ]
  },
  {
   "cell_type": "markdown",
   "metadata": {},
   "source": [
    "## extract metadata of representative sequences"
   ]
  },
  {
   "cell_type": "code",
   "execution_count": 18,
   "metadata": {
    "ExecuteTime": {
     "end_time": "2024-04-10T10:06:21.322956Z",
     "start_time": "2024-04-10T10:06:20.842121Z"
    }
   },
   "outputs": [],
   "source": [
    "df_info[\"Accession\"] = [acc.split(\".\")[0] for acc in df_info[\"Accession\"]]\n",
    "df_info_1 = df_info[df_info[\"Accession\"].isin(acc_l)]"
   ]
  },
  {
   "cell_type": "markdown",
   "metadata": {},
   "source": [
    "# Basic information"
   ]
  },
  {
   "cell_type": "markdown",
   "metadata": {
    "ExecuteTime": {
     "end_time": "2023-03-23T07:27:46.548688Z",
     "start_time": "2023-03-23T07:27:46.548680Z"
    },
    "scrolled": true
   },
   "source": [
    "## add host label"
   ]
  },
  {
   "cell_type": "code",
   "execution_count": 19,
   "metadata": {
    "ExecuteTime": {
     "end_time": "2024-04-10T10:06:21.333185Z",
     "start_time": "2024-04-10T10:06:21.323953Z"
    },
    "run_control": {
     "marked": true
    }
   },
   "outputs": [
    {
     "name": "stderr",
     "output_type": "stream",
     "text": [
      "/var/folders/ty/4bj553gd6mddwlrt75bs49yh0000gp/T/ipykernel_33910/2824978801.py:1: SettingWithCopyWarning: \n",
      "A value is trying to be set on a copy of a slice from a DataFrame.\n",
      "Try using .loc[row_indexer,col_indexer] = value instead\n",
      "\n",
      "See the caveats in the documentation: https://pandas.pydata.org/pandas-docs/stable/user_guide/indexing.html#returning-a-view-versus-a-copy\n",
      "  df_info_1[\"host_label\"] = 0\n",
      "/var/folders/ty/4bj553gd6mddwlrt75bs49yh0000gp/T/ipykernel_33910/2824978801.py:2: SettingWithCopyWarning: \n",
      "A value is trying to be set on a copy of a slice from a DataFrame.\n",
      "Try using .loc[row_indexer,col_indexer] = value instead\n",
      "\n",
      "See the caveats in the documentation: https://pandas.pydata.org/pandas-docs/stable/user_guide/indexing.html#returning-a-view-versus-a-copy\n",
      "  df_info_1[\"Host\"] = df_info_1[\"Host\"].fillna(\"NA\")\n",
      "/Users/junna/anaconda3/envs/env_210819/lib/python3.9/site-packages/pandas/core/indexing.py:1817: SettingWithCopyWarning: \n",
      "A value is trying to be set on a copy of a slice from a DataFrame.\n",
      "Try using .loc[row_indexer,col_indexer] = value instead\n",
      "\n",
      "See the caveats in the documentation: https://pandas.pydata.org/pandas-docs/stable/user_guide/indexing.html#returning-a-view-versus-a-copy\n",
      "  self._setitem_single_column(loc, value, pi)\n"
     ]
    }
   ],
   "source": [
    "df_info_1[\"host_label\"] = 0\n",
    "df_info_1[\"Host\"] = df_info_1[\"Host\"].fillna(\"NA\")\n",
    "df_info_1.loc[df_info_1[\"Host\"].str.contains(\"Homo\"), \"host_label\"] = 1\n",
    "df_info_1.loc[df_info_1[\"Host\"].str.lower() == \"human\", \"host_label\"] =1"
   ]
  },
  {
   "cell_type": "markdown",
   "metadata": {
    "run_control": {
     "marked": true
    }
   },
   "source": [
    "## add virus_ID"
   ]
  },
  {
   "cell_type": "code",
   "execution_count": 20,
   "metadata": {
    "ExecuteTime": {
     "end_time": "2024-04-10T10:06:21.337966Z",
     "start_time": "2024-04-10T10:06:21.334278Z"
    },
    "scrolled": true
   },
   "outputs": [
    {
     "name": "stderr",
     "output_type": "stream",
     "text": [
      "/var/folders/ty/4bj553gd6mddwlrt75bs49yh0000gp/T/ipykernel_33910/3789456809.py:1: SettingWithCopyWarning: \n",
      "A value is trying to be set on a copy of a slice from a DataFrame.\n",
      "Try using .loc[row_indexer,col_indexer] = value instead\n",
      "\n",
      "See the caveats in the documentation: https://pandas.pydata.org/pandas-docs/stable/user_guide/indexing.html#returning-a-view-versus-a-copy\n",
      "  df_info_1[\"virus_ID\"] = df_info_1[\"Accession\"].copy()\n"
     ]
    }
   ],
   "source": [
    "df_info_1[\"virus_ID\"] = df_info_1[\"Accession\"].copy()"
   ]
  },
  {
   "cell_type": "markdown",
   "metadata": {},
   "source": [
    "## check sequence lengths"
   ]
  },
  {
   "cell_type": "code",
   "execution_count": 21,
   "metadata": {
    "ExecuteTime": {
     "end_time": "2024-04-10T10:06:21.858444Z",
     "start_time": "2024-04-10T10:06:21.339050Z"
    }
   },
   "outputs": [
    {
     "data": {
      "text/plain": [
       "<Axes: xlabel='Length', ylabel='Count'>"
      ]
     },
     "execution_count": 21,
     "metadata": {},
     "output_type": "execute_result"
    },
    {
     "data": {
      "image/png": "[encoded data removed]",
      "text/plain": [
       "<Figure size 640x480 with 1 Axes>"
      ]
     },
     "metadata": {},
     "output_type": "display_data"
    }
   ],
   "source": [
    "sns.histplot(data=df_info_1, x=\"Length\", hue=\"host_label\", multiple=\"stack\")"
   ]
  },
  {
   "cell_type": "code",
   "execution_count": 22,
   "metadata": {
    "ExecuteTime": {
     "end_time": "2024-04-10T10:06:21.867179Z",
     "start_time": "2024-04-10T10:06:21.859907Z"
    }
   },
   "outputs": [],
   "source": [
    "df_info_2 = df_info_1[df_info_1[\"Nuc_Completeness\"] == \"complete\"]"
   ]
  },
  {
   "cell_type": "markdown",
   "metadata": {},
   "source": [
    "## collection date of viral data"
   ]
  },
  {
   "cell_type": "code",
   "execution_count": 23,
   "metadata": {
    "ExecuteTime": {
     "end_time": "2024-04-10T10:06:22.321567Z",
     "start_time": "2024-04-10T10:06:21.868899Z"
    }
   },
   "outputs": [
    {
     "data": {
      "text/plain": [
       "<Axes: xlabel='collection_year', ylabel='Count'>"
      ]
     },
     "execution_count": 23,
     "metadata": {},
     "output_type": "execute_result"
    },
    {
     "data": {
      "image/png": "[encoded data removed]",
      "text/plain": [
       "<Figure size 640x480 with 1 Axes>"
      ]
     },
     "metadata": {},
     "output_type": "display_data"
    }
   ],
   "source": [
    "import datetime\n",
    "def extract_year(c_date, r_date):\n",
    "    if re.fullmatch(r'[0-9]{4}', date):\n",
    "        year = date\n",
    "    elif \"-\" in str(date):\n",
    "        year = date.split(\"-\")[0]\n",
    "    else:\n",
    "        pass\n",
    "    return (year)\n",
    "        \n",
    "df_info_2 = df_info_2.astype({\"Collection_Date\":str})\n",
    "df_info_2[\"collection_year\"] = pd.to_datetime(df_info_2[\"Collection_Date\"], utc=True).dt.year\n",
    "df_info_2.loc[df_info_2[\"collection_year\"].isnull(), \n",
    "                  \"collection_year\"] = pd.to_datetime(df_info_2[\"Release_Date\"], utc=True).dt.year\n",
    "\n",
    "sns.histplot(data=df_info_2, x=\"collection_year\", hue=\"host_label\", multiple=\"stack\")"
   ]
  },
  {
   "cell_type": "markdown",
   "metadata": {},
   "source": [
    "# Divided data into the Past and Future Viral Datasets"
   ]
  },
  {
   "cell_type": "code",
   "execution_count": 24,
   "metadata": {
    "ExecuteTime": {
     "end_time": "2024-04-10T10:06:22.327426Z",
     "start_time": "2024-04-10T10:06:22.324212Z"
    }
   },
   "outputs": [],
   "source": [
    "df_info_2[\"dataset\"] = \"known\"\n",
    "df_info_2.loc[df_info_2[\"collection_year\"] >= 2018, \"dataset\"] = \"unknown\""
   ]
  },
  {
   "cell_type": "code",
   "execution_count": 25,
   "metadata": {
    "ExecuteTime": {
     "end_time": "2024-04-10T10:06:22.338308Z",
     "start_time": "2024-04-10T10:06:22.328627Z"
    }
   },
   "outputs": [
    {
     "data": {
      "text/html": [
       "<div>\n",
       "<style scoped>\n",
       "    .dataframe tbody tr th:only-of-type {\n",
       "        vertical-align: middle;\n",
       "    }\n",
       "\n",
       "    .dataframe tbody tr th {\n",
       "        vertical-align: top;\n",
       "    }\n",
       "\n",
       "    .dataframe thead th {\n",
       "        text-align: right;\n",
       "    }\n",
       "</style>\n",
       "<table border=\"1\" class=\"dataframe\">\n",
       "  <thead>\n",
       "    <tr style=\"text-align: right;\">\n",
       "      <th></th>\n",
       "      <th></th>\n",
       "      <th>seq_no</th>\n",
       "    </tr>\n",
       "    <tr>\n",
       "      <th>dataset</th>\n",
       "      <th>host_label</th>\n",
       "      <th></th>\n",
       "    </tr>\n",
       "  </thead>\n",
       "  <tbody>\n",
       "    <tr>\n",
       "      <th rowspan=\"2\" valign=\"top\">known</th>\n",
       "      <th>0</th>\n",
       "      <td>2750</td>\n",
       "    </tr>\n",
       "    <tr>\n",
       "      <th>1</th>\n",
       "      <td>583</td>\n",
       "    </tr>\n",
       "    <tr>\n",
       "      <th rowspan=\"2\" valign=\"top\">unknown</th>\n",
       "      <th>0</th>\n",
       "      <td>1057</td>\n",
       "    </tr>\n",
       "    <tr>\n",
       "      <th>1</th>\n",
       "      <td>231</td>\n",
       "    </tr>\n",
       "  </tbody>\n",
       "</table>\n",
       "</div>"
      ],
      "text/plain": [
       "                    seq_no\n",
       "dataset host_label        \n",
       "known   0             2750\n",
       "        1              583\n",
       "unknown 0             1057\n",
       "        1              231"
      ]
     },
     "execution_count": 25,
     "metadata": {},
     "output_type": "execute_result"
    }
   ],
   "source": [
    "df_info_2.groupby([\"dataset\", \"host_label\"]).agg(seq_no=(\"virus_ID\", \"nunique\"))"
   ]
  },
  {
   "cell_type": "markdown",
   "metadata": {},
   "source": [
    "# output"
   ]
  },
  {
   "cell_type": "code",
   "execution_count": 26,
   "metadata": {
    "ExecuteTime": {
     "end_time": "2024-04-10T10:06:22.449984Z",
     "start_time": "2024-04-10T10:06:22.339890Z"
    }
   },
   "outputs": [],
   "source": [
    "output_f = \"/\".join(map(str, [\"output_examples\", virus_family + \".curated.csv\"]))\n",
    "\n",
    "df_info_2.to_csv(output_f, sep=\"\\t\", index=False)"
   ]
  },
  {
   "cell_type": "code",
   "execution_count": null,
   "metadata": {},
   "outputs": [],
   "source": []
  },
  {
   "cell_type": "code",
   "execution_count": null,
   "metadata": {},
   "outputs": [],
   "source": []
  }
 ],
 "metadata": {
  "kernelspec": {
   "display_name": "env_210819",
   "language": "python",
   "name": "env_210819"
  },
  "language_info": {
   "codemirror_mode": {
    "name": "ipython",
    "version": 3
   },
   "file_extension": ".py",
   "mimetype": "text/x-python",
   "name": "python",
   "nbconvert_exporter": "python",
   "pygments_lexer": "ipython3",
   "version": "3.9.18"
  },
  "toc": {
   "base_numbering": 1,
   "nav_menu": {},
   "number_sections": true,
   "sideBar": true,
   "skip_h1_title": false,
   "title_cell": "Table of Contents",
   "title_sidebar": "Contents",
   "toc_cell": true,
   "toc_position": {},
   "toc_section_display": true,
   "toc_window_display": true
  }
 },
 "nbformat": 4,
 "nbformat_minor": 4
}
