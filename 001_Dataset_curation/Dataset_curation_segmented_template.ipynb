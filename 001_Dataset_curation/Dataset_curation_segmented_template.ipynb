{
 "cells": [
  {
   "cell_type": "markdown",
   "metadata": {
    "toc": true
   },
   "source": [
    "<h1>Table of Contents<span class=\"tocSkip\"></span></h1>\n",
    "<div class=\"toc\"><ul class=\"toc-item\"><li><span><a href=\"#Input\" data-toc-modified-id=\"Input-1\"><span class=\"toc-item-num\">1&nbsp;&nbsp;</span>Input</a></span></li><li><span><a href=\"#read-metadata-obtained-from-the-NCBI-Virus-Database\" data-toc-modified-id=\"read-metadata-obtained-from-the-NCBI-Virus-Database-2\"><span class=\"toc-item-num\">2&nbsp;&nbsp;</span>read metadata obtained from the NCBI Virus Database</a></span></li><li><span><a href=\"#Basic-information\" data-toc-modified-id=\"Basic-information-3\"><span class=\"toc-item-num\">3&nbsp;&nbsp;</span>Basic information</a></span><ul class=\"toc-item\"><li><span><a href=\"#add-host-label\" data-toc-modified-id=\"add-host-label-3.1\"><span class=\"toc-item-num\">3.1&nbsp;&nbsp;</span>add host label</a></span></li><li><span><a href=\"#add-virus_ID\" data-toc-modified-id=\"add-virus_ID-3.2\"><span class=\"toc-item-num\">3.2&nbsp;&nbsp;</span>add virus_ID</a></span></li><li><span><a href=\"#randomly-sampling-two-sequences-for-each-segment\" data-toc-modified-id=\"randomly-sampling-two-sequences-for-each-segment-3.3\"><span class=\"toc-item-num\">3.3&nbsp;&nbsp;</span>randomly sampling two sequences for each segment</a></span></li><li><span><a href=\"#check-no.-of-segment-sequences-for-each-virus-strain\" data-toc-modified-id=\"check-no.-of-segment-sequences-for-each-virus-strain-3.4\"><span class=\"toc-item-num\">3.4&nbsp;&nbsp;</span>check no. of segment sequences for each virus strain</a></span></li><li><span><a href=\"#check-sequence-lengths\" data-toc-modified-id=\"check-sequence-lengths-3.5\"><span class=\"toc-item-num\">3.5&nbsp;&nbsp;</span>check sequence lengths</a></span></li><li><span><a href=\"#extract->500-bp-sequences\" data-toc-modified-id=\"extract->500-bp-sequences-3.6\"><span class=\"toc-item-num\">3.6&nbsp;&nbsp;</span>extract &gt;500-bp sequences</a></span></li><li><span><a href=\"#collection-date-of-viral-data\" data-toc-modified-id=\"collection-date-of-viral-data-3.7\"><span class=\"toc-item-num\">3.7&nbsp;&nbsp;</span>collection date of viral data</a></span></li></ul></li><li><span><a href=\"#Divided-data-into-the-Past-and-Future-Viral-Datasets\" data-toc-modified-id=\"Divided-data-into-the-Past-and-Future-Viral-Datasets-4\"><span class=\"toc-item-num\">4&nbsp;&nbsp;</span>Divided data into the Past and Future Viral Datasets</a></span></li><li><span><a href=\"#output\" data-toc-modified-id=\"output-5\"><span class=\"toc-item-num\">5&nbsp;&nbsp;</span>output</a></span></li></ul></div>"
   ]
  },
  {
   "cell_type": "code",
   "execution_count": 3,
   "metadata": {
    "ExecuteTime": {
     "end_time": "2024-04-10T09:43:05.515231Z",
     "start_time": "2024-04-10T09:43:04.138542Z"
    }
   },
   "outputs": [],
   "source": [
    "#!/usr/bin/env python\n",
    "import sys, re\n",
    "argvs = sys.argv\n",
    "sys.setrecursionlimit(10000000)\n",
    "\n",
    "import os\n",
    "import collections\n",
    "import numpy as np\n",
    "import pandas as pd\n",
    "import array\n",
    "pd.set_option(\"display.max_colwidth\", 200)\n",
    "pd.set_option(\"display.max_columns\", 200)\n",
    "pd.set_option(\"display.max_rows\", 300)\n",
    "\n",
    "import glob\n",
    "\n",
    "## visualize\n",
    "import matplotlib\n",
    "import matplotlib.pyplot as plt\n",
    "import seaborn as sns\n",
    "sns.set()\n",
    "\n",
    "plt.rcParams['font.family'] = \"Arial\""
   ]
  },
  {
   "cell_type": "markdown",
   "metadata": {},
   "source": [
    "# Input"
   ]
  },
  {
   "cell_type": "code",
   "execution_count": 4,
   "metadata": {
    "ExecuteTime": {
     "end_time": "2024-04-10T09:43:05.519405Z",
     "start_time": "2024-04-10T09:43:05.517089Z"
    }
   },
   "outputs": [],
   "source": [
    "virus_family=\"Hantaviridae\"\n",
    "segment_no = 0"
   ]
  },
  {
   "cell_type": "markdown",
   "metadata": {},
   "source": [
    "# read metadata obtained from the NCBI Virus Database"
   ]
  },
  {
   "cell_type": "code",
   "execution_count": 7,
   "metadata": {
    "ExecuteTime": {
     "end_time": "2024-04-10T09:43:58.413997Z",
     "start_time": "2024-04-10T09:43:58.304440Z"
    },
    "scrolled": true
   },
   "outputs": [
    {
     "data": {
      "text/html": [
       "<div>\n",
       "<style scoped>\n",
       "    .dataframe tbody tr th:only-of-type {\n",
       "        vertical-align: middle;\n",
       "    }\n",
       "\n",
       "    .dataframe tbody tr th {\n",
       "        vertical-align: top;\n",
       "    }\n",
       "\n",
       "    .dataframe thead th {\n",
       "        text-align: right;\n",
       "    }\n",
       "</style>\n",
       "<table border=\"1\" class=\"dataframe\">\n",
       "  <thead>\n",
       "    <tr style=\"text-align: right;\">\n",
       "      <th></th>\n",
       "      <th>Accession</th>\n",
       "      <th>Organism_Name</th>\n",
       "      <th>SRA_Accession</th>\n",
       "      <th>Submitters</th>\n",
       "      <th>Organization</th>\n",
       "      <th>Org_location</th>\n",
       "      <th>Release_Date</th>\n",
       "      <th>Isolate</th>\n",
       "      <th>Species</th>\n",
       "      <th>Genus</th>\n",
       "      <th>Family</th>\n",
       "      <th>Molecule_type</th>\n",
       "      <th>Length</th>\n",
       "      <th>Sequence_Type</th>\n",
       "      <th>Nuc_Completeness</th>\n",
       "      <th>Genotype</th>\n",
       "      <th>Segment</th>\n",
       "      <th>Publications</th>\n",
       "      <th>Geo_Location</th>\n",
       "      <th>Country</th>\n",
       "      <th>USA</th>\n",
       "      <th>Host</th>\n",
       "      <th>Isolation_Source</th>\n",
       "      <th>Collection_Date</th>\n",
       "      <th>BioSample</th>\n",
       "      <th>GenBank_Title</th>\n",
       "    </tr>\n",
       "  </thead>\n",
       "  <tbody>\n",
       "    <tr>\n",
       "      <th>0</th>\n",
       "      <td>NC_077666.1</td>\n",
       "      <td>Puumala orthohantavirus</td>\n",
       "      <td>NaN</td>\n",
       "      <td>Giebel,L.B., Stohwasser,R., Zoller,L., Bautz,E.K., Darai,G.</td>\n",
       "      <td>National Center for Biotechnology Information, NIH</td>\n",
       "      <td>USA</td>\n",
       "      <td>2023-05-06T00:00:00Z</td>\n",
       "      <td>NaN</td>\n",
       "      <td>Puumala orthohantavirus</td>\n",
       "      <td>Orthohantavirus</td>\n",
       "      <td>Hantaviridae</td>\n",
       "      <td>ssRNA(-)</td>\n",
       "      <td>3682</td>\n",
       "      <td>RefSeq</td>\n",
       "      <td>complete</td>\n",
       "      <td>NaN</td>\n",
       "      <td>NaN</td>\n",
       "      <td>1.0</td>\n",
       "      <td>NaN</td>\n",
       "      <td>NaN</td>\n",
       "      <td>NaN</td>\n",
       "      <td>NaN</td>\n",
       "      <td>NaN</td>\n",
       "      <td>NaN</td>\n",
       "      <td>NaN</td>\n",
       "      <td>Puumala virus CG1820 virus M genome segment, complete cds</td>\n",
       "    </tr>\n",
       "    <tr>\n",
       "      <th>1</th>\n",
       "      <td>NC_077667.1</td>\n",
       "      <td>Puumala orthohantavirus</td>\n",
       "      <td>NaN</td>\n",
       "      <td>Stohwasser,R., Raab,K., Darai,G., Bautz,E.K.</td>\n",
       "      <td>National Center for Biotechnology Information, NIH</td>\n",
       "      <td>USA</td>\n",
       "      <td>2023-05-06T00:00:00Z</td>\n",
       "      <td>NaN</td>\n",
       "      <td>Puumala orthohantavirus</td>\n",
       "      <td>Orthohantavirus</td>\n",
       "      <td>Hantaviridae</td>\n",
       "      <td>ssRNA(-)</td>\n",
       "      <td>6550</td>\n",
       "      <td>RefSeq</td>\n",
       "      <td>complete</td>\n",
       "      <td>NaN</td>\n",
       "      <td>NaN</td>\n",
       "      <td>1.0</td>\n",
       "      <td>NaN</td>\n",
       "      <td>NaN</td>\n",
       "      <td>NaN</td>\n",
       "      <td>NaN</td>\n",
       "      <td>NaN</td>\n",
       "      <td>NaN</td>\n",
       "      <td>NaN</td>\n",
       "      <td>Puumala virus CG1820 RNA-dependent RNA polymerase gene in L RNA segment</td>\n",
       "    </tr>\n",
       "    <tr>\n",
       "      <th>2</th>\n",
       "      <td>NC_077668.1</td>\n",
       "      <td>Puumala orthohantavirus</td>\n",
       "      <td>NaN</td>\n",
       "      <td>Stohwasser,R., Giebel,L.B., Zoller,L., Bautz,E.K., Darai,G.</td>\n",
       "      <td>National Center for Biotechnology Information, NIH</td>\n",
       "      <td>USA</td>\n",
       "      <td>2023-05-06T00:00:00Z</td>\n",
       "      <td>NaN</td>\n",
       "      <td>Puumala orthohantavirus</td>\n",
       "      <td>Orthohantavirus</td>\n",
       "      <td>Hantaviridae</td>\n",
       "      <td>ssRNA(-)</td>\n",
       "      <td>1784</td>\n",
       "      <td>RefSeq</td>\n",
       "      <td>complete</td>\n",
       "      <td>NaN</td>\n",
       "      <td>NaN</td>\n",
       "      <td>1.0</td>\n",
       "      <td>NaN</td>\n",
       "      <td>NaN</td>\n",
       "      <td>NaN</td>\n",
       "      <td>NaN</td>\n",
       "      <td>NaN</td>\n",
       "      <td>NaN</td>\n",
       "      <td>NaN</td>\n",
       "      <td>Puumala virus CG1820 segment S nucleocapsid protein mRNA, 5' end</td>\n",
       "    </tr>\n",
       "  </tbody>\n",
       "</table>\n",
       "</div>"
      ],
      "text/plain": [
       "     Accession            Organism_Name SRA_Accession  \\\n",
       "0  NC_077666.1  Puumala orthohantavirus           NaN   \n",
       "1  NC_077667.1  Puumala orthohantavirus           NaN   \n",
       "2  NC_077668.1  Puumala orthohantavirus           NaN   \n",
       "\n",
       "                                                    Submitters  \\\n",
       "0  Giebel,L.B., Stohwasser,R., Zoller,L., Bautz,E.K., Darai,G.   \n",
       "1                 Stohwasser,R., Raab,K., Darai,G., Bautz,E.K.   \n",
       "2  Stohwasser,R., Giebel,L.B., Zoller,L., Bautz,E.K., Darai,G.   \n",
       "\n",
       "                                         Organization Org_location  \\\n",
       "0  National Center for Biotechnology Information, NIH          USA   \n",
       "1  National Center for Biotechnology Information, NIH          USA   \n",
       "2  National Center for Biotechnology Information, NIH          USA   \n",
       "\n",
       "           Release_Date Isolate                  Species            Genus  \\\n",
       "0  2023-05-06T00:00:00Z     NaN  Puumala orthohantavirus  Orthohantavirus   \n",
       "1  2023-05-06T00:00:00Z     NaN  Puumala orthohantavirus  Orthohantavirus   \n",
       "2  2023-05-06T00:00:00Z     NaN  Puumala orthohantavirus  Orthohantavirus   \n",
       "\n",
       "         Family Molecule_type  Length Sequence_Type Nuc_Completeness Genotype  \\\n",
       "0  Hantaviridae      ssRNA(-)    3682        RefSeq         complete      NaN   \n",
       "1  Hantaviridae      ssRNA(-)    6550        RefSeq         complete      NaN   \n",
       "2  Hantaviridae      ssRNA(-)    1784        RefSeq         complete      NaN   \n",
       "\n",
       "  Segment  Publications Geo_Location Country  USA Host Isolation_Source  \\\n",
       "0     NaN           1.0          NaN     NaN  NaN  NaN              NaN   \n",
       "1     NaN           1.0          NaN     NaN  NaN  NaN              NaN   \n",
       "2     NaN           1.0          NaN     NaN  NaN  NaN              NaN   \n",
       "\n",
       "  Collection_Date BioSample  \\\n",
       "0             NaN       NaN   \n",
       "1             NaN       NaN   \n",
       "2             NaN       NaN   \n",
       "\n",
       "                                                             GenBank_Title  \n",
       "0                Puumala virus CG1820 virus M genome segment, complete cds  \n",
       "1  Puumala virus CG1820 RNA-dependent RNA polymerase gene in L RNA segment  \n",
       "2         Puumala virus CG1820 segment S nucleocapsid protein mRNA, 5' end  "
      ]
     },
     "execution_count": 7,
     "metadata": {},
     "output_type": "execute_result"
    }
   ],
   "source": [
    "##\n",
    "info_f = \"/\".join(map(str, [\"input_examples\", virus_family + \".csv\"]))\n",
    "\n",
    "df_info = pd.read_csv(info_f)\n",
    "df_info.head(3)"
   ]
  },
  {
   "cell_type": "markdown",
   "metadata": {},
   "source": [
    "# Basic information"
   ]
  },
  {
   "cell_type": "markdown",
   "metadata": {
    "ExecuteTime": {
     "end_time": "2023-03-23T07:27:46.548688Z",
     "start_time": "2023-03-23T07:27:46.548680Z"
    },
    "scrolled": true
   },
   "source": [
    "## add host label"
   ]
  },
  {
   "cell_type": "code",
   "execution_count": 9,
   "metadata": {
    "ExecuteTime": {
     "end_time": "2024-04-10T09:45:05.084921Z",
     "start_time": "2024-04-10T09:45:05.056109Z"
    },
    "run_control": {
     "marked": true
    }
   },
   "outputs": [],
   "source": [
    "df_info[\"host_label\"] = 0\n",
    "df_info[\"Host\"] = df_info[\"Host\"].fillna(\"NA\")\n",
    "df_info.loc[df_info[\"Host\"].str.contains(\"Homo\"), \"host_label\"] = 1\n",
    "df_info.loc[df_info[\"Host\"].str.lower() == \"human\", \"host_label\"] =1"
   ]
  },
  {
   "cell_type": "markdown",
   "metadata": {},
   "source": [
    "## add virus_ID"
   ]
  },
  {
   "cell_type": "code",
   "execution_count": 12,
   "metadata": {
    "ExecuteTime": {
     "end_time": "2024-04-10T09:46:58.716173Z",
     "start_time": "2024-04-10T09:46:58.637387Z"
    }
   },
   "outputs": [
    {
     "name": "stdout",
     "output_type": "stream",
     "text": [
      "22\n",
      "['Publications', 'Organization', 'Family', 'Collection_Date', 'Org_location', 'Country', 'USA', 'Species', 'Geo_Location', 'Isolation_Source', 'Submitters', 'SRA_Accession', 'Genus', 'Genotype', 'Release_Date', 'host_label', 'Isolate', 'Sequence_Type', 'Organism_Name', 'Nuc_Completeness', 'BioSample', 'Molecule_type']\n"
     ]
    }
   ],
   "source": [
    "uniq_col_l = [\"Accession\", \"Length\", \"GenBank_Title\", \"Host\", \"Segment\"]\n",
    "metadata_col_l = list(set(df_info.columns.tolist()) - set(uniq_col_l))\n",
    "\n",
    "print (len(metadata_col_l))\n",
    "print (metadata_col_l)\n",
    "\n",
    "col_l = metadata_col_l + [\"Accession\", \"Segment\"]\n",
    "\n",
    "df_info_1 = df_info.loc[:, col_l]\n",
    "df_info_g = df_info_1.groupby(metadata_col_l, as_index=False, dropna=False).agg(\n",
    "    count=(\"Accession\", \"size\"), segment=(\"Segment\", \"nunique\"))\n",
    "\n",
    "df_info_g[\"virus_ID\"] = [\";\".join(map(str, [virus_family, i])) for i in df_info_g.index.tolist()]"
   ]
  },
  {
   "attachments": {},
   "cell_type": "markdown",
   "metadata": {},
   "source": [
    "## randomly sampling two sequences for each segment"
   ]
  },
  {
   "cell_type": "code",
   "execution_count": 15,
   "metadata": {
    "ExecuteTime": {
     "end_time": "2024-04-10T09:52:00.388616Z",
     "start_time": "2024-04-10T09:51:53.869687Z"
    },
    "run_control": {
     "marked": true
    }
   },
   "outputs": [],
   "source": [
    "import random\n",
    "random.seed(7)\n",
    "\n",
    "df_info_virusID = df_info_g.set_index(\"virus_ID\")\n",
    "\n",
    "df_virus_ID.loc[df_virus_ID[\"Segment\"].isnull(), \"Segment\"] = \"unassigned\"\n",
    "\n",
    "index_l = []\n",
    "for virus_ID in df_virus_ID[\"virus_ID\"].unique():\n",
    "    count = df_info_virusID.loc[virus_ID, \"count\"]\n",
    "    df = df_virus_ID[df_virus_ID[\"virus_ID\"] == virus_ID]\n",
    "    if count < 4:\n",
    "        index_l.extend(df.index.tolist())\n",
    "    else:\n",
    "        for segment in df[\"Segment\"].unique():\n",
    "            df_1 = df[df[\"Segment\"] == segment]\n",
    "            df_1 = df_1.sort_values(\"Length\", ascending=False)\n",
    "            l = df_1.index.tolist()[:2]\n",
    "            index_l.extend(l)\n",
    "    \n",
    "#             if virus_ID == \"Arenaviridae;681\":\n",
    "#                 print (segment, l)\n",
    "\n",
    "df_sampled = df_virus_ID.iloc[index_l, :]"
   ]
  },
  {
   "cell_type": "markdown",
   "metadata": {},
   "source": [
    "## check no. of segment sequences for each virus strain"
   ]
  },
  {
   "cell_type": "code",
   "execution_count": 17,
   "metadata": {
    "ExecuteTime": {
     "end_time": "2024-04-10T09:52:47.925920Z",
     "start_time": "2024-04-10T09:52:47.624052Z"
    }
   },
   "outputs": [
    {
     "data": {
      "text/plain": [
       "<Axes: xlabel='segment', ylabel='Count'>"
      ]
     },
     "execution_count": 17,
     "metadata": {},
     "output_type": "execute_result"
    },
    {
     "data": {
      "image/png": "[encoded data removed]",
      "text/plain": [
       "<Figure size 640x480 with 1 Axes>"
      ]
     },
     "metadata": {},
     "output_type": "display_data"
    }
   ],
   "source": [
    "sns.histplot(data=df_sampled, x=\"segment\", hue=\"host_label\", multiple=\"stack\")"
   ]
  },
  {
   "cell_type": "markdown",
   "metadata": {},
   "source": [
    "## check sequence lengths"
   ]
  },
  {
   "cell_type": "code",
   "execution_count": 19,
   "metadata": {
    "ExecuteTime": {
     "end_time": "2024-04-10T09:53:18.091991Z",
     "start_time": "2024-04-10T09:53:17.635039Z"
    },
    "scrolled": true
   },
   "outputs": [
    {
     "data": {
      "text/plain": [
       "<Axes: xlabel='Length', ylabel='Count'>"
      ]
     },
     "execution_count": 19,
     "metadata": {},
     "output_type": "execute_result"
    },
    {
     "data": {
      "image/png": "[encoded data removed]",
      "text/plain": [
       "<Figure size 640x480 with 1 Axes>"
      ]
     },
     "metadata": {},
     "output_type": "display_data"
    }
   ],
   "source": [
    "sns.histplot(data=df_sampled, x=\"Length\", hue=\"host_label\", multiple=\"stack\")"
   ]
  },
  {
   "cell_type": "markdown",
   "metadata": {},
   "source": [
    "## extract >500-bp sequences"
   ]
  },
  {
   "cell_type": "code",
   "execution_count": 20,
   "metadata": {
    "ExecuteTime": {
     "end_time": "2024-04-10T09:55:16.147419Z",
     "start_time": "2024-04-10T09:55:16.128774Z"
    }
   },
   "outputs": [],
   "source": [
    "df_sampled_length = df_sampled[df_sampled[\"Length\"] > 500]"
   ]
  },
  {
   "cell_type": "markdown",
   "metadata": {},
   "source": [
    "## collection date of viral data"
   ]
  },
  {
   "cell_type": "code",
   "execution_count": 24,
   "metadata": {
    "ExecuteTime": {
     "end_time": "2024-04-10T09:59:51.083540Z",
     "start_time": "2024-04-10T09:59:50.708814Z"
    },
    "scrolled": true
   },
   "outputs": [
    {
     "data": {
      "text/plain": [
       "<Axes: xlabel='collection_year', ylabel='Count'>"
      ]
     },
     "execution_count": 24,
     "metadata": {},
     "output_type": "execute_result"
    },
    {
     "data": {
      "image/png": "[encoded data removed]",
      "text/plain": [
       "<Figure size 640x480 with 1 Axes>"
      ]
     },
     "metadata": {},
     "output_type": "display_data"
    }
   ],
   "source": [
    "import datetime\n",
    "def extract_year(c_date, r_date):\n",
    "    if re.fullmatch(r'[0-9]{4}', date):\n",
    "        year = date\n",
    "    elif \"-\" in str(date):\n",
    "        year = date.split(\"-\")[0]\n",
    "    else:\n",
    "        pass\n",
    "    return (year)\n",
    "        \n",
    "df_sampled_length = df_sampled_length.astype({\"Collection_Date\":str})\n",
    "df_sampled_length[\"collection_year\"] = pd.to_datetime(df_sampled_length[\"Collection_Date\"], utc=True).dt.year\n",
    "df_sampled_length.loc[df_sampled_length[\"collection_year\"].isnull(), \n",
    "                  \"collection_year\"] = pd.to_datetime(df_sampled_length[\"Release_Date\"], utc=True).dt.year\n",
    "\n",
    "sns.histplot(data=df_sampled_length, x=\"collection_year\", hue=\"host_label\", multiple=\"stack\")"
   ]
  },
  {
   "cell_type": "markdown",
   "metadata": {},
   "source": [
    "# Divided data into the Past and Future Viral Datasets"
   ]
  },
  {
   "cell_type": "code",
   "execution_count": 25,
   "metadata": {
    "ExecuteTime": {
     "end_time": "2024-04-10T09:59:52.372225Z",
     "start_time": "2024-04-10T09:59:52.360706Z"
    }
   },
   "outputs": [],
   "source": [
    "df_sampled_length[\"dataset\"] = \"known\"\n",
    "df_sampled_length.loc[df_sampled_length[\"collection_year\"] >= 2018, \"dataset\"] = \"unknown\""
   ]
  },
  {
   "cell_type": "code",
   "execution_count": 26,
   "metadata": {
    "ExecuteTime": {
     "end_time": "2024-04-10T10:00:01.547079Z",
     "start_time": "2024-04-10T10:00:01.519080Z"
    }
   },
   "outputs": [
    {
     "data": {
      "text/html": [
       "<div>\n",
       "<style scoped>\n",
       "    .dataframe tbody tr th:only-of-type {\n",
       "        vertical-align: middle;\n",
       "    }\n",
       "\n",
       "    .dataframe tbody tr th {\n",
       "        vertical-align: top;\n",
       "    }\n",
       "\n",
       "    .dataframe thead th {\n",
       "        text-align: right;\n",
       "    }\n",
       "</style>\n",
       "<table border=\"1\" class=\"dataframe\">\n",
       "  <thead>\n",
       "    <tr style=\"text-align: right;\">\n",
       "      <th></th>\n",
       "      <th></th>\n",
       "      <th>seq_no</th>\n",
       "    </tr>\n",
       "    <tr>\n",
       "      <th>dataset</th>\n",
       "      <th>host_label</th>\n",
       "      <th></th>\n",
       "    </tr>\n",
       "  </thead>\n",
       "  <tbody>\n",
       "    <tr>\n",
       "      <th rowspan=\"2\" valign=\"top\">known</th>\n",
       "      <th>0</th>\n",
       "      <td>4768</td>\n",
       "    </tr>\n",
       "    <tr>\n",
       "      <th>1</th>\n",
       "      <td>473</td>\n",
       "    </tr>\n",
       "    <tr>\n",
       "      <th rowspan=\"2\" valign=\"top\">unknown</th>\n",
       "      <th>0</th>\n",
       "      <td>789</td>\n",
       "    </tr>\n",
       "    <tr>\n",
       "      <th>1</th>\n",
       "      <td>295</td>\n",
       "    </tr>\n",
       "  </tbody>\n",
       "</table>\n",
       "</div>"
      ],
      "text/plain": [
       "                    seq_no\n",
       "dataset host_label        \n",
       "known   0             4768\n",
       "        1              473\n",
       "unknown 0              789\n",
       "        1              295"
      ]
     },
     "execution_count": 26,
     "metadata": {},
     "output_type": "execute_result"
    }
   ],
   "source": [
    "df_sampled_length.groupby([\"dataset\", \"host_label\"]).agg(seq_no=(\"virus_ID\", \"nunique\"))"
   ]
  },
  {
   "cell_type": "markdown",
   "metadata": {},
   "source": [
    "# output"
   ]
  },
  {
   "cell_type": "code",
   "execution_count": 51,
   "metadata": {
    "ExecuteTime": {
     "end_time": "2024-04-10T08:46:53.109001Z",
     "start_time": "2024-04-10T08:46:53.009488Z"
    }
   },
   "outputs": [],
   "source": [
    "output_f = \"/\".join(map(str, [\"output_examples\", virus_family + \".curated.csv\"]))\n",
    "\n",
    "df_info_2.to_csv(output_f, sep=\"\\t\", index=False)"
   ]
  },
  {
   "cell_type": "code",
   "execution_count": null,
   "metadata": {},
   "outputs": [],
   "source": []
  }
 ],
 "metadata": {
  "kernelspec": {
   "display_name": "env_210819",
   "language": "python",
   "name": "env_210819"
  },
  "language_info": {
   "codemirror_mode": {
    "name": "ipython",
    "version": 3
   },
   "file_extension": ".py",
   "mimetype": "text/x-python",
   "name": "python",
   "nbconvert_exporter": "python",
   "pygments_lexer": "ipython3",
   "version": "3.9.18"
  },
  "toc": {
   "base_numbering": 1,
   "nav_menu": {},
   "number_sections": true,
   "sideBar": true,
   "skip_h1_title": false,
   "title_cell": "Table of Contents",
   "title_sidebar": "Contents",
   "toc_cell": true,
   "toc_position": {
    "height": "calc(100% - 180px)",
    "left": "10px",
    "top": "150px",
    "width": "187px"
   },
   "toc_section_display": true,
   "toc_window_display": true
  }
 },
 "nbformat": 4,
 "nbformat_minor": 4
}
